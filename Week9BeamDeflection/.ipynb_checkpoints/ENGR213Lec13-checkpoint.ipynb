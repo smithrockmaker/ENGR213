{
 "cells": [
  {
   "cell_type": "markdown",
   "id": "5b8f0cc1",
   "metadata": {},
   "source": [
    "## ENGR 213 Lecture Notes\n",
    "\n",
    "### Lecture 13\n",
    "#### Stress Transformation:\n",
    "\n",
    "Over the last weeks we have considered the internal stresses in a beam under load. Before that we explored the behavior of materials through their elastic region to yielding and failure when experiencing normal or shear stresses. What we need to consider now is the more complex question of failure of materials when they are subject to a mix of planar stresses. Generally this will expressed as two potential normal stresses at right angles to each other and a single shear stress. From this information we can determine the direction along which the material of the beam will feel the maximum normal and shear stresses. We can also determine the normal and shear stresses along an arbitrary direction that may be important due to a weld seam or the grain of the wood.\n",
    "\n",
    "This process of taking the known stresses and determining their effect along different directions is called stress transformation. In it's most direct form it is much like doing a freebody diagram and setting the net forces equal to zero. Before the advent of computers engineers often used Mohr's Circle to do these calculations. We will explore Mohr's Circle in a number of ways."
   ]
  },
  {
   "cell_type": "markdown",
   "id": "1c35f6a5",
   "metadata": {},
   "source": [
    "### Planar Stress Cube:\n",
    "\n",
    "For the purposes of this class we are addressing stresses that occur in a plane rather than the full generality of 3D stresses. Planar stress settings are much more common in general engineering practice than complex 3D stresses. I would expect that aerospace engineering to be an exception to this statement.\n",
    "\n",
    "In the image below illustrates the stresses on a cube of the material under load. The left hand cube is subject to the most general stress which includes three normal stress (one along each axis) and 3 shear stresses (two on each face that are equal to various shear stresses on other faces. \n",
    "\n",
    "When we limit the stress to occur in a plane we get the cube (in cross section) illustrated on the right. Here there are two normal stresses (remember Poisson's ratio?) and a shear stress which is the same along each pair of faces. Remember that shear strain is described by the deformation angle which will be the same along the two directions if you consider the geometry.\n",
    "\n",
    "<img src=\"https://raw.githubusercontent.com/smithrockmaker/ENGR213/main/images/stressGeneral3D.gif\" width=\"500\"/>\n",
    "\n",
    ".$$ \\large \\kappa = \\frac{1}{\\rho} = \\frac{d^2v}{dx^2}$$\n"
   ]
  },
  {
   "cell_type": "markdown",
   "id": "90764763",
   "metadata": {},
   "source": [
    "### 'Simple' Example: Pure Normal Stress - 1 axis\n",
    "\n",
    "<img src=\"https://raw.githubusercontent.com/smithrockmaker/ENGR213/main/images/stressCube.png\" width=\"400\"/>"
   ]
  },
  {
   "cell_type": "markdown",
   "id": "b3ac6af6",
   "metadata": {},
   "source": [
    ".$$ \\large \\kappa = \\frac{1}{\\rho} = \\frac{d^2v}{dx^2}$$\n",
    "\n",
    "If we go back to Lecture 8 in Week 6 you might remember that the strain in a beam is given by...\n",
    "\n",
    ".$$ \\large \\epsilon_x = -\\frac{y}{\\rho}$$"
   ]
  }
 ],
 "metadata": {
  "kernelspec": {
   "display_name": "Python 3",
   "language": "python",
   "name": "python3"
  },
  "language_info": {
   "codemirror_mode": {
    "name": "ipython",
    "version": 3
   },
   "file_extension": ".py",
   "mimetype": "text/x-python",
   "name": "python",
   "nbconvert_exporter": "python",
   "pygments_lexer": "ipython3",
   "version": "3.8.5"
  }
 },
 "nbformat": 4,
 "nbformat_minor": 5
}
