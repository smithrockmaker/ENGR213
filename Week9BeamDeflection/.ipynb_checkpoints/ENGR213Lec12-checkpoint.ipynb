{
 "cells": [
  {
   "cell_type": "markdown",
   "id": "6c0b22a6",
   "metadata": {},
   "source": [
    "## ENGR 213 Lecture Notes\n",
    "\n",
    "### Lecture 12\n",
    "#### Beam Deflection:\n",
    "\n",
    "In the early stages of engineering analysis we assume that the beams are infinitely rigid and only change length due to axial loads or thermal strain. As we have developed a more subtle understanding of the internal loads on beams we can now determine the transverse deformation of the beam under load. In many settings there are constraints on the allowed deflection of beams under load. \n",
    "\n",
    "Initially the deflection of beams is a geometry problem but ultimately it becomes a differential equation constrained by boundary conditions. "
   ]
  },
  {
   "cell_type": "markdown",
   "id": "d30c8941",
   "metadata": {},
   "source": [
    "### Geometry: Radius of Curvature\n",
    "\n",
    "The general expression for the radius of curvature as a function of the displacement of the line is well covered by the [wiki page](https://en.wikipedia.org/wiki/Radius_of_curvature). Because we are considering beams where the deflection is generally quite small compared to the length of the beam there are a number of useful simplifications we can make.\n",
    "\n",
    "This image ([thanks to the University of Cambridge for the Creative Commons licensing](https://doitpoms.ac.uk/tlplib/thermal-expansion/derivation1.php) lays out the core features of small deflections. The specific case illustrated is a simple cantilevered beam loaded on the end. If we think of the deflection of the beam as a function y(x) (in Vable he calls this function v(x)) then the important relationship is the one on the bottom right of the image. Because the potential for confusion I will use Vable's notation of v(x).\n",
    "<img src=\"https://raw.githubusercontent.com/smithrockmaker/ENGR213/main/images/deflectionGeometry.jpg\" width=\"500\"/>\n",
    "\n",
    ".$$ \\large \\kappa = \\frac{1}{\\rho} = \\frac{d^2v}{dx^2}$$\n",
    "\n",
    "If we go back to Lecture 8 in Week 6 you might remember that the strain in a beam is given by...\n",
    "\n",
    ".$$ \\large \\epsilon_x = -\\frac{y}{\\rho}$$\n",
    "\n",
    "Be careful - in this expression y represents the distance from the neutral axis which is different than the deflection fucntion v(x). Within the elastic range of the material of the beam we know that $\\sigma = E\\: \\epsilon$ which allows us to say...\n"
   ]
  },
  {
   "cell_type": "markdown",
   "id": "7379515d",
   "metadata": {},
   "source": [
    ".$$ \\large \\sigma_x = -E\\: y\\:\\frac{d^2v}{dx^2}$$\n",
    "\n",
    "Also from Lecture 8 we noted that...\n",
    "\n",
    ".$$\\large M = -\\int_{area}y\\:\\sigma_x \\: dA$$\n",
    "\n",
    "Putting these last two expressions together we get\n",
    "\n",
    ".$$\\large M = -\\int_{area}y\\:[-E\\: y\\:\\frac{d^2v}{dx^2}]\\: dA = E\\frac{d^2v}{dx^2}\\int_{area}y^2\\: dA$$\n",
    "\n",
    "Remembering that...\n",
    "\n",
    ".$$\\large I =\\int_{area}y^2\\: dA$$\n",
    "\n",
    "...we arrive at....\n",
    "\n",
    ".$$\\large M = E\\frac{d^2v}{dx^2}I$$\n",
    "\n",
    "..or...\n",
    "\n",
    ".$$\\large \\frac{d^2v(x)}{dx^2}= \\frac{M(x)}{EI}$$\n",
    "\n",
    "..where the x dependence of v(x) and M(x) is explicity indicated."
   ]
  },
  {
   "cell_type": "markdown",
   "id": "fbbcdf85",
   "metadata": {},
   "source": [
    "### The Differential Equation:\n",
    "\n",
    "This is 'merely' a 2nd order differential equation. In the case of the cantilevered beam the shear diagram is constant at F (the load at the end). Sorting out the reactions and measuring x from the wall end of them beam you can show that..\n",
    "\n",
    ".$$\\large M = -F(L-x)$$\n",
    "\n",
    "...which we can substitute into our differential equation to get...\n",
    "\n",
    ".$$\\large \\frac{d^2v(x)}{dx^2}= \\frac{-F(L-x)}{EI} =  \\frac{-F}{EI}(L-x)$$\n",
    "\n",
    "If we now separate variables and integrate we have....\n",
    "\n",
    ".$$\\large \\int d(\\frac{dv}{dx}) = \\frac{dv}{dx} = \\frac{-F}{EI}\\int(L-x)\\: dx = \\frac{-F}{EI}(Lx - \\frac{x^2}{2}) + C_1$$\n",
    "\n",
    "Assuming that the cantilevered beam is level (flat) where it hits the wall the we have a boundary condition that $\\frac{dv}{dx}|_{x=0} = 0$\n",
    "\n",
    ".$$\\frac{dv}{dx}|_{x=0} = 0$$\n",
    "\n",
    "A quick substitution and we can see that $C_1 =0$ which leads to....\n",
    "\n",
    ".$$\\large \\frac{dv}{dx} = \\frac{-F}{EI}(Lx - \\frac{x^2}{2})$$"
   ]
  },
  {
   "cell_type": "markdown",
   "id": "518d8fd5",
   "metadata": {},
   "source": [
    "Repeating the same process we find...\n",
    "\n",
    ".$$\\large v(x) = \\frac{-F}{EI}(\\frac{Lx^2}{2} - \\frac{x^3}{6})+ C_2$$\n",
    "\n",
    "Again we have a boundary condition that $v(x)|_{x=0} = 0$ (no displacement at the wall) which requires that $C_2 =0$ as well.\n",
    "\n",
    "Our final result is (with some simplification)...\n",
    "\n",
    ".$$\\large v(x) = \\frac{-F\\: x^2}{6EI}(3L - x)$$\n",
    "\n",
    "The minus (-) sign just means the beam is deflected downwards which we expect. "
   ]
  },
  {
   "cell_type": "markdown",
   "id": "7aec55da",
   "metadata": {},
   "source": [
    "### Boundary Conditions:\n",
    "\n",
    "When we work with 2nd order differential equations we will need 2 boundary conditions or constraints to determine the 'integration constants'. In the case of beams these are often a constraint on the displacement (v(x)) of the beam at some point along with it's slope ($\\frac{dv}{dx}$ at some location. The above example is typical. \n",
    "\n",
    "3rd and 4th order differential equations will require 3 and 4 constraints respectively to nail down the various constants. You'll see why we need to keep this in our consciousness as we move forward."
   ]
  },
  {
   "cell_type": "markdown",
   "id": "f146780a",
   "metadata": {},
   "source": [
    "### Other Forms of the Beam Deflection DE:\n",
    "\n",
    "As we are prone to do in science and engineering we can ask what happens if I consider the derivative of the previous beam deflection DE. \n",
    "\n",
    ".$$\\large \\frac{d}{dx} (\\frac{d^2v(x)}{dx^2})= \\frac{1}{EI}\\frac{dM(x)}{dx}$$\n",
    "\n",
    "As we have noticed in our shear and moment diagrams $\\frac{dM(x)}{dx} = V(x)$ which means....\n",
    "\n",
    ".$$\\large \\frac{d^3v(x)}{dx^3})= \\frac{V(x)}{EI}$$\n",
    "\n",
    "Be careful to distinguish between the V(x), the transverse shear force as a function of position, and v(x), the deflection of the beam as a function of position. A relationship we haven't discussed a lot but which is relatively easy to demonstrate is...\n",
    "\n",
    ".$$\\large w(x) = \\frac{dV(x)}{dx}$$\n",
    "\n",
    "...where w(x) is the position dependent distributed load. This suggests we could take one more derivative of the deflection DE to get...\n",
    "\n",
    ".$$\\large \\frac{d^4v(x)}{dx^4})= \\frac{w(x)}{EI}$$\n",
    "\n",
    "Here are the three versions of the deflection DE collected together....\n",
    "\n",
    ".$$\\large \\frac{d^2v(x)}{dx^2}= \\frac{M(x)}{EI}$$\n",
    "\n",
    ".$$\\large \\frac{d^3v(x)}{dx^3})= \\frac{V(x)}{EI}$$\n",
    "\n",
    ".$$\\large \\frac{d^4v(x)}{dx^4})= \\frac{w(x)}{EI}$$\n",
    "\n",
    "Depending on the information available one of these DE's may be slightly easier work with although they all boil down to the first one."
   ]
  },
  {
   "cell_type": "markdown",
   "id": "f043c841",
   "metadata": {},
   "source": [
    "### More Typical:\n",
    "\n",
    "While you can certainly calculate beam deflections by hand you will find that you often use a beam deflection table since many typical beam loadings and support types have been built into a useful reference table like that below. Beam deflection tables are common in many engineering texts as well as on [engineering websites](https://mechanicalc.com/reference/beam-deflection-tables).\n",
    "\n",
    "<img src=\"https://raw.githubusercontent.com/smithrockmaker/ENGR213/main/images/deflectionTable.png\" width=\"800\"/>"
   ]
  },
  {
   "cell_type": "markdown",
   "id": "ce1b0c5d",
   "metadata": {},
   "source": [
    "### Non Uniform Beam Cross Section:\n",
    "\n",
    "In the event that the beam has a non uniform cross section but is still constructed of a single material the 2nd moment of inertia (I) will also be position dependent. 'All this does' is make the right hand side of the differential equation more complicated because both M and I are dependent on x. "
   ]
  },
  {
   "cell_type": "markdown",
   "id": "a2ddb703",
   "metadata": {},
   "source": [
    "### More Complex Beam Loading:\n",
    "\n",
    "For more complex beam loading we will need to solve a separate differential equation for each section of the beam which has a distinct loading. Like math problems you have been doing for years this means that you will solve the differential equation for the deflection of the beam in each section of the beam. Because the beam is continuous you can assume that both the deflection and the slope of the beam at the boundary between two regions are equal. In the example problem below notice the statement of the boundary conditions between the unloaded section (AC) and distributed load section (BC).\n",
    "\n",
    "<img src=\"https://raw.githubusercontent.com/smithrockmaker/ENGR213/main/images/deflectionBoundary.png\" width=\"600\"/>\n",
    "\n",
    "Again, it's just more complicated mathematically but the conceptual process is unchanged."
   ]
  },
  {
   "cell_type": "code",
   "execution_count": null,
   "id": "29838765",
   "metadata": {},
   "outputs": [],
   "source": []
  }
 ],
 "metadata": {
  "kernelspec": {
   "display_name": "Python 3",
   "language": "python",
   "name": "python3"
  },
  "language_info": {
   "codemirror_mode": {
    "name": "ipython",
    "version": 3
   },
   "file_extension": ".py",
   "mimetype": "text/x-python",
   "name": "python",
   "nbconvert_exporter": "python",
   "pygments_lexer": "ipython3",
   "version": "3.8.5"
  }
 },
 "nbformat": 4,
 "nbformat_minor": 5
}
