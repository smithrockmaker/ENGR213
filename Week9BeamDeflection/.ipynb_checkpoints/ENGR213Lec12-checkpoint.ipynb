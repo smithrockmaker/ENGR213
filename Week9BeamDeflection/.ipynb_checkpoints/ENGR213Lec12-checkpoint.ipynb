{
 "cells": [
  {
   "cell_type": "markdown",
   "id": "f5038631",
   "metadata": {},
   "source": [
    "## ENGR 213 Lecture Notes\n",
    "\n",
    "### Lecture 12\n",
    "#### Beam Deflection:\n",
    "\n",
    "In the early stages of engineering analysis we assume that the beams are infinitely rigid and only change length due to axial loads or thermal strain. As we have developed a more subtle understanding of the internal loads on beams we can now determine the transverse deformation of the beam under load. In many settings there are constraints on the allowed deflection of beams under load. \n",
    "\n",
    "Initially the deflection of beams is a geometry problem but ultimately it becomes a differential equation constrained by boundary conditions. "
   ]
  },
  {
   "cell_type": "markdown",
   "id": "86cf68a5",
   "metadata": {},
   "source": [
    "### Geometry: Radius of Curvature\n",
    "\n",
    "The general expression for the radius of curvature as a function of the displacement of the line is well covered by the [wiki page](https://en.wikipedia.org/wiki/Radius_of_curvature). Because we are considering beams where the deflection is generally quite small compared to the length of the beam there are a number of useful simplifications we can make.\n",
    "\n",
    "This image ([thanks to the University of Cambridge for the Creative Commons licensing](https://doitpoms.ac.uk/tlplib/thermal-expansion/derivation1.php) lays out the core features of small deflections. The specific case illustrated is a simple cantilevered beam loaded on the end. If we think of the deflection of the beam as a function y(x) (in Vable he calls this function v(x)) then the important relationship is the one on the bottom right of the image.  \n",
    "<img src=\"https://raw.githubusercontent.com/smithrockmaker/ENGR213/main/images/deflectionGeometry.png\" width=\"600\"/>\n",
    "\n",
    ".$$ \\large \\kappa = \\frac{1}{\\rho} = \\frac{d^2y}{dx^2}$$\n",
    "\n",
    "If we go back to Lecture 8 in Week 6 you might remember that the strain in a beam is given by...\n",
    "\n",
    ".$$ \\large \\epsilon_x = -\\frac{y}{\\rho}$$"
   ]
  },
  {
   "cell_type": "markdown",
   "id": "8b4e070b",
   "metadata": {},
   "source": [
    "### Example: Box Beam (Nailed)\n",
    "\n",
    "Example 6.18 in Vable is clearly a classic since it pops up in lots of other texts as well. "
   ]
  }
 ],
 "metadata": {
  "kernelspec": {
   "display_name": "Python 3",
   "language": "python",
   "name": "python3"
  },
  "language_info": {
   "codemirror_mode": {
    "name": "ipython",
    "version": 3
   },
   "file_extension": ".py",
   "mimetype": "text/x-python",
   "name": "python",
   "nbconvert_exporter": "python",
   "pygments_lexer": "ipython3",
   "version": "3.8.5"
  }
 },
 "nbformat": 4,
 "nbformat_minor": 5
}
