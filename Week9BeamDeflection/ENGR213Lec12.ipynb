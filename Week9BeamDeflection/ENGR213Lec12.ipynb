{
 "cells": [
  {
   "cell_type": "markdown",
   "id": "05ead39f",
   "metadata": {},
   "source": [
    "## ENGR 213 Lecture Notes\n",
    "\n",
    "### Lecture 12\n",
    "#### Beam Deflection:\n",
    "\n",
    "In the early stages of engineering analysis we assume that the beams are infinitely rigid and only change length due to axial loads or thermal strain. As we have developed a more subtle understanding of the internal loads on beams we can now determine the transverse deformation of the beam under load. In many settings there are constraints on the allowed deflection of beams under load. \n",
    "\n",
    "Initially the deflection of beams is a geometry problem but ultimately it becomes a differential equation constrained by boundary conditions. "
   ]
  },
  {
   "cell_type": "markdown",
   "id": "83d31fee",
   "metadata": {},
   "source": [
    "### Geometry: Radius of Curvature\n",
    "\n",
    "The general expression for the radius of curvature as a function of the displacement of the line is well covered by the [wiki page](https://en.wikipedia.org/wiki/Radius_of_curvature). Because we are considering beams where the deflection is generally quite small compared to the length of the beam there are a number of useful simplifications we can make.\n",
    "\n",
    "This image ([thanks to the University of Cambridge for the Creative Commons licensing](https://doitpoms.ac.uk/tlplib/thermal-expansion/derivation1.php) lays out the core features of small deflections. The specific case illustrated is a simple cantilevered beam loaded on the end. If we think of the deflection of the beam as a function y(x) (in Vable he calls this function v(x)) then the important relationship is the one on the bottom right of the image. Because the potential for confusion I will use Vable's notation of v(x).\n",
    "<img src=\"https://raw.githubusercontent.com/smithrockmaker/ENGR213/main/images/deflectionGeometry.png\" width=\"600\"/>\n",
    "\n",
    ".$$ \\large \\kappa = \\frac{1}{\\rho} = \\frac{d^2v}{dx^2}$$\n",
    "\n",
    "If we go back to Lecture 8 in Week 6 you might remember that the strain in a beam is given by...\n",
    "\n",
    ".$$ \\large \\epsilon_x = -\\frac{y}{\\rho}$$\n",
    "\n",
    "Be careful - in this expression y represents the distance from the neutral axis which is different than the deflection fucntion v(x). Within the elastic range of the material of the beam we know that $\\sigma = E\\: \\epsilon$ which allows us to say...\n"
   ]
  },
  {
   "cell_type": "markdown",
   "id": "1f3611e3",
   "metadata": {},
   "source": [
    ".$$ \\large \\sigma_x = -E\\: y\\:\\frac{d^2v}{dx^2}$$\n",
    "\n",
    "Also from Lecture 8 we noted that...\n",
    "\n",
    ".$$\\large M = -\\int_{area}y\\:\\sigma_x \\: dA$$\n",
    "\n",
    "Putting these last two expressions together we get\n",
    "\n",
    ".$$\\large M = -\\int_{area}y\\:[-E\\: y\\:\\frac{d^2v}{dx^2}]\\: dA = E\\frac{d^2v}{dx^2}\\int_{area}y^2\\: dA$$\n",
    "\n",
    "Remembering that...\n",
    "\n",
    ".$$\\large I =\\int_{area}y^2\\: dA$$\n",
    "\n",
    "...we arrive at....\n",
    "\n",
    ".$$\\large M = E\\frac{d^2v}{dx^2}I$$\n",
    "\n",
    "..or...\n",
    "\n",
    ".$$\\large \\frac{d^2v(x)}{dx^2}= \\frac{M(x)}{EI}$$\n",
    "\n",
    "..where the x dependence of v(x) and M(x) is e"
   ]
  },
  {
   "cell_type": "markdown",
   "id": "64addf56",
   "metadata": {},
   "source": [
    "### Example: Box Beam (Nailed)\n",
    "\n",
    "Example 6.18 in Vable is clearly a classic since it pops up in lots of other texts as well. "
   ]
  }
 ],
 "metadata": {
  "kernelspec": {
   "display_name": "Python 3",
   "language": "python",
   "name": "python3"
  },
  "language_info": {
   "codemirror_mode": {
    "name": "ipython",
    "version": 3
   },
   "file_extension": ".py",
   "mimetype": "text/x-python",
   "name": "python",
   "nbconvert_exporter": "python",
   "pygments_lexer": "ipython3",
   "version": "3.8.5"
  }
 },
 "nbformat": 4,
 "nbformat_minor": 5
}
