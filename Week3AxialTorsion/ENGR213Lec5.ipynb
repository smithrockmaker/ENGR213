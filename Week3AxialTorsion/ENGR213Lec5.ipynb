{
 "cells": [
  {
   "cell_type": "markdown",
   "metadata": {},
   "source": [
    "## ENGR 213 Lecture Notes\n",
    "\n",
    "### Lecture 5\n",
    "#### Chapter 4 in Vable\n",
    "\n",
    "At this point we have the relationships between stress and strain worked out along with an understanding of the stress-strain curves for various materials. Now we need to apply these tools various engineering settings. Not surprisingly we will start with a relatively simple setting where we are dealing with axial loads. Even though the loads are axial there are both shear and normal stresses to be considered depending on the particular surfaces we are interested in."
   ]
  },
  {
   "cell_type": "markdown",
   "metadata": {},
   "source": [
    "### Axial Loads:\n",
    "\n",
    "There are many engineering settings where the individual members that make up the 'machine' are essentially axial members and are only loaded axially. In this context if the member only varies along one axis and any loads on the member are directed along that same axis we have an axial member that is subject to axial loads.\n",
    "\n",
    "**NOTE:** Be clear that even though the loads are along the axis we will eventually see that the member might fail due to shear stress or normal stresses. Here we are only going to address axial deformations.\n",
    "\n",
    "What we are addiing to the discussion here is the possibility that the loads, the materials, and the cross section might vary along the axis of the member. \n"
   ]
  },
  {
   "cell_type": "markdown",
   "metadata": {},
   "source": [
    "### Most General Approach:\n",
    "\n",
    "Any axial member can be thought of as a 'stack' of very short elements. Here is a general picture...\n",
    "\n",
    "<img src=\"https://raw.githubusercontent.com/smithrockmaker/ENGR213/master/images/differentialAxialStrain.jpg\" width=\"600\"/>\n",
    "\n",
    "In this picture dx represents a short element of the column which has an area which is dependent on x, A(x), along with a normal force P(x) (or N(x)) which is also potential dependent on x. Because the material properties might be changing the modulus of elasticity is also potentially dependent on x - E(x)\n",
    "\n",
    "Remembering that the strain is given by...\n",
    "\n",
    ".$$\\large \\epsilon = \\frac{d\\delta}{dx} = \\frac{\\sigma}{E(x)} = \\frac{\\frac{N(x)}{A(x)}}{E(x)}$$\n",
    "\n",
    "...for elastic strain. Rearranging this expression we get....\n",
    "\n",
    ".$$\\large d\\delta = \\frac{\\sigma}{E(x)} = \\frac{N(x)\\: dx}{A(x)\\:E(x)}$$\n",
    "\n",
    "Integrating both sides as is our custom we get an expression for $\\delta$,the total change in length of the column.\n",
    "\n",
    ".$$\\large \\delta = \\int_0^L \\frac{N(x)\\: dx}{A(x)\\:E(x)}$$"
   ]
  },
  {
   "cell_type": "markdown",
   "metadata": {},
   "source": [
    "### Uniform Column:\n",
    "\n",
    "In the case of a uniform column (area, E, and N are all constant) this expression simplifies quite rapidly to \n",
    "\n",
    ".$$\\large \\delta = \\frac{N}{A\\:E} \\int_0^L dx = \\frac{N\\: L}{A\\:E}$$"
   ]
  },
  {
   "cell_type": "markdown",
   "metadata": {},
   "source": [
    "### Discrete Sections:\n",
    "\n",
    "For an axial member that is made of discrete sections like the one illustrated below we can break the integral up into sections.\n",
    "\n",
    "<img src=\"https://raw.githubusercontent.com/smithrockmaker/ENGR213/master/images/DiscreteSections.png\" width=\"600\"/>\n",
    "\n",
    ".$$\\large \\delta = \\int_A^{B} \\frac{N_{AB}(x)\\: dx}{A_{AB}(x)\\:E_{AB}(x)} + \\int_{B}^{C} \\frac{N_{BC}(x)\\: dx}{A_{BC}(x)\\:E_{BC}(x)} = \\int_{C}^{D} \\frac{N_{CD}(x)\\: dx}{A_{CD}(x)\\:E_{CD}(x)}$$\n",
    "\n",
    "...which is considerably more simple if each section has it's own constant properties. We get\n",
    "\n",
    ".$$\\large \\delta = \\frac{N_{AB}\\: L_{AB}}{A_{AB}\\:E_{AB}} + \\frac{N_{BC}\\: L_{BC}}{A_{BC}\\:E_{BC}}  = \\frac{N_{CD}\\: L_{CD}}{A_{CD}\\:E_{CD}} = \\delta_{AB} + \\delta_{BC} + \\delta_{CD} $$\n",
    "\n",
    "This is usually simplified to the following form...\n",
    "\n",
    ".$$\\large \\delta = \\sum_i\\frac{N_i\\: L_i}{A_i\\:E_i}$$\n",
    "\n",
    "This form assumes that in each section the material and the cross section are constant. The normal force is determined from freebody analysis for each section and may be compressive or tensile depending on the specific problem.\n"
   ]
  },
  {
   "cell_type": "markdown",
   "metadata": {},
   "source": [
    "### Statically Indeterminant:\n",
    "\n",
    "You explored the idea of statically indeterminant structure in ENGR 211. Usually these problems were over constrained in some why that meant you had more unknowns that equilibrium equations. The following is a standard truss that is statically indeterminant due to being over constrained.\n",
    "\n",
    "<img src=\"https://raw.githubusercontent.com/smithrockmaker/ENGR213/master/images/indeterminant1.gif\" width=\"600\"/>\n",
    "\n",
    "We define the **degree of redundancy** to be the number of unkown reactions minus the number of equilibrium equations. In the case of the truss above the degree of redundancy = 1. Both version of the next setting also have a degree of redundancy = 1.\n",
    "\n",
    "<img src=\"https://raw.githubusercontent.com/smithrockmaker/ENGR213/master/images/indeterminant2.png\" width=\"600\"/>\n",
    "\n",
    "Now consider this somewhat more complex frame. What is the degree of redundancy for this system?\n",
    "\n",
    "<img src=\"https://raw.githubusercontent.com/smithrockmaker/ENGR213/master/images/indeterminant3.png\" width=\"400\"/>\n",
    "\n",
    "Depending on whether the beam contacts post C there are 4 or 5 reaction forces which leads to a degree of redundancy of 1 or 2. Be sure you are clear why the pin at A only generates one unknown reaction force while the pin at O generates 2.\n",
    "\n",
    "**Degrees of Freedom:** The number of displacements that constrain the solution to the problems are called the number of degrees of freedom.\n",
    "\n",
    "**Compatibility Equations:** Geometric constraints on the behavior of the frame or machine. In principle the number of compatibility equations must equal the degree of redundancy for the problem to have a well defined solution.\n",
    "\n",
    "It is rumored that the relationship between the number of degrees of redundancy and the degrees of freedom indicates which technique we should use to solve the statically indeterminant problem."
   ]
  },
  {
   "cell_type": "markdown",
   "metadata": {},
   "source": [
    "### Problem Solving for Statically Indeterminant Problems:\n",
    "\n",
    "The textbooks distinguish two general approaches to these problems. To be honest I have a hard time distinguishing between the two methods. One is described as the displacement method and the other is called the force method:\n",
    "\n",
    "<img src=\"https://raw.githubusercontent.com/smithrockmaker/ENGR213/master/images/indetColumn.png\" width=\"200\"/>\n",
    "\n",
    "There are 2 reaction forces and one equilibrium equation ($\\sum \\bar{F}_y = 0$) meaning the setting is statically indeterminate and the degree of redundancy = 1. There is a single geometric constraint on the length of the column (1 compatibility equation) which matches the degree of redundancy. Here is a possible FBD for the column assuming both $F_A$ and $F_B$ are upwards.\n",
    "\n",
    "<img src=\"https://raw.githubusercontent.com/smithrockmaker/ENGR213/master/images/indetColumnFBD.png\" width=\"200\"/>\n",
    "\n",
    "Our equilibrium equation is (assuming up is ++)...\n",
    "\n",
    ".$$\\large F_A + F_B - 500 N = 0$$\n",
    "\n",
    "#### Starting from the displacements- Stiffness Method:\n",
    "\n",
    "One way to viualize this problem is to start from the perspective that the beam has to fit between the fixed points at A and B. If we divide the column at C we can imagine that the upper part of the column is in tension and the lower part is in compression. Given that the length of the column must fit in the 5 m we can write this constraint as...\n",
    "\n",
    ".$$\\large \\delta_{AB} = 0 = \\delta_{AC} - \\delta_{CB} = \\frac{N_{AB}\\: L_{AB}}{A_{AB}\\:E_{AB}} - \\frac{N_{BC}\\: L_{BC}}{A_{BC}\\:E_{BC}} $$\n",
    "\n",
    ".. where the second term is negative due to the compression. Since the denominators are the same we are left with (after some simplification)...\n",
    "\n",
    ".$$\\large 0 = F_A\\: (2m)- F_B\\:(3m) $$\n",
    "\n",
    "Solving this equation with the equilibrium equation yields...\n",
    "\n",
    ".$$\\large F_A = 300 N \\:, \\: F_B = 200 N$$\n",
    "\n",
    "#### Starting from Forces - Flexibility Method:\n",
    "\n",
    "In this method we remove a redudant reaction force individually and then consider the effect of just the removed force. We then use superposition to reach a result. Ultimately we have the same geometric constraint...\n",
    "\n",
    ".$$\\large \\delta_{AB} = 0 = \\delta_{no\\: F_B} - \\delta_{only \\: F_B} $$\n",
    "\n",
    "If $F_B$ is removed then the hanging column is only displaced due to the 500 N pulling down on the upper 2 m (assuming massless column). \n",
    "\n",
    ".$$\\large \\delta_{no\\: F_B} = \\frac{500\\: N (2\\:m)}{AE} $$\n",
    "\n",
    "Considering **ONLY** the effect of $F_B$ (compressive) we get....\n",
    "\n",
    ".$$\\large \\delta_{only\\: F_B} = \\frac{F_B\\: (5\\:m)}{AE} $$\n",
    "\n",
    ".$$\\large 0 = \\frac{500\\: N (2\\:m)}{AE} - \\frac{F_B\\: (5\\:m)}{AE} \\implies 0 = 500\\: N (2\\:m) - F_B\\: (5\\:m) $$\n",
    "\n",
    "This gets us the same place when combined with the equilibrium equation....\n",
    "\n",
    ".$$\\large F_B = 200 N \\: , \\: F_A = 300 N $$\n",
    "\n",
    "Same result, different approach."
   ]
  },
  {
   "cell_type": "markdown",
   "metadata": {},
   "source": [
    "### Another Example:\n",
    "\n",
    "Returning to an earlier example we start with this picture. In this example we are given that the bars A, B, and C are all steel with E  = 200 GPa. $L_A = 4m$,$L_B = 3m$, and $L_C = 2m$. All the bars have the same cross sectional area of $500\\: mm^2 = 5\\cdot 10^{-4}m^2$.\n",
    "\n",
    "<img src=\"https://raw.githubusercontent.com/smithrockmaker/ENGR213/master/images/indeterminant3.png\" width=\"400\"/>\n",
    "\n",
    "If we assume that the applied force (P = 150 kN) is enough to close the gap above column C then we have a number of geometric relationships we can develop. It helps to sketch an exaggerated picture of the displaced beam so it is clear what is going on.\n",
    "\n",
    "#### Equilibrium Equation(s):\n",
    "\n",
    "Considering the moments around O we get the following equilibrium equation:\n",
    "\n",
    ".$$\\large N_A\\: sin(50^{\\circ}) 5m + N_B\\: 9 m + N_C\\: 9 m - 150 kN\\: 12 m = 0$$\n",
    "\n",
    "Remember that we have two additional reaction forces at O for which we would need the equilibrium equations in x and y to solve. Setting aside a desire to determine the reactions at O we can see that we have one equation with 3 remaining unknowns. We have two locations where the geometry constrians the solution at D and E. The compatibility equations at those points will provide the additional equations we need.\n",
    "\n",
    "<img src=\"https://raw.githubusercontent.com/smithrockmaker/ENGR213/master/images/indetBeamFBD.png\" width=\"600\"/>"
   ]
  },
  {
   "cell_type": "markdown",
   "metadata": {},
   "source": [
    "#### Considering the Displacements - Stiffness Method:\n",
    "\n",
    "The two locations where the displacements constrain the behavior of the beam are at E (members B and C) and D (member A). \n",
    "\n",
    ".$$\\large \\delta_C = \\delta_B - 9 \\cdot 10^{-4} m$$\n",
    "\n",
    "The extension of member A at point D is a bit more complex due to the angle. The downward displacement of D can be found from similar triangles as..\n",
    "\n",
    ".$$\\large \\frac{\\delta_{D_{down}}}{5 m} = \\frac{\\delta_B}{9 m} $$\n",
    "\n",
    "Then from trig...\n",
    "\n",
    ".$$\\large \\delta_{A} = \\delta_{D_{down}}sin(50^{\\circ}) = \\frac{5}{9}\\delta_B \\: sin(50^{\\circ})$$\n",
    "\n",
    "Putting the numbers in for simplicity then...\n",
    "\n",
    ".$$\\large \\delta_A = 0.4256\\: \\delta_B$$\n",
    "\n",
    "Remembering that in a uniform column/beam the elongation $\\delta$ is given by...\n",
    "\n",
    ".$$\\large \\delta = \\frac{N\\: L}{A\\:E}$$"
   ]
  },
  {
   "cell_type": "markdown",
   "metadata": {},
   "source": [
    "Noting that A and E are consistent across all members we can precalculate the product to be $A \\: E = 200 GPa x 5\\cdot 10^{-4}m^2 = 100 MN$ (MegaNewtons). We can now determine the axial (normal) forces that produce the elongations we have expressed from the geometry.\n",
    "\n",
    ".$$\\large N_A = \\frac{A\\:E}{L_A} \\delta_A = \\frac{100 MN}{4m} \\delta_A = 25\\: MN\\: \\delta_A = 25 MN\\: (0.4256\\: \\delta_B)$$\n",
    "\n",
    ".$$\\large N_B = \\frac{A\\:E}{L_B} \\delta_B = \\frac{100 MN}{3m} \\delta_B = 33\\: MN\\: \\delta_B$$\n",
    "\n",
    ".$$\\large N_C = \\frac{A\\:E}{L_C} \\delta_C = \\frac{100 MN}{2m} \\delta_C = 50\\: MN\\: \\delta_C = 50\\: MN\\: (\\delta_B - 9 \\cdot 10^{-4} m)$$\n",
    "\n",
    "You will notice that we now have all the axial forces expressed in terms of a single variable. If we now plug these into the equilibrium equation we can solve for $\\delta_B$ and the problem will fall into place. **\"It's Just Math!**."
   ]
  },
  {
   "cell_type": "markdown",
   "metadata": {},
   "source": [
    "#### Considering the Forces - Flexibility Method:\n",
    "\n",
    "We have the same general starting point with the equilibrium equation and the geometric relationships (compatibility equations) between the elongations of the various members as collected below.\n",
    "\n",
    ".$$\\large N_A\\: sin(50^{\\circ}) 5m + N_B\\: 9 m + N_C\\: 9 m - 150 kN\\: 12 m = 0$$\n",
    "\n",
    ".$$\\large \\delta_C = \\delta_B - 9 \\cdot 10^{-4} m$$\n",
    "\n",
    ".$$\\large \\delta_A = 0.4256\\: \\delta_B$$\n",
    "\n",
    "Returning to our core concept for the elongation of a uniform column/beam...\n",
    "\n",
    ".$$\\large \\delta = \\frac{N\\: L}{A\\:E}$$\n",
    "\n",
    ".. we can express the elongations in terms of the axial forces thusly...\n",
    "\n",
    ".$$\\large \\delta_A = \\frac{N_A\\: L_A}{A\\:E} = \\frac{4m}{100 MN} N_A = 4\\cdot 10^{-8}\\: N_A m$$\n",
    "\n",
    ".$$\\large \\delta_B = \\frac{N_B\\: L_B}{A\\:E} = \\frac{3m}{100 MN} N_B = 3\\cdot 10^{-8}\\: N_B m$$\n",
    "\n",
    ".$$\\large \\delta_C = \\frac{N_C\\: L_C}{A\\:E} = \\frac{4m}{100 MN} N_A = 2\\cdot 10^{-8}\\: N_C m$$\n",
    "\n",
    "Substituting these into the 2 comapatibility equations we get...\n",
    "\n",
    ".$$\\large 4\\cdot 10^{-8}\\: N_A m = 0.4256\\: ( 3\\cdot 10^{-8}\\: N_B m)$$\n",
    "\n",
    ".$$\\large 2\\cdot 10^{-8}\\: N_C m = (3\\cdot 10^{-8}\\: N_B m) - 9 \\cdot 10^{-4} m$$\n",
    "\n",
    "These two equations plus the equilibrium equation have the same 3 unknowns so the system is solvable. **\"It's Just Math!**."
   ]
  },
  {
   "cell_type": "markdown",
   "metadata": {},
   "source": [
    "### Notes:\n",
    "\n",
    "What I see is that the starting place in both methods is the same. Determine the relevant equilibrium equation(s) first. Then assume the frame moves enough to impinge on any constraints. Write the geometric relationships between those assumed displacements which are the compatibility equations. Then decide whether to use our expression for the elongation of a member under axial forces to represent the displacements or whether to use the same expression to represent the axial forces. Either way you should end up with enough equations to solve the problem."
   ]
  },
  {
   "cell_type": "markdown",
   "metadata": {},
   "source": [
    "### Sample Problems:\n",
    "\n",
    "I have reproduced a couple of sample problems from different texts here. Ultimately it has been an exploration that has led to a slightly better sense of comfort for me but an increased anxiety for the struggles you are likely to feel. Hang in there....the HW problems are relatively straightforward compared to this last example."
   ]
  },
  {
   "cell_type": "markdown",
   "metadata": {},
   "source": [
    "***\n",
    "### Sample Problem: \n",
    "\n",
    ">A typical model for ....\n",
    "\n",
    "\n",
    "\n",
    "[Solution](https://github.com/smithrockmaker/ENGR213/blob/main/documents/SampleProb1-2.pdf)\n",
    "***"
   ]
  },
  {
   "cell_type": "code",
   "execution_count": null,
   "metadata": {},
   "outputs": [],
   "source": []
  },
  {
   "cell_type": "code",
   "execution_count": null,
   "metadata": {},
   "outputs": [],
   "source": []
  }
 ],
 "metadata": {
  "kernelspec": {
   "display_name": "Python 3",
   "language": "python",
   "name": "python3"
  },
  "language_info": {
   "codemirror_mode": {
    "name": "ipython",
    "version": 3
   },
   "file_extension": ".py",
   "mimetype": "text/x-python",
   "name": "python",
   "nbconvert_exporter": "python",
   "pygments_lexer": "ipython3",
   "version": "3.8.5"
  }
 },
 "nbformat": 4,
 "nbformat_minor": 4
}
