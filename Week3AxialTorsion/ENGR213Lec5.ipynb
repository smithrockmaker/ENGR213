{
 "cells": [
  {
   "cell_type": "markdown",
   "metadata": {},
   "source": [
    "## ENGR 213 Lecture Notes\n",
    "\n",
    "### Lecture 5\n",
    "#### Chapter 4 in Vable\n",
    "\n",
    "At this point we have the relationships between stress and strain worked out along with an understanding of the stress-strain curves for various materials. Now we need to apply these tools various engineering settings. Not surprisingly we will start with a relatively simple setting where we are dealing with axial loads. Even though the loads are axial there are both shear and normal stresses to be considered depending on the particular surfaces we are interested in."
   ]
  },
  {
   "cell_type": "markdown",
   "metadata": {},
   "source": [
    "### Axial Loads:\n",
    "\n",
    "There are many engineering settings where the individual members that make up the 'machine' are essentially axial members and are only loaded axially. In this context if the member only varies along one axis and any loads on the member are directed along that same axis we have an axial member that is subject to axial loads.\n",
    "\n",
    "**NOTE:** Be clear that even though the loads are along the axis we will eventually see that the member might fail due to shear stress or normal stresses. Here we are only going to address axial deformations.\n",
    "\n",
    "What we are addiing to the discussion here is the possibility that the loads, the materials, and the cross section might vary along the axis of the member. \n"
   ]
  },
  {
   "cell_type": "markdown",
   "metadata": {},
   "source": [
    "### Most General Approach:\n",
    "\n",
    "Any axial \n",
    "\n",
    "Two variables are proportional if they have a linear relationship. In many stress strain diagrams there is a region at the 'begining' of the diagram where the relationship between the stress and the strain is linear. This is the proportional or linear region of behavior. The maximum stress for which the stress and strain are proportional is called the proportional limit and is labeled $\\sigma_P$. If the stress on the material never exceeds $\\sigma_P$ then the material will return to it's original length when it is unloaded following along the linear region of the diagram.\n",
    "\n",
    "<img src=\"https://raw.githubusercontent.com/smithrockmaker/ENGR213/master/images/SSproportional.png\" width=\"600\"/>"
   ]
  },
  {
   "cell_type": "markdown",
   "metadata": {},
   "source": [
    "### Sample Problems:\n",
    "\n",
    "Example 2.4: It's all about geometry:)  \n",
    "Section 2.4: Small angle approximation"
   ]
  },
  {
   "cell_type": "markdown",
   "metadata": {},
   "source": [
    "***\n",
    "### Sample Problem: \n",
    "\n",
    ">A typical model for ....\n",
    "\n",
    "\n",
    "\n",
    "[Solution](https://github.com/smithrockmaker/ENGR213/blob/main/documents/SampleProb1-2.pdf)\n",
    "***"
   ]
  },
  {
   "cell_type": "code",
   "execution_count": null,
   "metadata": {},
   "outputs": [],
   "source": []
  }
 ],
 "metadata": {
  "kernelspec": {
   "display_name": "Python 3",
   "language": "python",
   "name": "python3"
  },
  "language_info": {
   "codemirror_mode": {
    "name": "ipython",
    "version": 3
   },
   "file_extension": ".py",
   "mimetype": "text/x-python",
   "name": "python",
   "nbconvert_exporter": "python",
   "pygments_lexer": "ipython3",
   "version": "3.8.5"
  }
 },
 "nbformat": 4,
 "nbformat_minor": 4
}
