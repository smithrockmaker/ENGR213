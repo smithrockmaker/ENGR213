{
 "cells": [
  {
   "cell_type": "markdown",
   "metadata": {},
   "source": [
    "## ENGR 213 Lecture Notes\n",
    "\n",
    "### Lecture 5\n",
    "#### Chapter 4 in Vable\n",
    "\n",
    "At this point we have the relationships between stress and strain worked out along with an understanding of the stress-strain curves for various materials. Now we need to apply these tools various engineering settings. Not surprisingly we will start with a relatively simple setting where we are dealing with axial loads. Even though the loads are axial there are both shear and normal stresses to be considered depending on the particular surfaces we are interested in."
   ]
  },
  {
   "cell_type": "markdown",
   "metadata": {},
   "source": [
    "### Axial Loads:\n",
    "\n",
    "There are many engineering settings where the individual members that make up the 'machine' are essentially axial members and are only loaded axially. In this context if the member only varies along one axis and any loads on the member are directed along that same axis we have an axial member that is subject to axial loads.\n",
    "\n",
    "**NOTE:** Be clear that even though the loads are along the axis we will eventually see that the member might fail due to shear stress or normal stresses. Here we are only going to address axial deformations.\n",
    "\n",
    "What we are addiing to the discussion here is the possibility that the loads, the materials, and the cross section might vary along the axis of the member. \n"
   ]
  },
  {
   "cell_type": "markdown",
   "metadata": {},
   "source": [
    "### Most General Approach:\n",
    "\n",
    "Any axial member can be thought of as a 'stack' of very short elements. Here is a general picture...\n",
    "\n",
    "<img src=\"https://raw.githubusercontent.com/smithrockmaker/ENGR213/master/images/differentialAxialStrain.jpg\" width=\"600\"/>\n",
    "\n",
    "In this picture dx represents a short element of the column which has an area which is dependent on x, A(x), along with a normal force P(x) (or N(x)) which is also potential dependent on x. Because the material properties might be changing the modulus of elasticity is also potentially dependent on x - E(x)\n",
    "\n",
    "Remembering that the strain is given by...\n",
    "\n",
    ".$$\\large \\epsilon = \\frac{d\\delta}{dx} = \\frac{\\sigma}{E(x)} = \\frac{\\frac{N(x)}{A(x)}}{E(x)}$$\n",
    "\n",
    "...for elastic strain. Rearranging this expression we get....\n",
    "\n",
    ".$$\\large d\\delta = \\frac{\\sigma}{E(x)} = \\frac{N(x)\\: dx}{A(x)\\:E(x)}$$\n",
    "\n",
    "Integrating both sides as is our custom we get an expression for $\\delta$,the total change in length of the column.\n",
    "\n",
    ".$$\\large \\delta = \\int_0^L \\frac{N(x)\\: dx}{A(x)\\:E(x)}$$"
   ]
  },
  {
   "cell_type": "markdown",
   "metadata": {},
   "source": [
    "### Uniform Column:\n",
    "\n",
    "In the case of a uniform column (area, E, and N are all constant) this expression simplifies quite rapidly to \n",
    "\n",
    ".$$\\large \\delta = \\frac{N}{A\\:E} \\int_0^L dx = \\frac{N\\: L}{A\\:E}$$"
   ]
  },
  {
   "cell_type": "markdown",
   "metadata": {},
   "source": [
    "### Discrete Sections:\n",
    "\n",
    "For an axial member that is made of discrete sections like the one illustrated below we can break the integral up into sections.\n",
    "\n",
    "<img src=\"https://raw.githubusercontent.com/smithrockmaker/ENGR213/master/images/DiscreteSections.png\" width=\"600\"/>\n",
    "\n",
    ".$$\\large \\delta = \\int_0^{L_1} \\frac{N_1(x)\\: dx}{A_1(x)\\:E_1(x)} + \\int_{L_1}^{L_2} \\frac{N_2(x)\\: dx}{A_2(x)\\:E_2(x)} = \\int_{L_2}^{L_3} \\frac{N_3(x)\\: dx}{A_3(x)\\:E_3(x)}$$\n",
    "\n",
    "...which is considerably more simple if each section has it's own constant properties. We get\n",
    "\n",
    ".$$\\large \\delta = \\frac{N_1\\: L_1}{A_1\\:E_1} + \\frac{N_2\\: L_2}{A_2\\:E_2}  = \\frac{N_3\\: L_3}{A_3\\:E_3} = \\delta_1 + \\delta_2 + \\delta_3 $$\n",
    "\n",
    "This is usually simplified to the following form...\n",
    "\n",
    ".$$\\large \\delta = \\sum_i\\frac{N_1\\: L_1}{A_1\\:E_1}$$\n"
   ]
  },
  {
   "cell_type": "code",
   "execution_count": null,
   "metadata": {},
   "outputs": [],
   "source": []
  },
  {
   "cell_type": "markdown",
   "metadata": {},
   "source": [
    "### Sample Problems:\n",
    "\n",
    "Example 2.4: It's all about geometry:)  \n",
    "Section 2.4: Small angle approximation"
   ]
  },
  {
   "cell_type": "markdown",
   "metadata": {},
   "source": [
    "***\n",
    "### Sample Problem: \n",
    "\n",
    ">A typical model for ....\n",
    "\n",
    "\n",
    "\n",
    "[Solution](https://github.com/smithrockmaker/ENGR213/blob/main/documents/SampleProb1-2.pdf)\n",
    "***"
   ]
  },
  {
   "cell_type": "code",
   "execution_count": null,
   "metadata": {},
   "outputs": [],
   "source": []
  }
 ],
 "metadata": {
  "kernelspec": {
   "display_name": "Python 3",
   "language": "python",
   "name": "python3"
  },
  "language_info": {
   "codemirror_mode": {
    "name": "ipython",
    "version": 3
   },
   "file_extension": ".py",
   "mimetype": "text/x-python",
   "name": "python",
   "nbconvert_exporter": "python",
   "pygments_lexer": "ipython3",
   "version": "3.8.5"
  }
 },
 "nbformat": 4,
 "nbformat_minor": 4
}
