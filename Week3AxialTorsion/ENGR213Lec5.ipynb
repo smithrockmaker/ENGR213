{
 "cells": [
  {
   "cell_type": "markdown",
   "metadata": {},
   "source": [
    "## ENGR 213 Lecture Notes\n",
    "\n",
    "### Lecture 5\n",
    "#### Chapter 4 in Vable\n",
    "\n",
    "At this point we have the relationships between stress and strain worked out along with an understanding of the stress-strain curves for various materials. Now we need to apply these tools various engineering settings. Not surprisingly we will start with a relatively simple setting where we are dealing with axial loads. Even though the loads are axial there are both shear and normal stresses to be considered depending on the particular surfaces we are interested in."
   ]
  },
  {
   "cell_type": "markdown",
   "metadata": {},
   "source": [
    "### Axial Loads:\n",
    "\n",
    "There are many engineering settings where the individual members that make up the 'machine' are essentially axial members and are only loaded axially. In this context if the member only varies along one axis and any loads on the member are directed along that same axis we have an axial member that is subject to axial loads.\n",
    "\n",
    "**NOTE:** Be clear that even though the loads are along the axis we will eventually see that the member might fail due to shear stress or normal stresses. Here we are only going to address axial deformations.\n",
    "\n",
    "What we are addiing to the discussion here is the possibility that the loads, the materials, and the cross section might vary along the axis of the member. \n"
   ]
  },
  {
   "cell_type": "markdown",
   "metadata": {},
   "source": [
    "### Most General Approach:\n",
    "\n",
    "Any axial member can be thought of as a 'stack' of very short elements. Here is a general picture...\n",
    "\n",
    "<img src=\"https://raw.githubusercontent.com/smithrockmaker/ENGR213/master/images/differentialAxialStrain.jpg\" width=\"600\"/>\n",
    "\n",
    "In this picture dx represents a short element of the column which has an area which is dependent on x, A(x), along with a normal force P(x) (or N(x)) which is also potential dependent on x. Because the material properties might be changing the modulus of elasticity is also potentially dependent on x - E(x)\n",
    "\n",
    "Remembering that the strain is given by...\n",
    "\n",
    ".$$\\large \\epsilon = \\frac{d\\delta}{dx} = \\frac{\\sigma}{E(x)} = \\frac{\\frac{N(x)}{A(x)}}{E(x)}$$\n",
    "\n",
    "...for elastic strain. Rearranging this expression we get....\n",
    "\n",
    ".$$\\large d\\delta = \\frac{\\sigma}{E(x)} = \\frac{N(x)\\: dx}{A(x)\\:E(x)}$$\n",
    "\n",
    "Integrating both sides as is our custom we get an expression for $\\delta$,the total change in length of the column.\n",
    "\n",
    ".$$\\large \\delta = \\int_0^L \\frac{N(x)\\: dx}{A(x)\\:E(x)}$$"
   ]
  },
  {
   "cell_type": "markdown",
   "metadata": {},
   "source": [
    "### Uniform Column:\n",
    "\n",
    "In the case of a uniform column (area, E, and N are all constant) this expression simplifies quite rapidly to \n",
    "\n",
    ".$$\\large \\delta = \\frac{N}{A\\:E} \\int_0^L dx = \\frac{N\\: L}{A\\:E}$$"
   ]
  },
  {
   "cell_type": "markdown",
   "metadata": {},
   "source": [
    "### Discrete Sections:\n",
    "\n",
    "For an axial member that is made of discrete sections like the one illustrated below we can break the integral up into sections.\n",
    "\n",
    "<img src=\"https://raw.githubusercontent.com/smithrockmaker/ENGR213/master/images/DiscreteSections.png\" width=\"600\"/>\n",
    "\n",
    ".$$\\large \\delta = \\int_A^{B} \\frac{N_{AB}(x)\\: dx}{A_{AB}(x)\\:E_{AB}(x)} + \\int_{B}^{C} \\frac{N_{BC}(x)\\: dx}{A_{BC}(x)\\:E_{BC}(x)} = \\int_{C}^{D} \\frac{N_{CD}(x)\\: dx}{A_{CD}(x)\\:E_{CD}(x)}$$\n",
    "\n",
    "...which is considerably more simple if each section has it's own constant properties. We get\n",
    "\n",
    ".$$\\large \\delta = \\frac{N_{AB}\\: L_{AB}}{A_{AB}\\:E_{AB}} + \\frac{N_{BC}\\: L_{BC}}{A_{BC}\\:E_{BC}}  = \\frac{N_{CD}\\: L_{CD}}{A_{CD}\\:E_{CD}} = \\delta_{AB} + \\delta_{BC} + \\delta_{CD} $$\n",
    "\n",
    "This is usually simplified to the following form...\n",
    "\n",
    ".$$\\large \\delta = \\sum_i\\frac{N_i\\: L_i}{A_i\\:E_i}$$\n",
    "\n",
    "This form assumes that in each section the material and the cross section are constant. The normal force is determined from freebody analysis for each section and may be compressive or tensile depending on the specific problem.\n"
   ]
  },
  {
   "cell_type": "markdown",
   "metadata": {},
   "source": [
    "### Statically Indeterminant:\n",
    "\n",
    "You explored the idea of statically indeterminant structure in ENGR 211. Usually these problems were over constrained in some why that meant you had more unknowns that equilibrium equations. The following is a standard truss that is statically indeterminant due to being over constrained.\n",
    "\n",
    "<img src=\"https://raw.githubusercontent.com/smithrockmaker/ENGR213/master/images/indeterminant1.gif\" width=\"600\"/>\n",
    "\n",
    "We define the **degree of redundancy** to be the number of unkown reactions minus the number of equilibrium equations. In the case of the truss above the degree of redundancy = 1. Both version of the next setting also have a degree of redundancy = 1.\n",
    "\n",
    "<img src=\"https://raw.githubusercontent.com/smithrockmaker/ENGR213/master/images/indeterminant2.png\" width=\"600\"/>\n",
    "\n",
    "Now consider this somewhat more complex frame. What is the degree of redundancy for this system?\n",
    "\n",
    "<img src=\"https://raw.githubusercontent.com/smithrockmaker/ENGR213/master/images/indeterminant3.png\" width=\"600\"/>\n",
    "\n",
    "Depending on whether the beam contacts post C there are 4 or 5 reaction forces which leads to a degree of redundancy of 1 or 2. Be sure you are clear why the pin at A only generates one unknown reaction force while the pin at O generates 2.\n",
    "\n",
    "**Degrees of Freedom:** The number of displacements that constrain the solution to the problems are called the number of degrees of freedom.\n",
    "\n",
    "It is rumored that the relationship between the number of degrees of redundancy and the degrees of freedom indicates which technique we should use to solve the statically indeterminant problem."
   ]
  },
  {
   "cell_type": "markdown",
   "metadata": {},
   "source": [
    "### Problem Solving for Statically Indeterminant Problems:\n",
    "\n",
    "The textbooks distinguish two general approaches to these problems. To be honest I have a hard time distinguishing between the two methods. One is described as the displacement method and the other is called the force method:\n",
    "\n",
    "<img src=\"https://raw.githubusercontent.com/smithrockmaker/ENGR213/master/images/indeterminant3.png\" width=\"600\"/>"
   ]
  },
  {
   "cell_type": "markdown",
   "metadata": {},
   "source": [
    "### Sample Problems:\n",
    "\n",
    "Example 2.4: It's all about geometry:)  \n",
    "Section 2.4: Small angle approximation"
   ]
  },
  {
   "cell_type": "markdown",
   "metadata": {},
   "source": [
    "***\n",
    "### Sample Problem: \n",
    "\n",
    ">A typical model for ....\n",
    "\n",
    "\n",
    "\n",
    "[Solution](https://github.com/smithrockmaker/ENGR213/blob/main/documents/SampleProb1-2.pdf)\n",
    "***"
   ]
  },
  {
   "cell_type": "code",
   "execution_count": null,
   "metadata": {},
   "outputs": [],
   "source": []
  }
 ],
 "metadata": {
  "kernelspec": {
   "display_name": "Python 3",
   "language": "python",
   "name": "python3"
  },
  "language_info": {
   "codemirror_mode": {
    "name": "ipython",
    "version": 3
   },
   "file_extension": ".py",
   "mimetype": "text/x-python",
   "name": "python",
   "nbconvert_exporter": "python",
   "pygments_lexer": "ipython3",
   "version": "3.8.5"
  }
 },
 "nbformat": 4,
 "nbformat_minor": 4
}
