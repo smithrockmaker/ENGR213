{
 "cells": [
  {
   "cell_type": "markdown",
   "metadata": {},
   "source": [
    "## Equation Sheet for ENGR 213\n",
    "\n",
    "Again, there are a lot of equations for this class. The difference is that they are mostly new to us in this context. In addition many of these equations different ways to describe the same setting depending on the data we have. This makes it a little different than past classes and is sometimes confusing as you try to choose which tool is useful and/or relevant."
   ]
  },
  {
   "cell_type": "markdown",
   "metadata": {},
   "source": [
    "### Stress:\n",
    "\n",
    ". $$\\large \\sigma_{ave_{normal}} = N/A_0\\:; \\: \\tau_{ave_{normal}} = V/A_0$$"
   ]
  },
  {
   "cell_type": "markdown",
   "metadata": {},
   "source": [
    "### Factor of Safety:\n",
    "\n",
    "Factor of Safety (FOS) = $\\large \\frac{\\sigma_{fail}}{\\sigma_{allow}} > 1$\n",
    "\n",
    "Margin of Safety = FOS - 1"
   ]
  },
  {
   "cell_type": "markdown",
   "metadata": {},
   "source": [
    "### Strain:\n",
    "\n",
    ". $$\\large \\epsilon = \\frac{L_f - L_0}{L_0} \\:; \\: \\epsilon = \\frac{\\delta}{L_0}$$\n",
    "\n",
    ".$$ \\large \\gamma = \\theta_0 - \\theta_f = \\pi/2 - \\theta_f$$"
   ]
  },
  {
   "cell_type": "code",
   "execution_count": null,
   "metadata": {},
   "outputs": [],
   "source": []
  }
 ],
 "metadata": {
  "kernelspec": {
   "display_name": "Python 3",
   "language": "python",
   "name": "python3"
  },
  "language_info": {
   "codemirror_mode": {
    "name": "ipython",
    "version": 3
   },
   "file_extension": ".py",
   "mimetype": "text/x-python",
   "name": "python",
   "nbconvert_exporter": "python",
   "pygments_lexer": "ipython3",
   "version": "3.8.5"
  }
 },
 "nbformat": 4,
 "nbformat_minor": 4
}
