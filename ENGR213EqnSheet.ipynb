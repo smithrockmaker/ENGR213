{
 "cells": [
  {
   "cell_type": "markdown",
   "metadata": {},
   "source": [
    "## Equation Sheet for ENGR 213\n",
    "\n",
    "Again, there are a lot of equations for this class. The difference is that they are mostly new to us in this context. In addition many of these equations different ways to describe the same setting depending on the data we have. This makes it a little different than past classes and is sometimes confusing as you try to choose which tool is useful and/or relevant."
   ]
  },
  {
   "cell_type": "markdown",
   "metadata": {},
   "source": [
    "### Geometry:\n",
    "\n",
    "A great deal of this material assumes you have strong geometric analysis skills. This means good sketches and an ability to use trigonometry and the pythagorean theorem to determine lengths of objects and small changes in the side of triangles. "
   ]
  },
  {
   "cell_type": "markdown",
   "metadata": {},
   "source": [
    "### Stress:\n",
    "\n",
    "<img src=\"https://raw.githubusercontent.com/smithrockmaker/ENGR213/master/images/NormalShearStress.jpg\" width=\"400\"/>\n",
    "\n",
    "In this image normal and shear stress or forces must add vectorially to give the applied axial stress or force.**Typical Units: MPa or ksi**\n",
    "\n",
    ". $$\\large \\sigma_{ave_{normal}} = N/A_0\\:; \\: \\tau_{ave_{normal}} = V/A_0$$\n",
    "\n",
    "If the cross sectional surface(s) being examined is at an angle to the external force(s) you may need to correct for the geometrically increased area."
   ]
  },
  {
   "cell_type": "markdown",
   "metadata": {},
   "source": [
    "### Factor of Safety:\n",
    "\n",
    "Factor of Safety (FOS) = $\\large \\frac{\\sigma_{fail}}{\\sigma_{allow}} > 1$\n",
    "\n",
    "Margin of Safety = FOS - 1"
   ]
  },
  {
   "cell_type": "markdown",
   "metadata": {},
   "source": [
    "### Strain:\n",
    "\n",
    "**Typical Units: mm/mm, in/in, or $\\mu$ in/in**\n",
    "\n",
    "<img src=\"https://raw.githubusercontent.com/smithrockmaker/ENGR213/master/images/strainSparky.png\" width=\"400\"/>\n",
    " \n",
    ". $$\\large \\epsilon = \\frac{L_f - L_0}{L_0} \\:; \\: \\epsilon = \\frac{\\delta}{L_0}$$\n",
    "\n",
    ".$$ \\large \\gamma = \\theta_0 - \\theta_f = \\pi/2 - \\theta_f$$\n",
    "\n",
    "...for small angles (typical) $gamma$ (in radians) can be found from (w is displacement of top, L is length of vertical side)..\n",
    "\n",
    ".$$\\large tan(\\theta_i - \\theta_f) = w/L = \\gamma$$"
   ]
  },
  {
   "cell_type": "markdown",
   "metadata": {},
   "source": [
    "### Stress/Strain Diagram:\n",
    "\n",
    "Many terms to know:\n",
    "1. Normal/Shear/Torsion Diagram\n",
    "1. Proportional (Elastic) Limit: $\\sigma_P$\n",
    "1. Modulus of Elasticity: E (for normal stress) or G (for shear stress)\n",
    "1. Yield Stress or 0.2% offset: $\\sigma_Y$\n",
    "1. Ultimate Stress: $\\sigma_U$\n",
    "1. Fracture Stress: $\\sigma_f$\n",
    "1. Plastic region\n",
    "1. permanent plastic strain\n",
    "1. total strain\n",
    "1. elastic strain\n",
    "1. Brittle or Ductile (necking)\n",
    "1. Strain Energy (modulus of resiliance)\n",
    "1. Stain Energy (toughness)\n",
    "1. Other features\n",
    "\n",
    "<img src=\"https://raw.githubusercontent.com/smithrockmaker/ENGR213/master/images/anotherKitchenSink.jpg\" width=\"400\"/>\n",
    "\n",
    "<img src=\"https://raw.githubusercontent.com/smithrockmaker/ENGR213/master/images/kitchensinkSSDiagram.jpg\" width=\"400\"/>\n",
    "\n",
    "<img src=\"https://raw.githubusercontent.com/smithrockmaker/ENGR213/master/images/modResiliance.jpg\" width=\"400\"/>\n"
   ]
  },
  {
   "cell_type": "markdown",
   "metadata": {},
   "source": [
    "### Elastic Region:\n",
    "\n",
    "Part of the typical behavior of materials on the stress/strain diagram is a linear region representing Hooke's Law behavior (ideal springs). E and G are the normal and shear **moduli of elasticity**. E is sometimes called Young's modulus. **Typical Units: GPa or ksi**\n",
    "\n",
    ".$$\\large \\sigma = E\\: \\epsilon \\: ;\\: \\tau = G\\: \\gamma$$"
   ]
  },
  {
   "cell_type": "markdown",
   "metadata": {},
   "source": [
    "### Thermal Strain:\n",
    "\n",
    "$\\alpha$ has **Typical Units: $\\mu \\:/\\:^{\\circ}C$ or $\\mu \\:/\\:^{\\circ}F$**\n",
    "\n",
    ".$$\\large \\epsilon_T = \\frac{\\Delta L}{L_0} = \\alpha \\Delta T$$\n",
    "\n",
    ".$$\\large \\epsilon_{total} = \\frac{\\sigma}{E} + \\alpha \\Delta T$$"
   ]
  },
  {
   "cell_type": "markdown",
   "metadata": {},
   "source": [
    "### Axial Loads:\n",
    "\n",
    ".$$\\large \\delta = \\int_0^L \\frac{N(x)\\: dx}{A(x)\\:E(x)} = \\sum_i\\frac{N_i\\: L_i}{A_i\\:E_i}$$\n",
    "\n",
    "#### Axial Force Diagram: \n",
    "\n",
    "Shows axial load (from FBD of internal forces) as function of location along member.\n",
    "\n",
    "#### Statically Indeterminant Cases:\n",
    "\n",
    "Exaggerate the possible thermal or stress induced displacement and determine constraints that limit those displacements. Count unknowns and equations carefully.\n",
    "\n",
    "#### Equivalent Axial Loads:\n",
    "\n",
    "In more complex settings the equivalent axial load may be off center to counter or produce the moment resulting from the individual material stresses in a complex beam. Usually only relevant for asymmetric beam cross sections."
   ]
  },
  {
   "cell_type": "markdown",
   "metadata": {},
   "source": [
    "### Drive Shafts/Torsion\n",
    "\n",
    "Labeling systems vary a lot. Here we use r =  max radius of shaft; $\\rho$ = radius within the shaft ($\\rho \\le r$); L = length of shaft under uniform torsion; $\\phi$ = angular displacement of cross section; and $\\gamma$ = shear strain = angular distortion of material (depends on $\\rho$). Good sketches to help assure clarity about direction of shear strain and displacement in each section of a multiply loaded shaft is critical.\n",
    "\n",
    "#### Polar Moment of Inertia (J): $$ J_{solid} = \\frac{\\pi}{2}\\: R_{cylinder}^4 = \\frac{\\pi}{32}\\: D_{cylinder}^4$$\n",
    "\n",
    ".$$\\large J_{tube} = \\frac{\\pi}{2}\\: [R_{outer}^4-R_{inner}^4] $$\n",
    "\n",
    "#### Shear Stress Dependence on Twist and Radial Location:\n",
    ".$$\\large \\tau = G\\:\\rho\\: \\frac{d\\phi}{dx}$$\n",
    "\n",
    "#### Twist as Function of Torque:$$ \\frac{\\Delta \\phi}{\\Delta x} = \\frac{T_{ext}}{G\\: J}$$\n",
    "\n",
    "#### Radial Dependence of Shear Stress .$$ \\tau = \\frac{T_{ext}\\: \\rho}{J}=  G\\:\\gamma$$\n",
    "\n",
    "#### Angular Displacement of Shaft: .$$ \\Delta \\phi = \\delta_{\\theta} = \\frac{T_{ext} {L}}{G\\: J}$$\n",
    "\n",
    "#### Torque due to Power Delivery:.$$ T_{required} = \\frac{P_{desired}}{\\omega_{shaft}}$$"
   ]
  },
  {
   "cell_type": "code",
   "execution_count": null,
   "metadata": {},
   "outputs": [],
   "source": []
  },
  {
   "cell_type": "code",
   "execution_count": null,
   "metadata": {},
   "outputs": [],
   "source": []
  }
 ],
 "metadata": {
  "kernelspec": {
   "display_name": "Python 3",
   "language": "python",
   "name": "python3"
  },
  "language_info": {
   "codemirror_mode": {
    "name": "ipython",
    "version": 3
   },
   "file_extension": ".py",
   "mimetype": "text/x-python",
   "name": "python",
   "nbconvert_exporter": "python",
   "pygments_lexer": "ipython3",
   "version": "3.8.5"
  }
 },
 "nbformat": 4,
 "nbformat_minor": 4
}
