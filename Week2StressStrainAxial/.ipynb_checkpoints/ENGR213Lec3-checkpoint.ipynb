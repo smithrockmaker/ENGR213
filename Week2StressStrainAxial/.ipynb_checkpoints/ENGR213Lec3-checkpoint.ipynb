{
 "cells": [
  {
   "cell_type": "markdown",
   "metadata": {},
   "source": [
    "## ENGR 213 Lecture Notes\n",
    "\n",
    "### Lecture 2\n",
    "#### Chapter 2 in Vable\n",
    "\n",
    "Some images in this section are taken from a [OER Statics text](https://engineeringstatics.org/frontmatter-.html) authored by [Daniel Baker at CSU](https://www.engr.colostate.edu/ce/daniel-baker/). My thanks to Daniel for their use."
   ]
  },
  {
   "cell_type": "markdown",
   "metadata": {},
   "source": [
    "### Real Materials:\n",
    "\n",
    "In previous courses and discussions we have assumed that materials are ideal in the sense that they do not change due to forces and moments that are applied to them. This is the definition of ideal physics equipment. In this class we now address not just the failure of the material that might be produced by excessive forces but the distortions of those materials.\n",
    "\n",
    "### Strain:\n",
    "\n",
    "Strain is the engineering term applied to the stretch or elongation of a material under the influence of forces and moments. Functionally strain is a percentage and is unitless. Despite the fact that the strain is actually dimensionless is it typically described as cm/cm, m/m, in/in, or ft/ft.  The standard symbol used is $\\epsilon$.\n",
    "\n",
    ".$$\\large \\epsilon = \\frac{\\Delta L}{L}$$\n"
   ]
  },
  {
   "cell_type": "markdown",
   "metadata": {},
   "source": [
    "### Strain (Normal and Shear):\n",
    "#### Chap 2\n",
    "\n",
    "#### Choice of Reference:\n",
    "\n",
    "Vable discusses this very clearly in section 2.2. Restating the the same discussion in a slightly different context if I take a 10 cm long spring and lengthen it by 25% and then shorten it by 20% I get back to the same length. (10 cm -> 12.5 cm -> 10 cm). \n",
    "\n",
    "#### Normal Strain\n",
    "\n",
    "This same consideration comes up when we ask how much the length of a material has changed under the action of a stress (normal or shear). The two possibilities are the original length of the material before it was stretched or the deformed length after it was stretched. The former is called Eulerian (oil-er-ian) strain and the latter is call Lagrangian stain.\n",
    "\n",
    ".$$\\large \\epsilon_{Euler} = \\frac{\\Delta L}{L_0}$$\n",
    "\n",
    ".$$\\large \\epsilon_{Lagrange} = \\frac{\\Delta L}{L_f}$$\n",
    " \n",
    "In most engineering applications we use the Eulerian version of the strain. We will use the following language to describe the strain.\n",
    "\n",
    ".$$\\large \\epsilon = \\frac{L_f - L_0}{L_0} = \\frac{\\delta}{L_0}$$"
   ]
  },
  {
   "cell_type": "markdown",
   "metadata": {},
   "source": [
    "#### Shear Strain\n",
    "\n",
    "The particular type of distortion (elongation) that takes place under pure shear forces can be visualized as illustrated below. \n",
    "\n",
    "<img src=\"https://raw.githubusercontent.com/smithrockmaker/ENGR213/master/images/strainSparky.png\" width=\"600\"/>\n",
    "\n",
    "As you might notice we can described the amount of distortion by using an angle to describe how much a cubic element of the material has distorted as a result of the shear force. By analogy to normal strain the shear strain is defined as the difference between the initial and final angles.\n",
    "\n",
    ".$$ \\large \\gamma = \\theta_0 - \\theta_f = \\pi/2 - \\theta_f$$\n",
    "\n",
    "$\\theta_0$ is often assumed to be $\\pi2$ and a positive shear strain makes the angle smaller rather than larger. This is a bit arbitrary since you would get a different result if you are looking at a different corner of the cubic element. \n",
    "\n",
    "Given that radians are already a dimensionless unit we report shear strain in radians. You will see multiple representations of this definition which is confusing. As you may remember from our explorations of the small angle approximation in physics when $\\gamma$ is small (the usual case) then ...\n",
    "\n",
    "<img src=\"https://raw.githubusercontent.com/smithrockmaker/ENGR213/master/images/uniShear.png\" width =\"500\" height = \"500\"/>\n",
    "\n",
    ".$$\\large tan(\\theta) = w/l \\approx \\theta = \\gamma$$"
   ]
  },
  {
   "cell_type": "markdown",
   "metadata": {},
   "source": [
    "### Sparky's Blog (Sword Science)\n",
    "\n",
    "Every now and then I trip over some fascinating stuff on the web as I look for applications of engineering for this course. Some of you may find this blog applying material science and engineering to western style swords interesting. [Sparky's Blog](https://sparkyswordscience.blogspot.com/)"
   ]
  },
  {
   "cell_type": "markdown",
   "metadata": {},
   "source": [
    "### Sample Problems:\n",
    "\n",
    "Example 2.4: It's all about geometry:)  \n",
    "Section 2.4: Small angle approximation"
   ]
  },
  {
   "cell_type": "markdown",
   "metadata": {},
   "source": [
    "***\n",
    "### Sample Problem: \n",
    "\n",
    ">A typical model for ....\n",
    "\n",
    "\n",
    "\n",
    "[Solution](https://github.com/smithrockmaker/ENGR213/blob/main/documents/SampleProb1-2.pdf)\n",
    "***"
   ]
  },
  {
   "cell_type": "code",
   "execution_count": null,
   "metadata": {},
   "outputs": [],
   "source": []
  }
 ],
 "metadata": {
  "kernelspec": {
   "display_name": "Python 3",
   "language": "python",
   "name": "python3"
  },
  "language_info": {
   "codemirror_mode": {
    "name": "ipython",
    "version": 3
   },
   "file_extension": ".py",
   "mimetype": "text/x-python",
   "name": "python",
   "nbconvert_exporter": "python",
   "pygments_lexer": "ipython3",
   "version": "3.8.5"
  }
 },
 "nbformat": 4,
 "nbformat_minor": 4
}
