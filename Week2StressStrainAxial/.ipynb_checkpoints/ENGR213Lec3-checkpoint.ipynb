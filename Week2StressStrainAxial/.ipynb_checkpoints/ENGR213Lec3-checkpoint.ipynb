{
 "cells": [
  {
   "cell_type": "markdown",
   "metadata": {},
   "source": [
    "## ENGR 213 Lecture Notes\n",
    "\n",
    "### Lecture 3\n",
    "#### Chapter 3 in Vable\n",
    "\n",
    "This chapter is about the standard tool of materials engineering called the stress-strain diagram. This diagram documents the behavior of a given material across a wide range of stresses up to the point of failure. From this diagram we can anticipate the behavior of a material under particular use cases."
   ]
  },
  {
   "cell_type": "markdown",
   "metadata": {},
   "source": [
    "### Stress-Strain Diagram:\n",
    "\n",
    "A standard place to start the discussion of the stress-strain curve or diagram is with normal stresses particularly tension. It is no surprise that when we apply a normal stress to a material it stretches which we call strain. We can apply increasing tensile force to a sample while measuring the strain until the sample fails or breaks. Similar data sets exist for compression and torsion (shear) but we will begin our exploration thinking primarily about tensile data.\n",
    "\n",
    "Human beings come in a remarkable variety of forms and yet there are a set of common features that we usually see across all those forms. Stress-strain diagrams are the same. We are going to learn a language for describing a range of features that can occur in a stress-strain diagram but remember that not all features will look the same on different diagrams.\n"
   ]
  },
  {
   "cell_type": "markdown",
   "metadata": {},
   "source": [
    "### General Stress-Strain Diagram:\n",
    "\n",
    "Here is a very generic stress-strain diagram (from wiki) that show many typical features.\n",
    "\n",
    "<img src=\"https://raw.githubusercontent.com/smithrockmaker/ENGR213/master/images/GenericSS.png\" width=\"600\"/>\n",
    "\n",
    "Before we consider what the different features are we need clarify the idea of loading and unloading the material being tested. Implicit in the data presented in the plot is the idea that as we increase the stress (loading) the strain increases as indicated by the data. IF we stop increasing the stress and reduce it back to zero (incrementally) - called unloading then the strain returns along a 'path' that may **NOt** be the same as that indicated by the data.\n",
    "\n",
    "<img src=\"https://raw.githubusercontent.com/smithrockmaker/ENGR213/master/images/SSLoadUnload.png\" width=\"600\"/>"
   ]
  },
  {
   "cell_type": "markdown",
   "metadata": {},
   "source": [
    "### Proportional Limit:\n",
    "\n",
    "Two variables are proportional if they have a linear relationship. In many stress strain diagrams there is a region at the 'begining' of the diagram where the relationship between the stress and the strain is linear. This is the proportional or linear region of behavior. The maximum stress for which the stress and strain are proportional is called the proportional limit and is labeled $\\sigma_P$. If the stress on the material never exceeds $\\sigma_P$ then the material will return to it's original length when it is unloaded following along the linear region of the diagram.\n",
    "\n",
    "<img src=\"https://raw.githubusercontent.com/smithrockmaker/ENGR213/master/images/SSproportional.png\" width=\"600\"/>"
   ]
  },
  {
   "cell_type": "markdown",
   "metadata": {},
   "source": [
    "### Yield Stress:\n",
    "\n",
    "As we apply stress beyond the proportional limit the material still returns to it's original unstretched length until we reach a stress called the yield limit or yield point $\\sigma_y$. At the this point the material has been permamently deformed by the stress. As the material is unloaded it returns by a 'path' which is usually parallel to the proportional part of the diagram. This leaves the material being measured with a permanent strain called the offset strain. \n",
    "\n",
    "If we once again load the material it will still behave proportionally as long the stress remains below the proportional limit. When it is unloaded it will return to the new length defined by the offset strain.\n",
    "\n",
    "<img src=\"https://raw.githubusercontent.com/smithrockmaker/ENGR213/master/images/SSyield.png\" width=\"600\"/>\n",
    "\n",
    "### Offset Yield Stress:\n",
    "\n",
    "It is sometimes not clear where the yield point is. In such cases it is defined as the point where the offset strain indicated above is 0.2% (0.002)."
   ]
  },
  {
   "cell_type": "markdown",
   "metadata": {},
   "source": [
    "### After the Yield Point:\n",
    "\n",
    "After the yield stress the material will keep yielding as the stress is increased. When unloaded it will keep returning to some unloaded length. Some part of the strain created by the stress is now a permanent feature of the material (the plastic strain -- or the offset strain) and some part of the strain is elastic and will continue to come and go as the material is loaded and unloaded below the proportional limit.\n",
    "\n",
    "<img src=\"https://raw.githubusercontent.com/smithrockmaker/ENGR213/master/images/SSplasticElastic.png\" width=\"600\"/>"
   ]
  },
  {
   "cell_type": "markdown",
   "metadata": {},
   "source": [
    "### Ultimate and Fracture/Failure Stress:\n",
    "\n",
    "Because the standard stress-strain diagram determines stress using the initial undeformed cross sectional area of the  material many diagrams eventually start to drop as the material reaches close to it's point of failure. What this often looks like in the real world is that we put a large stress on the material and it 'sags' and stretches which increases the strain but also reduces the stress if it stretches enough. If we were to actually calculate the stress based on the actual cross section the stress-strain diagram usually continues upward towards the end.\n",
    "\n",
    "### Ultimate Stress:\n",
    "\n",
    "Whatever the highest stress shown on the diagram is referred to as the ultimate stress $\\sigma_u$. If you think about it this has implications for the failure of the material when in use. If the stress on the material due to external loading exceeds $\\sigma_u$ then the external loads will maintain that stress even as the material stretches until it fails. IF the stresses exceed $\\sigma_u$ for a short period of time one can imagine that the material stretches but does not fail. \n",
    "\n",
    "### Failure Stress:\n",
    "\n",
    "Eventually all materials reach a failure point at some stress $\\sigma_f$ \n",
    "\n",
    "<img src=\"https://raw.githubusercontent.com/smithrockmaker/ENGR213/master/images/SSult.png\" />"
   ]
  },
  {
   "cell_type": "markdown",
   "metadata": {},
   "source": [
    "### Strain Hardening/Necking:\n",
    "\n",
    "If the material undergoes significant plastic deformation at some point it will begin to thin out or neck. When this happens the cross sectional area actually reduces but if we are plotting the engineering strain using the orginal cross section the stress will appear to decrease. This part of the stress-strain diagram is after $\\sigma_u$ where the strain continues to increase while the stress decreases. The amount of necking is indicated by the elongation after $\\sigma_u$ and **NOT** by the drop in the stress.\n",
    "\n",
    "<img src=\"https://raw.githubusercontent.com/smithrockmaker/ENGR213/master/images/SSneck.png\" width=\"600\"/>\n",
    "\n",
    "In practice necking in a sample typically looks like this bolt which has been subjected to normal stresses greater than $\\sigma_u$.\n",
    "\n",
    "<img src=\"https://raw.githubusercontent.com/smithrockmaker/ENGR213/master/images/neckingFailure.jpg\" width=\"600\"/>"
   ]
  },
  {
   "cell_type": "markdown",
   "metadata": {},
   "source": [
    "### Ductile and Brittle:\n",
    "\n",
    "Ductile materials under significant plastic deformations before fracture. Aluminum and copper are examples. Rubber which undergoes large deformations is not considered ductile because those deformations are mostly elastic. Brittle materials show little or no plastic deformation before fracture.\n",
    "\n",
    "The relative ductility of different materials is sometimes expressed as the total strain before fracture/failure. \n",
    "\n",
    "Copper:\n",
    "\n",
    "<img src=\"https://raw.githubusercontent.com/smithrockmaker/ENGR213/master/images/SSductile.jpg\" width=\"600\"/>\n",
    "\n",
    "Glass:\n",
    "\n",
    "<img src=\"https://raw.githubusercontent.com/smithrockmaker/ENGR213/master/images/SSbrittle.png\" width=\"600\"/>\n"
   ]
  },
  {
   "cell_type": "markdown",
   "metadata": {},
   "source": [
    "### Sample Problems:\n",
    "\n",
    "Example 2.4: It's all about geometry:)  \n",
    "Section 2.4: Small angle approximation"
   ]
  },
  {
   "cell_type": "markdown",
   "metadata": {},
   "source": [
    "***\n",
    "### Sample Problem: \n",
    "\n",
    ">A typical model for ....\n",
    "\n",
    "\n",
    "\n",
    "[Solution](https://github.com/smithrockmaker/ENGR213/blob/main/documents/SampleProb1-2.pdf)\n",
    "***"
   ]
  },
  {
   "cell_type": "code",
   "execution_count": null,
   "metadata": {},
   "outputs": [],
   "source": []
  }
 ],
 "metadata": {
  "kernelspec": {
   "display_name": "Python 3",
   "language": "python",
   "name": "python3"
  },
  "language_info": {
   "codemirror_mode": {
    "name": "ipython",
    "version": 3
   },
   "file_extension": ".py",
   "mimetype": "text/x-python",
   "name": "python",
   "nbconvert_exporter": "python",
   "pygments_lexer": "ipython3",
   "version": "3.8.5"
  }
 },
 "nbformat": 4,
 "nbformat_minor": 4
}
