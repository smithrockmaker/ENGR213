{
 "cells": [
  {
   "cell_type": "markdown",
   "metadata": {},
   "source": [
    "## ENGR 213 Lecture Notes\n",
    "\n",
    "### Lecture 3\n",
    "#### Chapter 3 in Vable\n",
    "\n",
    "This chapter is about the standard tool of materials engineering called the stress-strain diagram. This diagram documents the behavior of a given material across a wide range of stresses up to the point of failure. From this diagram we can anticipate the behavior of a material under particular use cases."
   ]
  },
  {
   "cell_type": "markdown",
   "metadata": {},
   "source": [
    "### Stress-Strain Diagram:\n",
    "\n",
    "A standard place to start the discussion of the stress-strain curve or diagram is with normal stresses particularly tension. It is no surprise that when we apply a normal stress to a material it stretches which we call strain. We can apply increasing tensile force to a sample while measuring the strain until the sample fails or breaks. Similar data sets exist for compression and torsion (shear) but we will begin our exploration thinking primarily about tensile data.\n",
    "\n",
    "Human beings come in a remarkable variety of forms and yet there are a set of common features that we usually see across all those forms. Stress-strain diagrams are the same. We are going to learn a language for describing a range of features that can occur in a stress-strain diagram but remember that not all features will look the same on different diagrams.\n"
   ]
  },
  {
   "cell_type": "markdown",
   "metadata": {},
   "source": [
    "### General Stress-Strain Diagram:\n",
    "\n",
    "Here is a very generic stress-strain diagram (from wiki) that show m\n",
    "\n",
    "<img src=\"https://raw.githubusercontent.com/smithrockmaker/ENGR213/master/images/GenericSS.jpg\" width=\"800\"/>"
   ]
  },
  {
   "cell_type": "markdown",
   "metadata": {},
   "source": []
  },
  {
   "cell_type": "code",
   "execution_count": null,
   "metadata": {},
   "outputs": [],
   "source": []
  },
  {
   "cell_type": "markdown",
   "metadata": {},
   "source": [
    "### Sample Problems:\n",
    "\n",
    "Example 2.4: It's all about geometry:)  \n",
    "Section 2.4: Small angle approximation"
   ]
  },
  {
   "cell_type": "markdown",
   "metadata": {},
   "source": [
    "***\n",
    "### Sample Problem: \n",
    "\n",
    ">A typical model for ....\n",
    "\n",
    "\n",
    "\n",
    "[Solution](https://github.com/smithrockmaker/ENGR213/blob/main/documents/SampleProb1-2.pdf)\n",
    "***"
   ]
  },
  {
   "cell_type": "code",
   "execution_count": null,
   "metadata": {},
   "outputs": [],
   "source": []
  }
 ],
 "metadata": {
  "kernelspec": {
   "display_name": "Python 3",
   "language": "python",
   "name": "python3"
  },
  "language_info": {
   "codemirror_mode": {
    "name": "ipython",
    "version": 3
   },
   "file_extension": ".py",
   "mimetype": "text/x-python",
   "name": "python",
   "nbconvert_exporter": "python",
   "pygments_lexer": "ipython3",
   "version": "3.8.5"
  }
 },
 "nbformat": 4,
 "nbformat_minor": 4
}
