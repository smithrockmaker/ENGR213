{
 "cells": [
  {
   "cell_type": "markdown",
   "id": "8ff33922",
   "metadata": {},
   "source": [
    "## ENGR 213 Lecture Notes\n",
    "\n",
    "### Lecture 9\n",
    "#### Holding Pattern on Beam Bending\n",
    "\n",
    "Last time we spent some extra time working through the process of determining shear and moment diagrams. This knowledge has shown some degradation from the end of ENGR 211 where you were first introduced to it. As a result the new material in Lec 8 was more than a bit rushed so we are going to take today to revisit the material from Lec 8 and apply it to an asymmetric beam. "
   ]
  },
  {
   "cell_type": "markdown",
   "id": "eccfb4c9",
   "metadata": {},
   "source": [
    "### I (moment of inertia)\n",
    "\n",
    "### Formal Math Description:\n",
    "\n",
    "This is the formal mathematical description of the moment of inertia of an object around any axis:\n",
    "\n",
    ".$$\\large I_0 = \\int_m r^2\\: dm$$\n",
    "\n",
    "Where r is the location of each dm relative to the axis of rotation. This can get quite complex for 3D object though it is not so bad for planar objects. Please notice that the moment of inertia is a SCALAR not a vector!!\n",
    "\n",
    "Notice also that 'I' has units of $kg\\: m^2$. Another mixed set of units for which there is no special name at this point."
   ]
  },
  {
   "cell_type": "markdown",
   "id": "7c77bd43",
   "metadata": {},
   "source": [
    "### The Reality\n",
    "\n",
    "**Look it up!!** The reality is that all the typical shapes for which we need to know moments of inertia have been calculated. This includes rectangles, spheres, I beams, bars, etc etc. As a result we look them up. Here is a sample table...\n",
    "\n",
    "<img src=\"https://raw.githubusercontent.com/smithrockmaker/ENGR212/master/images/momentInertia.jpg\" />\n",
    "\n",
    "You will no doubt notice that the moments of inertia are all for rotation around the center of mass of the object. This is because we have a simple tool to find the moment of inertial around another axis parallel to the axis through the center of mass. This tool is called the Parallel Axis Theorem.\n",
    "\n",
    "Here are some additional useful shapes and their moments around different axes.\n",
    "\n",
    "<img src=\"https://raw.githubusercontent.com/smithrockmaker/ENGR212/master/images/momentInertia2.jpg\" />"
   ]
  },
  {
   "cell_type": "markdown",
   "id": "f62382f2",
   "metadata": {},
   "source": [
    "### Parallel Axis Theorem\n",
    "\n",
    "You can look in many places to see a mathematical proof of the parallel axis theorem. I don't find a lot of conceptual value in this particular proof so I will not reproduce it here. Suffice to say you can find it many places if you are interested. Here is the result:\n",
    "\n",
    ".$$\\large I_0 = I + d^2\\:m$$\n",
    "\n",
    "'d' is the distance from the axis through the center of mass and m is the total mass of the object. Consider the moment of inertia for a meter stick or rod around it's end rather than it's middle. I (around the center of mass is given by...\n",
    "\n",
    ".$$\\large I = \\frac{1}{12}m L^2$$\n",
    "\n",
    "To find I around the end of the stick or rod we only have to notice that the end is L/2 away from the center of mass and....\n",
    "\n",
    ".$$\\large I_{end} = \\frac{1}{12}m\\: L^2 + (\\frac{L}{2})^2 m = \\frac{mL^2}{3}$$\n",
    "\n",
    "This is 4x as big as the moment of inertia around the center of mass which explains why trying to 'waggle' a meter stick around it's center is MUCH easier than trying to 'waggle' it from the end.\n"
   ]
  },
  {
   "cell_type": "markdown",
   "id": "938aaa69",
   "metadata": {},
   "source": [
    "### I for Compound Objects\n",
    "\n",
    "So what do we do for slightly more complex objects like an I beam? Next term in Strengths we will need the moment of inertia for the cross section of various beams. Some of these are tabulated but sometimes we need to figure them out. Consider this basic I beam.\n",
    "\n",
    "<img src=\"https://raw.githubusercontent.com/smithrockmaker/ENGR212/master/images/Ibeam.jpg\" />\n",
    "\n",
    "If you squint as you look at it you can see that the beam is a big rectangle that is missing two smaller rectangles (one on each side). The total moment of inertia of this beam is the moment of inertia for the large rectangle minus the moment of inertia for each of the 'anti-rectangles' around whatever axis you are interested in. Not surprisingly one has to be careful doing this to get the various applications of the parallel axis theorem correct but it is much easier than trying to set up the integral."
   ]
  },
  {
   "cell_type": "markdown",
   "id": "a08743c6",
   "metadata": {},
   "source": [
    "### Problem Solving:\n",
    "\n",
    "1: Start by determining the neutral axis of the beam. This may be obvious from symmetry or it may require calculation.\n",
    "\n",
    "2: Determine the 2nd moment of inertia around the neutral axis. Again this may be known (tabulated above) or you may need to determine it.\n",
    "\n",
    "3: Shear and Moment Diagrams: Circumstances vary but the tools of this section require us to know the bending moment (be sure there are no axial loads). Doing a moment diagram may be needed.\n",
    "\n",
    "4: Use the flexure formulae to determine the normal stress at different locations on the cross section. Usually we are interested in the maximum normal stress to consider whether failure is likely.\n",
    "\n",
    "5: We may be asked to connect the shear stress to the strain at different points on the cross section.\n",
    "\n",
    "Listo!"
   ]
  },
  {
   "cell_type": "markdown",
   "id": "3104337a",
   "metadata": {},
   "source": [
    "### Connecting Back to Flexure:\n",
    "\n",
    "It is easy to forget in all these symbols and terms that we are figuring out I so that we can determine the distribution of normal stress in the beam from the flexure formulae. Here they are again.\n",
    "\n",
    ".$$\\large \\sigma_{x} = -\\frac{M\\:y}{I}\\: ; \\: \\sigma_{max} = \\frac{M\\:c}{I}$$\n",
    "\n",
    "The conceptual point is that the normal stress varies linearly as you move away from the normal axis. 'y' is the distance from the normal axis. The maximum normals stress occurs at whatever point of the beam is the greatest distance from the neutral axis and could be compressive or tensile. 'c' is the maximum distance from the neutral axis. It is important to note that many materials have very different $\\sigma_{yield}$ in tension or compression. This can mean that a beam fails due to a normal stress that is **NOT** the maximum stress.\n",
    "\n",
    "Here is a potentially helpful image that connects some of the symbols and language.\n",
    "\n",
    "<img src=\"https://raw.githubusercontent.com/smithrockmaker/ENGR213/main/images/beamBendingVisual.jpg\" width=\"600\"/>\n"
   ]
  },
  {
   "cell_type": "code",
   "execution_count": null,
   "id": "b3a156e5",
   "metadata": {},
   "outputs": [],
   "source": []
  }
 ],
 "metadata": {
  "kernelspec": {
   "display_name": "Python 3",
   "language": "python",
   "name": "python3"
  },
  "language_info": {
   "codemirror_mode": {
    "name": "ipython",
    "version": 3
   },
   "file_extension": ".py",
   "mimetype": "text/x-python",
   "name": "python",
   "nbconvert_exporter": "python",
   "pygments_lexer": "ipython3",
   "version": "3.8.5"
  }
 },
 "nbformat": 4,
 "nbformat_minor": 5
}
