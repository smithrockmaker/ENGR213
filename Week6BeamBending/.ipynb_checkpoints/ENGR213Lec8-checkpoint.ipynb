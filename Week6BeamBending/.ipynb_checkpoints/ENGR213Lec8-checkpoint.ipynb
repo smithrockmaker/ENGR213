{
 "cells": [
  {
   "cell_type": "markdown",
   "id": "034c8153",
   "metadata": {},
   "source": [
    "## ENGR 213 Lecture Notes\n",
    "\n",
    "### Lecture 8\n",
    "#### Chapter 6 Section 1-3 in Vable\n",
    "\n",
    "As we approach the study of beams and their deformation under load we need to integrate all of the concepts we have discussed to this point. In our context beams are long structural members where the loads (forces) act perpendular to the axis of the member. While we may think of beams as typically horizontal objects many columns are also beams. Axial loaded beams that flex are a separate topic. "
   ]
  },
  {
   "cell_type": "markdown",
   "id": "28b34349",
   "metadata": {},
   "source": [
    "### Bending of Beams:\n",
    "\n",
    "We are going to start at a conceptual level to clarify basic ideas and the assumptions that are typically made for elastic deformations of beams. The following model does a good job of illustrating a range of effects the result from the bending of a beam.\n",
    "\n",
    "<img src=\"https://raw.githubusercontent.com/smithrockmaker/ENGR213/master/images/beamBendHibbler.png\" width=\"600\"/>\n",
    "\n",
    "The features to notice in this model are that horizontal lines on the unloaded beam become curved, vertical lines on the unloaded beam are still straight but are rotated. Due to compressive strain on the upper part of the beam the width of the beam is increased and bulges upwards. Conversely the lower part of the beam in tension is narrowed and hollowed.\n",
    "\n",
    "For our analysis we will assume that the lateral strains due to compressive and tensile stress can be neglected. This is equivalent to saying that the cross section shape of the beam is constant while bending.\n",
    "\n",
    "We will also assume that cross sections of the beam relative to the beam axis remain nearly perpendicular to the axis after bending.\n",
    "\n",
    "Consider the following simplified model of a beam formed from 3 discrete bars.\n",
    "\n",
    "<img src=\"https://raw.githubusercontent.com/smithrockmaker/ENGR213/master/images/discreteBeamVable.png\" width=\"600\"/>\n",
    "\n",
    "If we apply moment to the rigid plates to which the bars are attached there is a question of whether all or some of the bars change length. We will assume (as Vable did in this example) that there is at least one axis through the beam that does not change length. We will come to call this the neutral axis. While this axis is in the center of the beam for symmetric and homogeneous beams it generally has a location which depends on the cross section of the beam.\n",
    "\n",
    "Consider the example of 3 discrete bars above. Where would you expect to find the neutral axis if the bottom bar were of a greater diameter and there subject to lower normal stresses due to the moment applied to the rigid plate? Do you visualize that the neutral axis would move down towards the bottom of the system?"
   ]
  },
  {
   "cell_type": "markdown",
   "id": "e7df4c3b",
   "metadata": {},
   "source": [
    "### Pure Bending Strain\n",
    "\n",
    "If we take a section of the beam which is subject to only bending forces we can determine the strain at different locations from  geometry alone. Pure bending in this sense means that all the strain is due to the applied moment and **NOT** due to any axial forces. \n",
    "\n",
    "<img src=\"https://raw.githubusercontent.com/smithrockmaker/ENGR213/master/images/pureBendStrain.jpg\" width=\"600\"/>\n",
    "\n",
    "Vable explores this geometry using slightly different symbols in Example 6.2. The strain is referenced to the neutral axis (we will learn how to figure this out shortly) which is DE in the image above and CD in Example 6.2. The important conceptual features are the depends linearly on the distance from the neutral axis and inversely on the radius of curvature of the beam at this point. The strain at the neutral axis is 0 (y =0)and is maximum at the part of the beam furthest from the neutral axis (y = c). Notice also that y is (+) as you move inward from the neutral axis which leads to compressive strain (-) closer to the center of curvature and tensile strain (+) further from the center of curvature.\n",
    "\n",
    ".$$ \\large \\epsilon_x = -\\frac{y}{\\rho} = - \\frac{y}{c} \\epsilon_{max}\\: ; \\: \\epsilon_{max} = \\frac{c}{\\rho}$$\n",
    "\n",
    "If we plot the distribution of the strain as a function of location perpendicular to the neutral axis we get something like this (this graphic irritatingly uses x instead of y to measure the distance from the neutral axis)...\n",
    "\n",
    "<img src=\"https://raw.githubusercontent.com/smithrockmaker/ENGR213/master/images/beamStrainDist.png\" width=\"700\"/>\n"
   ]
  },
  {
   "cell_type": "markdown",
   "id": "3ea17d8f",
   "metadata": {},
   "source": [
    "### Pure Bending Stress\n",
    "\n",
    "Because we are assuming that we are within the elastic region of the beam material we know that....\n",
    "\n",
    ".$$\\large \\sigma = E \\epsilon$$\n",
    "\n",
    "..there is a simple relationship between the stress and the strain. Not surprisingly this is easily confused with bending strain relationship from before.\n",
    "\n",
    ".$$ \\large \\sigma_x = - \\frac{y}{c} \\sigma_{max}$$\n",
    "\n",
    "Remembering that $\\sigma = F/A$ and being cautious because the stress varies over the cross section we can determine the total normal force on the cross section through integration.\n",
    "\n",
    ".$$\\large N = \\int_{area}\\sigma_x \\: dA = 0$$\n",
    "\n",
    "Because we are considering only pure bending at the moment this means the normal force  = 0! We can take one more step at this point by noting that the total moment is the sum of the moments due to the distribution of forces on the cross section. This gives us...\n",
    "\n",
    ".$$\\large M = -\\int_{area}y\\:\\sigma_x \\: dA$$\n",
    "\n",
    "**Notice:** Now we have the beginings of a connection between the moment diagram and the bending characteristics of the beam. We have a little more work to do to simplify the relationship but I hope you have some sense of where we're going.\n",
    "\n",
    "**Note For Vable:** Vable uses a slightly different notation along the way to these relationships. Geometrically the [curvature of the beam](https://en.wikipedia.org/wiki/Curvature) has a relationship to the deflection of the beam (we will also get to this soon). If we describe the deflection of the beam axis from it's neutral position as v = v(x) then the curvature of the beam ($k = \\frac{1}{\\rho}$) is given by...\n",
    "\n",
    ".$$\\large k = \\frac{1}{\\rho} =  \\frac{d^2v}{dx^2}$$\n",
    "\n",
    "Making this substitution will make Vable's language consistent with what I have written here."
   ]
  },
  {
   "cell_type": "markdown",
   "id": "0bdf69ed",
   "metadata": {},
   "source": [
    "### Location of Neutral Axis:\n",
    "\n",
    "Starting with...\n",
    "\n",
    ".$$\\large N = \\int_{area}\\sigma_x \\: dA = 0$$\n",
    "\n",
    "..and substituting from....\n",
    "\n",
    ".$$ \\large \\sigma_x = - \\frac{y}{c} \\sigma_{max}$$\n",
    "\n",
    "...we get...\n",
    "\n",
    ".$$\\large 0 = \\int_{area}\\frac{y}{c} \\sigma_{max} \\: dA$$\n",
    "\n",
    "Because c and $\\sigma_{max}$ are non-zero constants we can extract them from the integral and it must be true that....\n",
    "\n",
    ".$$\\large 0 = \\int_{area}y\\: dA$$\n",
    "\n",
    "This can only be true if y is measured from the centroid of the cross section. We most commonly determine the centroid of a cross section from this expression..\n",
    "\n",
    ".$$\\large y_{neutral} = \\frac{\\sum y_i A_i}{\\sum A_i}$$\n",
    "\n",
    "The following example will help you make sense of the terms.\n",
    "\n",
    "<img src=\"https://raw.githubusercontent.com/smithrockmaker/ENGR213/master/images/beamCentroidEx.png\" width=\"600\"/>\n",
    "\n"
   ]
  },
  {
   "cell_type": "markdown",
   "id": "9418a72b",
   "metadata": {},
   "source": [
    "### Flexure Formula"
   ]
  },
  {
   "cell_type": "code",
   "execution_count": null,
   "id": "7f673ca3",
   "metadata": {},
   "outputs": [],
   "source": []
  }
 ],
 "metadata": {
  "kernelspec": {
   "display_name": "Python 3",
   "language": "python",
   "name": "python3"
  },
  "language_info": {
   "codemirror_mode": {
    "name": "ipython",
    "version": 3
   },
   "file_extension": ".py",
   "mimetype": "text/x-python",
   "name": "python",
   "nbconvert_exporter": "python",
   "pygments_lexer": "ipython3",
   "version": "3.8.5"
  }
 },
 "nbformat": 4,
 "nbformat_minor": 5
}
