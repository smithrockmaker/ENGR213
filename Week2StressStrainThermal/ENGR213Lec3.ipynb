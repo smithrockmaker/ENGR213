{
 "cells": [
  {
   "cell_type": "markdown",
   "metadata": {},
   "source": [
    "## ENGR 213 Lecture Notes\n",
    "\n",
    "### Lecture 3\n",
    "#### Chapter 3 in Vable\n",
    "\n",
    "This chapter is about the standard tool of materials engineering called the stress-strain diagram. This diagram documents the behavior of a given material across a wide range of stresses up to the point of failure. From this diagram we can anticipate the behavior of a material under particular use cases."
   ]
  },
  {
   "cell_type": "markdown",
   "metadata": {},
   "source": [
    "### Stress-Strain Diagram:\n",
    "\n",
    "A standard place to start the discussion of the stress-strain curve or diagram is with normal stresses particularly tension. It is no surprise that when we apply a normal stress to a material it stretches which we call strain. We can apply increasing tensile force to a sample while measuring the strain until the sample fails or breaks. Similar data sets exist for compression and torsion (shear) but we will begin our exploration thinking primarily about tensile data.\n",
    "\n",
    "Human beings come in a remarkable variety of forms and yet there are a set of common features that we usually see across all those forms. Stress-strain diagrams are the same. We are going to learn a language for describing a range of features that can occur in a stress-strain diagram but remember that not all features will look the same on different diagrams.\n"
   ]
  },
  {
   "cell_type": "markdown",
   "metadata": {},
   "source": [
    "### General Stress-Strain Diagram:\n",
    "\n",
    "Here is a very generic stress-strain diagram (from wiki) that show many typical features.\n",
    "\n",
    "<img src=\"https://raw.githubusercontent.com/smithrockmaker/ENGR213/master/images/GenericSS.png\" width=\"600\"/>\n",
    "\n",
    "Before we consider what the different features are we need clarify the idea of loading and unloading the material being tested. Implicit in the data presented in the plot is the idea that as we increase the stress (loading) the strain increases as indicated by the data. IF we stop increasing the stress and reduce it back to zero (incrementally) - called unloading then the strain returns along a 'path' that may **NOt** be the same as that indicated by the data.\n",
    "\n",
    "<img src=\"https://raw.githubusercontent.com/smithrockmaker/ENGR213/master/images/SSLoadUnload.png\" width=\"600\"/>"
   ]
  },
  {
   "cell_type": "markdown",
   "metadata": {},
   "source": [
    "### Proportional Limit:\n",
    "\n",
    "Two variables are proportional if they have a linear relationship. In many stress strain diagrams there is a region at the 'begining' of the diagram where the relationship between the stress and the strain is linear. This is the proportional or linear region of behavior. The maximum stress for which the stress and strain are proportional is called the proportional limit and is labeled $\\sigma_P$. If the stress on the material never exceeds $\\sigma_P$ then the material will return to it's original length when it is unloaded following along the linear region of the diagram.\n",
    "\n",
    "<img src=\"https://raw.githubusercontent.com/smithrockmaker/ENGR213/master/images/SSproportional.png\" width=\"600\"/>"
   ]
  },
  {
   "cell_type": "markdown",
   "metadata": {},
   "source": [
    "### Yield Stress:\n",
    "\n",
    "As we apply stress beyond the proportional limit the material still returns to it's original unstretched length until we reach a stress called the yield limit or yield point $\\sigma_y$. At the this point the material has been permamently deformed by the stress. As the material is unloaded it returns by a 'path' which is usually parallel to the proportional part of the diagram. This leaves the material being measured with a permanent strain called the offset strain. \n",
    "\n",
    "If we once again load the material it will still behave proportionally as long the stress remains below the proportional limit. When it is unloaded it will return to the new length defined by the offset strain.\n",
    "\n",
    "<img src=\"https://raw.githubusercontent.com/smithrockmaker/ENGR213/master/images/SSyield.png\" width=\"600\"/>\n",
    "\n",
    "### Offset Yield Stress:\n",
    "\n",
    "It is sometimes not clear where the yield point is. In such cases it is defined as the point where the offset strain indicated above is 0.2% (0.002)."
   ]
  },
  {
   "cell_type": "markdown",
   "metadata": {},
   "source": [
    "### After the Yield Point:\n",
    "\n",
    "After the yield stress the material will keep yielding as the stress is increased. When unloaded it will keep returning to some unloaded length. Some part of the strain created by the stress is now a permanent feature of the material (the plastic strain -- or the offset strain) and some part of the strain is elastic and will continue to come and go as the material is loaded and unloaded below the proportional limit.\n",
    "\n",
    "<img src=\"https://raw.githubusercontent.com/smithrockmaker/ENGR213/master/images/SSplasticElastic.png\" width=\"600\"/>"
   ]
  },
  {
   "cell_type": "markdown",
   "metadata": {},
   "source": [
    "### Ultimate and Fracture/Failure Stress:\n",
    "\n",
    "Because the standard stress-strain diagram determines stress using the initial undeformed cross sectional area of the  material many diagrams eventually start to drop as the material reaches close to it's point of failure. What this often looks like in the real world is that we put a large stress on the material and it 'sags' and stretches which increases the strain but also reduces the stress if it stretches enough. If we were to actually calculate the stress based on the actual cross section the stress-strain diagram usually continues upward towards the end.\n",
    "\n",
    "### Ultimate Stress:\n",
    "\n",
    "Whatever the highest stress shown on the diagram is referred to as the ultimate stress $\\sigma_u$. If you think about it this has implications for the failure of the material when in use. If the stress on the material due to external loading exceeds $\\sigma_u$ then the external loads will maintain that stress even as the material stretches until it fails. IF the stresses exceed $\\sigma_u$ for a short period of time one can imagine that the material stretches but does not fail. \n",
    "\n",
    "### Failure Stress:\n",
    "\n",
    "Eventually all materials reach a failure point at some stress $\\sigma_f$ \n",
    "\n",
    "<img src=\"https://raw.githubusercontent.com/smithrockmaker/ENGR213/master/images/SSult.png\" />"
   ]
  },
  {
   "cell_type": "markdown",
   "metadata": {},
   "source": [
    "### Strain Hardening/Necking:\n",
    "\n",
    "If the material undergoes significant plastic deformation at some point it will begin to thin out or neck. When this happens the cross sectional area actually reduces but if we are plotting the engineering strain using the orginal cross section the stress will appear to decrease. This part of the stress-strain diagram is after $\\sigma_u$ where the strain continues to increase while the stress decreases. The amount of necking is indicated by the elongation after $\\sigma_u$ and **NOT** by the drop in the stress.\n",
    "\n",
    "**Strain Hardening:** As we have seen, once the yield stress has been exceeded then the material returns to some longer deformed length. We it is put under new stress it will have a higher yield stress since it must return to the last applied stress before it will begin to yield again. The material is now more brittle (less elongation before failure) but it is harder. This process is called strain hardening. This often happens to metals as we work with them and in this context is often referred to as **work hardening**. \n",
    "\n",
    "<img src=\"https://raw.githubusercontent.com/smithrockmaker/ENGR213/master/images/SSneck.png\" width=\"600\"/>\n",
    "\n",
    "In practice necking in a sample typically looks like this bolt which has been subjected to normal stresses greater than $\\sigma_u$.\n",
    "\n",
    "<img src=\"https://raw.githubusercontent.com/smithrockmaker/ENGR213/master/images/neckingFailure.jpg\" width=\"600\"/>\n",
    "\n",
    "Here is an example of the evolving stress-strain diagrams for copper after it has been subjected to repeating stresses to produce strain hardening.\n",
    "\n",
    "<img src=\"https://raw.githubusercontent.com/smithrockmaker/ENGR213/master/images/strainHarden.png\" width=\"600\"/>\n",
    "\n"
   ]
  },
  {
   "cell_type": "markdown",
   "metadata": {},
   "source": [
    "### Ductile and Brittle:\n",
    "\n",
    "Ductile materials under significant plastic deformations before fracture. Aluminum and copper are examples. Rubber which undergoes large deformations is not considered ductile because those deformations are mostly elastic. Brittle materials show little or no plastic deformation before fracture.\n",
    "\n",
    "The relative ductility of different materials is sometimes expressed as the total strain before fracture/failure. \n",
    "\n",
    "**Copper:**\n",
    "\n",
    "<img src=\"https://raw.githubusercontent.com/smithrockmaker/ENGR213/master/images/SSductile.jpg\" width=\"600\"/>\n",
    "\n",
    "**Glass:**\n",
    "\n",
    "<img src=\"https://raw.githubusercontent.com/smithrockmaker/ENGR213/master/images/SSbrittle.png\" width=\"600\"/>\n"
   ]
  },
  {
   "cell_type": "markdown",
   "metadata": {},
   "source": [
    "### Young's Modulus (modulus of elasticity):\n",
    "\n",
    "In the region of elastic or proportional region of the diagram the material behaves just like an ideal physics spring. We can say...\n",
    "\n",
    ".$$\\large \\sigma = E \\epsilon$$\n",
    "\n",
    "..where E is known as the modulus of elasticity or Young's modulus. It is conceptually the same as a spring constant and it generally only defined for the region of the diagram up to the proportional limit. \n"
   ]
  },
  {
   "cell_type": "markdown",
   "metadata": {},
   "source": [
    "### Poisson's Ratio:\n",
    "\n",
    "As has been mentioned previously one would expect that as the material gets longer it must get 'narrower' in some sense due to conservation of matter. Poisson's ratio ($\\nu$) is defined as follows...\n",
    "\n",
    ".$$\\large \\nu = -\\frac{\\epsilon_{lateral}}{\\epsilon_{longitudinal}}$$\n",
    "\n",
    "...where the (-) sign indicates the opposite sense. If the material is getting longer (+) the width is getting narrower (-). Classically Poisson's ration ranges from -1 to 1/2. In looking at tables the magnitude of $\\nu$ is typically in the .3 range for metals which means the internal structure of the metal must be changing as it deforms. Here is an interesting representation of the magnitude of $\\nu$ for many of the materials in the periodic table.\n",
    "\n",
    "<img src=\"https://raw.githubusercontent.com/smithrockmaker/ENGR213/master/images/PoissonRatio.gif\" width=\"600\"/>"
   ]
  },
  {
   "cell_type": "markdown",
   "metadata": {},
   "source": [
    "### Strain Energy\n",
    "\n",
    "Like the stress-strain diagram for a Hooke's Law spring the area under the curve represents the energy absorbed by the material. This is called the strain energy and is represented with a $U_0$ like other potential energies we have dealt with. Formally $U_0$ is defined as...\n",
    "\n",
    ".$$\\large U_0 = \\int_0^{\\epsilon} \\sigma\\: d\\epsilon$$\n",
    "\n",
    "..but mostly what we want you to remember in this setting is that it is the area under the curve. Notice that some materials can absorb (store) much more energy before they fail than others. This can be an additional factor of design importance when we are concerned with unexpected stresses in a design.\n",
    "\n",
    "### Toughness:\n",
    "\n",
    "The toughness of a material is defined by the total strain energy under the curve up to failure. If you think about this for a moment the toughest materials will be both strong (high yield stress) and ductile. Brittle materials are often strong but NOT tough. Very ductile materials with low yield stresses are often weak (the opposite of tough) in this definition.\n",
    "\n",
    "<img src=\"https://raw.githubusercontent.com/smithrockmaker/ENGR213/master/images/SStough.png\" width=\"600\"/>"
   ]
  },
  {
   "cell_type": "markdown",
   "metadata": {},
   "source": [
    "### Tracking Changes in Material Properties:\n",
    "\n",
    "Stress-strain diagrams are an effective way of tracking the changes in material properties under different circumstances or with different fabrication processes. The temperature dependence of materials is often a concern. This is particularly an issue when considering the structural steel in a building in the event of a fire. Here are the stress-strain curves for steel at different temperatures.\n",
    "\n",
    "<img src=\"https://raw.githubusercontent.com/smithrockmaker/ENGR213/master/images/SStemperature.png\" width=\"600\"/>\n",
    "\n",
    "When we are seeking to modify the mechanical properties of a particular material the stress-strain diagrams allow us to make effective comparisons.\n",
    "\n",
    "<img src=\"https://raw.githubusercontent.com/smithrockmaker/ENGR213/master/images/SSproperties.png\" width=\"600\"/>\n",
    "\n"
   ]
  },
  {
   "cell_type": "markdown",
   "metadata": {},
   "source": [
    "### Compression and Shear:\n",
    "\n",
    "There are stress-strain diagrams for materials in compression as well as shear. In applications we tend to know which form of stress is most likely to lead to failure in a particular application. Here are an example of a compressive stress-strain diagram and a shear diagram. The compression stress-strain diagram is for concrete which is mostly used in compression. Notice the impact of the steel hoops embedded in the concrete columns being tested. The shear diagram if for some classes of rocks probably from a geophysicist looking at shear forces in earthquake faults.\n",
    "\n",
    "**Concrete:**\n",
    "\n",
    "<img src=\"https://raw.githubusercontent.com/smithrockmaker/ENGR213/master/images/SScompression.png\" width=\"600\"/>\n",
    "\n",
    "**Rocks:**\n",
    "\n",
    "<img src=\"https://raw.githubusercontent.com/smithrockmaker/ENGR213/master/images/SSshear.jpg\" width=\"600\"/>"
   ]
  },
  {
   "cell_type": "markdown",
   "metadata": {},
   "source": [
    "### Sample Problems:\n",
    "\n",
    "Example 2.4: It's all about geometry:)  \n",
    "Section 2.4: Small angle approximation"
   ]
  },
  {
   "cell_type": "markdown",
   "metadata": {},
   "source": [
    "***\n",
    "### Sample Problem: \n",
    "\n",
    ">A typical model for ....\n",
    "\n",
    "\n",
    "\n",
    "[Solution](https://github.com/smithrockmaker/ENGR213/blob/main/documents/SampleProb1-2.pdf)\n",
    "***"
   ]
  },
  {
   "cell_type": "code",
   "execution_count": null,
   "metadata": {},
   "outputs": [],
   "source": []
  }
 ],
 "metadata": {
  "kernelspec": {
   "display_name": "Python 3",
   "language": "python",
   "name": "python3"
  },
  "language_info": {
   "codemirror_mode": {
    "name": "ipython",
    "version": 3
   },
   "file_extension": ".py",
   "mimetype": "text/x-python",
   "name": "python",
   "nbconvert_exporter": "python",
   "pygments_lexer": "ipython3",
   "version": "3.8.5"
  }
 },
 "nbformat": 4,
 "nbformat_minor": 4
}
