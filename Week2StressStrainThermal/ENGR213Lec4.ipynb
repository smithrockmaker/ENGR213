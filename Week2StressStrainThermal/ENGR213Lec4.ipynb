{
 "cells": [
  {
   "cell_type": "markdown",
   "metadata": {},
   "source": [
    "## ENGR 213 Lecture Notes\n",
    "\n",
    "### Lecture 4\n",
    "#### Chapter 3 (3.9) in Vable\n",
    "\n",
    "We're used to thinking about the impact of external forces on engineering solutions but we sometimes overlook the effect of thermal expansion on the elements of a structure. Because thermal expansion is a process at the atomic level or molecular level it will happen whether we wish it or not. We sometimes can use this effect as an intentional design element and sometimes we need to anticipate the unintended consequences of thermal expansion. Given the precise tolerances for many technological tools will they work equivalently well in Antartica as well as the Middle East? \n",
    "\n",
    "In physics we typically talk about thermal expansion but in the context of materials engineering this language is modified to **thermal strain**."
   ]
  },
  {
   "cell_type": "markdown",
   "metadata": {},
   "source": [
    "### Thermal Strain:\n",
    "\n",
    "Perhaps you remember from physics that we described thermal expansion as...\n",
    "\n",
    ".$$\\large \\Delta L = \\alpha L_0 \\Delta T$$\n",
    "\n",
    "If we restructure this we get...\n",
    "\n",
    ".$$\\large \\epsilon_T = \\frac{\\Delta L}{L_0} = \\alpha \\Delta T$$\n",
    "\n",
    "We can now think of the total strain as the sum of the stress induced strain and the thermal strain.\n",
    "\n",
    ".$$\\large \\epsilon_{total} = \\epsilon_{\\sigma} + \\epsilon_T $$\n",
    "\n",
    "or\n",
    "\n",
    ".$$\\large \\epsilon_{total} = \\frac{\\sigma}{E} + \\alpha \\Delta T$$\n",
    "\n",
    "In this expression we are assuming that the material characteristics have not substantially changed due to the change in temperature.\n"
   ]
  },
  {
   "cell_type": "markdown",
   "metadata": {},
   "source": [
    "### Problem Solving Strategy:\n",
    "\n",
    "For thermal strain problems can be approached by considering the equilibrium strain given by the expression above that includes strain induced by normal stress and the thermal strain. Alternatively once can imagine the two strains happening sequentially. Usually we determine the strain due to temperature change and then consider what normal stress is needed to change the strain to meet the constraints of the problem.\n",
    "\n",
    "Vable's Example 3.10 explores these different approaches through method 1 and method 2."
   ]
  },
  {
   "cell_type": "markdown",
   "metadata": {},
   "source": [
    "***\n",
    "### Sample Problem: \n",
    "\n",
    ">A typical model for ....\n",
    "\n",
    "\n",
    "\n",
    "[Solution](https://github.com/smithrockmaker/ENGR213/blob/main/documents/SampleProb1-2.pdf)\n",
    "***"
   ]
  },
  {
   "cell_type": "code",
   "execution_count": null,
   "metadata": {},
   "outputs": [],
   "source": []
  }
 ],
 "metadata": {
  "kernelspec": {
   "display_name": "Python 3",
   "language": "python",
   "name": "python3"
  },
  "language_info": {
   "codemirror_mode": {
    "name": "ipython",
    "version": 3
   },
   "file_extension": ".py",
   "mimetype": "text/x-python",
   "name": "python",
   "nbconvert_exporter": "python",
   "pygments_lexer": "ipython3",
   "version": "3.8.5"
  }
 },
 "nbformat": 4,
 "nbformat_minor": 4
}
