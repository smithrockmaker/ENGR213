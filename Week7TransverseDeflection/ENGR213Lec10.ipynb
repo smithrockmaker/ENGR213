{
 "cells": [
  {
   "cell_type": "markdown",
   "id": "528a6f7c",
   "metadata": {},
   "source": [
    "## ENGR 213 Lecture Notes\n",
    "\n",
    "### Lecture 10\n",
    "#### Transverse Shear:\n",
    "\n",
    "Now that we have some sense of shear and moment diagrams and how they relate to the normal stresses across the face of a cross section of a beam it's time to add another layer to our thinking. An important characteristic of the normal stress across the cross section of a beam is that it is **NOT** constant. That means that there are different normal forces between adjacent longitutinal slices of the beam. This results in what are called **transverse shear** forces that can also lead to failure of the beam. Be sure to distinguish the transverse shear forces from the standard shear forces which are perpendicular to the axis of the beam."
   ]
  },
  {
   "cell_type": "markdown",
   "id": "9399f7c6",
   "metadata": {},
   "source": [
    "### Transverse Shear: Conceptual\n",
    "\n",
    "If you think of a beam as being made up of a lot of thin layers of the material the concept of transverse shear is relatively apparent. Take a stack of paper and flex the stack (bending a beam) and notice that the ends of the paper stick out relative to each other. This illustrates that the individual layers of paper have slipped (sheared) relative to each other. If the stack of paper were a solid block then the individual layers would be prevented from slipping leading to shear stress between the layers. A simplified illustration is shown below.\n",
    "\n",
    "<img src=\"https://raw.githubusercontent.com/smithrockmaker/ENGR213/master/images/beamTransverseShear.jpg\" width=\"600\"/>\n",
    "\n",
    ".$$\\large I_0 = \\int_m r^2\\: dm$$\n",
    "\n",
    "Where r is the location of each dm relative to the axis of rotation. This can get quite complex for 3D object though it is not so bad for planar objects. Please notice that the moment of inertia is a SCALAR not a vector!!\n",
    "\n",
    "Notice also that 'I' has units of $kg\\: m^2$. Another mixed set of units for which there is no special name at this point."
   ]
  },
  {
   "cell_type": "markdown",
   "id": "162e8908",
   "metadata": {},
   "source": [
    ".$$\\large I_0 = \\int_m r^2\\: dm$$\n",
    "\n",
    "Where r is the location of each dm relative to the axis of rotation. This can get quite complex for 3D object though it is not so bad for planar objects. Please notice that the moment of inertia is a SCALAR not a vector!!\n",
    "\n",
    "Notice also that 'I' has units of $kg\\: m^2$. Another mixed set of units for which there is no special name at this point."
   ]
  },
  {
   "cell_type": "code",
   "execution_count": null,
   "id": "d5bdfb4d",
   "metadata": {},
   "outputs": [],
   "source": []
  },
  {
   "cell_type": "code",
   "execution_count": null,
   "id": "224340da",
   "metadata": {},
   "outputs": [],
   "source": []
  }
 ],
 "metadata": {
  "kernelspec": {
   "display_name": "Python 3",
   "language": "python",
   "name": "python3"
  },
  "language_info": {
   "codemirror_mode": {
    "name": "ipython",
    "version": 3
   },
   "file_extension": ".py",
   "mimetype": "text/x-python",
   "name": "python",
   "nbconvert_exporter": "python",
   "pygments_lexer": "ipython3",
   "version": "3.8.5"
  }
 },
 "nbformat": 4,
 "nbformat_minor": 5
}
