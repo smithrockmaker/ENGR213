{
 "cells": [
  {
   "cell_type": "markdown",
   "id": "6f8bf0ee",
   "metadata": {},
   "source": [
    "## ENGR 213 Lecture Notes\n",
    "\n",
    "### Lecture 14\n",
    "#### Principle Axes and Mohr's Circle\n",
    "\n",
    "This actually seems like an appropriate place to finish the term. We are now aware that the effect of external stresses results in different normal and shear stresses along different axes. Not surprisingly there will be plane along which the normal stress or the shear stresses are maximized. This planes are called the principle axes and define the directions along which a materials will fail depending on whether they fail in tension/compression or in shear.\n",
    "\n",
    "There are two basic approaches to finding the principle axes. There is the computational approach and the graphical approach. With the advent of modern calculational tools from calculators to python notebooks the computational approach has become much easier to execute than it was just a couple of decades ago. Mohr's Circle is a graphical representation of the same set of calculations and provides an effective way of understanding what is happening visually even though the answer can be computed with relative ease. Mohr's Circle has the same relationship to the principle planes that the Bode plot in ENGR202 has to the calculation of the transfer function. "
   ]
  },
  {
   "cell_type": "markdown",
   "id": "c1024057",
   "metadata": {},
   "source": [
    "### Planar Stress Cube: Reminder\n",
    "\n",
    "On the left is the generalized 3D stress cube. On the right is the stress cube when we consider only planar stresses which is typical of many engineering settings.\n",
    "\n",
    "<img src=\"https://raw.githubusercontent.com/smithrockmaker/ENGR213/main/images/stressGeneral3D.gif\" width=\"500\"/>\n",
    "\n"
   ]
  },
  {
   "cell_type": "markdown",
   "id": "7f41ed75",
   "metadata": {},
   "source": [
    "### The Formal Math: Reminder\n",
    "\n",
    "The following remind us of sign conventions and labels for the stresses and planes when using the calculational process for determining stress along an arbitrary direction.\n",
    "\n",
    "<img src=\"https://raw.githubusercontent.com/smithrockmaker/ENGR213/main/images/stressConventions.png\" width=\"600\"/>\n",
    "\n",
    ".$$\\large \\sigma_{nn} = \\sigma_{xx}\\cos^2\\theta + \\sigma_{yy}\\sin^2\\theta + 2\\tau_{xy}\\sin\\theta\\cos\\theta$$\n",
    "\n",
    ".$$\\large \\tau_{nt} = -\\sigma_{xx}\\cos\\theta\\sin\\theta + \\sigma_{yy}\\sin\\theta\\cos\\theta + \\tau_{xy}(\\cos^2\\theta - \\sin^2\\theta)$$\n",
    "\n",
    "The transformed shear stress is the same along either plane of interest. If we wish to know the normal stress along the perpendicular plane of interest (the one we explored in the wedge example) the expression becomes....\n",
    "\n",
    ".$$\\large \\sigma_{nn\\perp} = \\sigma_{tt} = \\sigma_{xx}\\sin^2\\theta + \\sigma_{yy}\\cos^2\\theta - 2\\tau_{xy}\\cos\\theta\\sin\\theta$$"
   ]
  },
  {
   "cell_type": "markdown",
   "id": "1f526753",
   "metadata": {},
   "source": [
    "### Alternate Formulation:\n",
    "\n",
    "Using some of those clever trigonometric identities that you felt abused by years ago we can restate the above equations in an alternative form.\n",
    "\n",
    ".$$\\large \\sigma_{nn} = \\frac{\\sigma_{xx} + \\sigma_{yy}}{2} + \\frac{\\sigma_{xx} - \\sigma_{yy}}{2}\\cos 2\\theta + \\tau_{xy}\\: \\sin 2\\theta$$\n",
    "\n",
    ".$$\\large \\tau_{nt} =\\frac{\\sigma_{xx} - \\sigma_{yy}}{2}\\sin 2\\theta + \\tau_{xy}\\: \\cos 2\\theta$$"
   ]
  },
  {
   "cell_type": "markdown",
   "id": "2d7631bb",
   "metadata": {},
   "source": [
    "### Maximum Plane Stress: Principle Axes\n",
    "\n",
    "Differentiating the expressions above with respect to $\\theta$ leads us to the planes which maximize the normal or shear stress. \n",
    "\n",
    ".$$\\large \\tan(2\\theta_n) = \\frac{2 \\tau_{xy}}{\\sigma_{xx}-\\sigma_{yy}}$$\n",
    "\n",
    ".$$\\large \\tan(2\\theta_s) = -\\frac{\\sigma_{xx}-\\sigma_{yy}}{2 \\tau_{xy}}$$\n",
    "\n",
    "Given that the two expressions above are inverses of each other it is no surprise that there is a specific relationship between the plane that maximizes normal stress and that which maximizes shear stress.\n",
    "\n",
    ".$$\\large \\tan(2\\theta_s) = \\frac{-1}{\\tan(2\\theta_n)} = \\tan(90^{\\circ} + 2\\theta_n)$$\n",
    "\n",
    "This means that...\n",
    "\n",
    ".$$\\large \\theta_s = 45^{\\circ} + \\theta_n$$\n",
    "\n",
    "**Conceptual Takeaway:** This last expression is an important conceptual take away which is that the plane of maximum normal stress and maximum shear stress are always $45^{\\circ}$ apart for pure plane stress."
   ]
  },
  {
   "cell_type": "markdown",
   "id": "9ce9ee4b",
   "metadata": {},
   "source": [
    "### Mohr's Circle:\n",
    "\n",
    "As it turns out the equations describing the stresses along an arbitrary plane are analogous to the equation of a circle. This allows us to generate a graphical representation of the equations. As [Rebecca Brannon](https://www.mech.utah.edu/directory/faculty/rebecca-brannon/) at the University of Utah points out Mohr's Circle has been with us a long time. It is useful for visualizing and estimating stresses and the principle planes when you don't have access to a calculator. Rebecca wrote a nice [Mohr's Circle tutorial](https://csmbrannon.net/2011/03/03/mohrs-circle/). Vable's illustration of the structure of Mohr's Circle in Figure 8.17 is very clear. Here is another similar version. **Note:** There are boatloads of descriptions of the structure of Mohr's Circle on the web which are all equivalent but express the structure slightly differently. \n",
    "\n",
    "<img src=\"https://raw.githubusercontent.com/smithrockmaker/ENGR213/main/images/mohrsStructure.png\" width=\"600\"/>\n",
    "\n",
    "A couple of things to note that are relatively apparent from the image:\n",
    "\n",
    ".$$\\large \\frac{\\sigma_{max}+\\sigma_{min}}{2} = \\frac{\\sigma_{xx}+\\sigma_{yy}}{2}$$\n",
    "\n",
    ".$$\\large R = \\sqrt{[\\frac{\\sigma_{xx} - \\sigma_{yy}}{2}]^2 + \\tau_{xy}^2}$$"
   ]
  },
  {
   "cell_type": "markdown",
   "id": "b63f0619",
   "metadata": {},
   "source": [
    "### Angles on Mohr's Circle:\n",
    "\n",
    "Mathematically what appears in the equations is always $2\\theta$ so all angle on Mohr's Circle are twice the actual rotation angle of the stress cube in 'reality'. The end points of the diameter initially constructed on Mohr's Circle (shown above) are the external stress on the cube in what Vable calls the 'global coordinate system' and other's call the x-y coordinate system. "
   ]
  },
  {
   "cell_type": "markdown",
   "id": "23424b4a",
   "metadata": {},
   "source": [
    "### Principle Axes:\n",
    "\n",
    "The principle axes are the planes where normal and shear stress are maximum. If you imagine rotating the diameter on Mohr's Circle until it is horizontal then there would be no shear stress (vertical axis) and $\\sigma_{xx}$ would be maximized. The angle through which the diameter is rotated is twice the angular rotation of the stress cube in the physical world which is why it is labelled as $2\\theta$. If you rotate the diameter until it is vertical the shear stresses will be maximized and the normal stresses $\\sigma_{xx}$ and $\\sigma_{yy}$ will be the same and equal to the average normal stress. \n",
    "\n",
    "Notice that at the maximum normal stress there is no shear stress but the converse is not true for the maximum shear stress. In addition notice that the location of the maximum normal stress and maximum shear stress are $90^{\\circ}$ apart on Mohr's Circle which means these planes are $45^{\\circ}$ apart in the physical world."
   ]
  },
  {
   "cell_type": "markdown",
   "id": "f2d02193",
   "metadata": {},
   "source": [
    "### Interative Mohr's Circle Notebook:\n",
    "\n",
    "In the Applications folder on the github there is a notebook called InteractiveMohrs.ipynb which generates Mohr's Circle for an arbitrary set of external stresses and plane of interest."
   ]
  },
  {
   "cell_type": "code",
   "execution_count": null,
   "id": "f2613751",
   "metadata": {},
   "outputs": [],
   "source": []
  }
 ],
 "metadata": {
  "kernelspec": {
   "display_name": "Python 3",
   "language": "python",
   "name": "python3"
  },
  "language_info": {
   "codemirror_mode": {
    "name": "ipython",
    "version": 3
   },
   "file_extension": ".py",
   "mimetype": "text/x-python",
   "name": "python",
   "nbconvert_exporter": "python",
   "pygments_lexer": "ipython3",
   "version": "3.8.5"
  }
 },
 "nbformat": 4,
 "nbformat_minor": 5
}
