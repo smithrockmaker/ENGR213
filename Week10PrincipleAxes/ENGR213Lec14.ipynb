{
 "cells": [
  {
   "cell_type": "markdown",
   "id": "0bad7795",
   "metadata": {},
   "source": [
    "## ENGR 213 Lecture Notes\n",
    "\n",
    "### Lecture 14\n",
    "#### Principle Axes and Mohr's Circle\n",
    "\n",
    "This actually seems like an appropriate place to finish the term. We are now aware that the effect of external stresses results in different normal and shear stresses along different axes. Not surprisingly there will be plane along which the normal stress or the shear stresses are maximized. This planes are called the principle axes and define the directions along which a materials will fail depending on whether they fail in tension/compression or in shear.\n",
    "\n",
    "There are two basic approaches to finding the principle axes. There is the computational approach and the graphical approach. With the advent of modern calculational tools from calculators to python notebooks the computational approach has become much easier to execute than it was just a couple of decades ago. Mohr's Circle is a graphical representation of the same set of calculations and provides an effective way of understanding what is happening visually even though the answer can be computed with relative ease. Mohr's Circle has the same relationship to the principle planes that the Bode plot in ENGR202 has to the calculation of the transfer function. "
   ]
  },
  {
   "cell_type": "markdown",
   "id": "e89907e4",
   "metadata": {},
   "source": [
    "### Planar Stress Cube: Reminder\n",
    "\n",
    "On the left is the generalized 3D stress cube. On the right is the stress cube when we consider only planar stresses which is typical of many engineering settings.\n",
    "\n",
    "<img src=\"https://raw.githubusercontent.com/smithrockmaker/ENGR213/main/images/stressGeneral3D.gif\" width=\"500\"/>\n",
    "\n"
   ]
  },
  {
   "cell_type": "markdown",
   "id": "eb1490c1",
   "metadata": {},
   "source": [
    "### The Formal Math: Reminder\n",
    "\n",
    "The following remind us of sign conventions and labels for the stresses and planes when using the calculational process for determining stress along an arbitrary direction.\n",
    "\n",
    "<img src=\"https://raw.githubusercontent.com/smithrockmaker/ENGR213/main/images/stressConventions.png\" width=\"600\"/>\n",
    "\n",
    ".$$\\large \\sigma_{nn} = \\sigma_{xx}\\cos^2\\theta + \\sigma_{yy}\\sin^2\\theta + 2\\tau_{xy}\\sin\\theta\\cos\\theta$$\n",
    "\n",
    ".$$\\large \\tau_{nt} = -\\sigma_{xx}\\cos\\theta\\sin\\theta + \\sigma_{yy}\\sin\\theta\\cos\\theta + \\tau_{xy}(\\cos^2\\theta - \\sin^2\\theta)$$\n",
    "\n",
    "The transformed shear stress is the same along either plane of interest. If we wish to know the normal stress along the perpendicular plane of interest (the one we explored in the wedge example) the expression becomes....\n",
    "\n",
    ".$$\\large \\sigma_{nn\\perp} = \\sigma_{tt} = \\sigma_{xx}\\sin^2\\theta + \\sigma_{yy}\\cos^2\\theta - 2\\tau_{xy}\\cos\\theta\\sin\\theta$$"
   ]
  },
  {
   "cell_type": "markdown",
   "id": "1295d5f3",
   "metadata": {},
   "source": [
    "### Alternate Formulation:\n",
    "\n",
    "Using some of those clever trigonometric identities that you felt abused by years ago we can restate the above equations in an alternative form.\n",
    "\n",
    ".$$\\large \\sigma_{nn} = \\frac{\\sigma_{xx} + \\sigma_{yy}}{2} + \\frac{\\sigma_{xx} - \\sigma_{yy}}{2}\\cos 2\\theta + \\tau_{xy}\\: \\sin 2\\theta$$\n",
    "\n",
    ".$$\\large \\tau_{nt} =\\frac{\\sigma_{xx} - \\sigma_{yy}}{2}\\sin 2\\theta + \\tau_{xy}\\: \\cos 2\\theta$$"
   ]
  },
  {
   "cell_type": "markdown",
   "id": "d8228351",
   "metadata": {},
   "source": [
    "### Maximum Plane Stress: Principle Axes\n",
    "\n",
    "Differentiating the expressions above with respect to $\\theta$ leads us to the planes which maximize the normal or shear stress. \n",
    "\n",
    ".$$\\large \\tan(2\\theta_n) = \\frac{2 \\tau_{xy}}{\\sigma_{xx}-\\sigma_{yy}}$$\n",
    "\n",
    ".$$\\large \\tan(2\\theta_s) = -\\frac{\\sigma_{xx}-\\sigma_{yy}}{2 \\tau_{xy}}$$\n",
    "\n",
    "Given that the two expressions above are inverses of each other it is no surprise that there is a specific relationship between the plane that maximizes normal stress and that which maximizes shear stress.\n",
    "\n",
    ".$$\\large \\tan(2\\theta_s) = \\frac{-1}{\\tan(2\\theta_n)} = \\tan(90^{\\circ} + 2\\theta_n)$$\n",
    "\n",
    "This means that...\n",
    "\n",
    ".$$\\large \\theta_s = 45^{\\circ} + \\theta_n$$\n",
    "\n",
    "**Conceptual Takeaway:** This last expression is an important conceptual take away which is that the plane of maximum normal stress and maximum shear stress are always $45^{\\circ}$ apart for pure plane stress."
   ]
  },
  {
   "cell_type": "markdown",
   "id": "3a69fd12",
   "metadata": {},
   "source": [
    "### Mohr's Circle:\n",
    "\n",
    "As it turns out the equations describing the stresses along an arbitrary plane are analogous to the equation of a circle. This allows us to generate a graphical representation of the equations. As [Rebecca Brannon](https://www.mech.utah.edu/directory/faculty/rebecca-brannon/) at the University of Utah points out Mohr's Circle has been with us a long time. It is useful for visualizing and estimating stresses and the principle planes when you don't have access to a calculator. Rebecca wrote a nice [Mohr's Circle tutorial](https://csmbrannon.net/2011/03/03/mohrs-circle/). Vable's illustration of the structure of Mohr's Circle in Figure 8.17 is very clear. Here is another similar version. **Note:** There are\n",
    "\n",
    "<img src=\"https://raw.githubusercontent.com/smithrockmaker/ENGR213/main/images/mohrsStructure.png\" width=\"600\"/>\n"
   ]
  },
  {
   "cell_type": "code",
   "execution_count": null,
   "id": "d9febd73",
   "metadata": {},
   "outputs": [],
   "source": []
  }
 ],
 "metadata": {
  "kernelspec": {
   "display_name": "Python 3",
   "language": "python",
   "name": "python3"
  },
  "language_info": {
   "codemirror_mode": {
    "name": "ipython",
    "version": 3
   },
   "file_extension": ".py",
   "mimetype": "text/x-python",
   "name": "python",
   "nbconvert_exporter": "python",
   "pygments_lexer": "ipython3",
   "version": "3.8.5"
  }
 },
 "nbformat": 4,
 "nbformat_minor": 5
}
