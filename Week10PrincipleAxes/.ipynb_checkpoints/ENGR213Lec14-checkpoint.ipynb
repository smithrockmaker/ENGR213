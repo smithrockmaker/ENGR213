{
 "cells": [
  {
   "cell_type": "markdown",
   "id": "836796e8",
   "metadata": {},
   "source": [
    "## ENGR 213 Lecture Notes\n",
    "\n",
    "### Lecture 13\n",
    "#### Stress Transformation:\n",
    "\n",
    "Over the last weeks we have considered the internal stresses in a beam under load. Before that we explored the behavior of materials through their elastic region to yielding and failure when experiencing normal or shear stresses. What we need to consider now is the more complex question of failure of materials when they are subject to a mix of planar stresses. Generally this will expressed as two potential normal stresses at right angles to each other and a single shear stress. From this information we can determine the direction along which the material of the beam will feel the maximum normal and shear stresses. We can also determine the normal and shear stresses along an arbitrary direction that may be important due to a weld seam or the grain of the wood.\n",
    "\n",
    "This process of taking the known stresses and determining their effect along different directions is called stress transformation. In it's most direct form it is much like doing a freebody diagram and setting the net forces equal to zero. Before the advent of computers engineers often used Mohr's Circle to do these calculations. We will explore Mohr's Circle in a number of ways."
   ]
  },
  {
   "cell_type": "markdown",
   "id": "ce9cb772",
   "metadata": {},
   "source": [
    "### Planar Stress Cube:\n",
    "\n",
    "For the purposes of this class we are addressing stresses that occur in a plane rather than the full generality of 3D stresses. Planar stress settings are much more common in general engineering practice than complex 3D stresses. I would expect that aerospace engineering to be an exception to this statement.\n",
    "\n",
    "In the image below illustrates the stresses on a cube of the material under load. The left hand cube is subject to the most general stress which includes three normal stress (one along each axis) and 3 shear stresses (two on each face that are equal to various shear stresses on other faces. \n",
    "\n",
    "When we limit the stress to occur in a plane we get the cube (in cross section) illustrated on the right. In this exaple there are two normal stresses (remember Poisson's ratio?) and a shear stress which is the same along each pair of faces. Remember that shear strain is described by the deformation angle which will be the same along the two directions if you consider the geometry.\n",
    "\n",
    "<img src=\"https://raw.githubusercontent.com/smithrockmaker/ENGR213/main/images/stressGeneral3D.gif\" width=\"500\"/>\n",
    "\n",
    "As we often do in science and engineering let's take a simplified case to explore the effect of a single normal stress on the stresses along a different direction in the cube."
   ]
  },
  {
   "cell_type": "markdown",
   "id": "a41ffcec",
   "metadata": {},
   "source": [
    "### 'Simple' Example: Pure Normal Stress - 1 axis\n",
    "\n",
    "This is taken from Example 8.1 in Vable. We are asked to consider the normal stress along the bottom edge of a bridge beam. A basic cube of the material along the edge has ONLY a normal stress in the x direction. In the setting for this example there bridge beam has a welded joint along a line that is $35^{\\circ}$ above the horizontal. The underlying question is what are the stresses (normal and shear) along the weld seam. The illustration below shows the normal stress on the cube as well as the orientation of the weld joint.\n",
    "\n",
    "<img src=\"https://raw.githubusercontent.com/smithrockmaker/ENGR213/main/images/stressCube.png\" width=\"300\"/>\n",
    "\n",
    "If we now consider the portion of the cube 'below' the weld joint we first need to define a clear coordinate system. Vable labels the external coordinate system of the bridge beam the **global coordinate system** and the coordinate system within the cube along the weld joint to be the **local coordinate system**. In other texts these are referred to as the $(x, y)$ - global - and $(x^{'}, y^{'})$ - local - coordinate systems.\n",
    "\n",
    "Notice that the $\\hat{n}$ is easy to define as perpendicular to the plane of the weld joint. The direction of $\\hat{t}$ (tangential) is chosen so that $\\hat{n}\\: x\\: \\hat{t} = \\hat{z}$. These define our (+) directions.\n",
    "\n",
    "<img src=\"https://raw.githubusercontent.com/smithrockmaker/ENGR213/main/images/stressWedge.png\" width=\"700\"/>"
   ]
  },
  {
   "cell_type": "markdown",
   "id": "fd1d5b19",
   "metadata": {},
   "source": [
    "Because this wedge of material must be in equilibrium the net forces must be zero. This is where we have to be a little careful because our initial information is in the form of stresses which are force/area. The areas on the faces of the wedge are different and must be accounted for.\n",
    "\n",
    "#### Area:\n",
    "\n",
    "Since we are interested in the stresses along the weld joint we will use that surface as the reference. The area of the surface define by the weld joint is given by...\n",
    "\n",
    ".$$ \\large \\Delta A = \\Delta t \\Delta z$$\n",
    "\n",
    "What we will find in the end is this area occurs in every term and ultimately cancels out. For now it is helpful to be clear about how this area affects the determination of the forces on the wedge that are in equilibrium. \n",
    "\n",
    "#### Freebody Diagram:\n",
    "\n",
    "The Force wedge is represents the conversion of the stresses into forces. Given that our interest is the stress along the $\\hat{n}$ and $\\hat{t}$ directions we take the components of $F_x$ along those axes as shown. Setting up the equilibrium equations we find that....\n",
    "\n",
    ".$$\\large \\sigma_{nn} \\Delta t \\Delta z = (150 \\Delta t\\: \\sin(35^{\\circ})\\: \\Delta z)\\:\\sin(35^{\\circ})$$\n",
    "\n",
    "..which we could write as ....\n",
    "\n",
    ".$$\\large \\sigma_{nn} \\Delta A = \\sigma_{xx} \\sin(\\theta)^2 \\Delta A \\implies \\sigma_{nn} = \\sigma_{xx} \\sin(\\theta)^2$$\n",
    "\n",
    "..where $\\theta$ is the angle of plane of interest. \n",
    "\n",
    "Similarly we can determine the shear stress \n",
    "\n",
    ".$$\\large \\tau_{nt} \\Delta t \\Delta z = (150 \\Delta t\\: \\sin(35^{\\circ})\\: \\Delta z)\\:\\cos(35^{\\circ})$$\n",
    "\n",
    "..which can be written more generally as ....\n",
    "\n",
    ".$$ \\large \\tau_{nt} = \\sigma_{xx}\\: \\sin(\\theta)\\:\\cos(\\theta)$$"
   ]
  },
  {
   "cell_type": "markdown",
   "id": "96fce726",
   "metadata": {},
   "source": [
    "### The Take Aways:\n",
    "\n",
    "* External stresses on a material lead to different normal and shear stresses along different planes.\n",
    "* A good freebody diagram allows us to determine the normal and shear stresses along a plane from basic Newtonian mechanics.\n",
    "* Ultimately the area term cancels out but it is conceptually helpful to remember it's presence.\n",
    "\n",
    "If we look at the entire process from a cross sectional view it would look like this. In this visualization the contribution of the width and depth that contribute to the area is hidden which is why I wanted to take the time to explore the previous approach in detail.\n",
    "\n",
    "<img src=\"https://raw.githubusercontent.com/smithrockmaker/ENGR213/main/images/stressSteps.png\" width=\"800\"/>"
   ]
  },
  {
   "cell_type": "markdown",
   "id": "26e3892f",
   "metadata": {},
   "source": [
    "### More Generally:\n",
    "\n",
    "Consider now a more general situation where we have all possible plane stresses. In this example (Vable Example 8.2) the plane of interest is at $30^{\\circ}$ to the horizontal. The steps towards a solution are illustrated below (in cross section) starting with the stresses on the cube and then the stresses on the wedge with the normal and tangential directions clearly indicated.\n",
    "\n",
    "**Important to Note:** The shear stress of 50 MPa occurs equally along all 4 surfaces. This is because the shear strain is the same vertically and horizontally and like the normal stresses they must occur in pairs on opposite surfaces to cancel and maintain equilibrium.\n",
    "\n",
    "<img src=\"https://raw.githubusercontent.com/smithrockmaker/ENGR213/main/images/stressComplex1.png\" width=\"600\"/>\n",
    "\n",
    "We then convert the stresses to forces redrawing as a freebody diagram. The net external forces on the x and y surfaces are indicated on the last drawing. The last step is to mathematically set them equal to the normal and shear forces on the plane of interest. \n",
    "\n",
    "<img src=\"https://raw.githubusercontent.com/smithrockmaker/ENGR213/main/images/stressComplex2.png\" width=\"600\"/>\n",
    "\n",
    "Like so many complex problems the steps are relatively straightforward and depend entirely on the initial representation of the stresses on the cube and a lot of careful algebra."
   ]
  },
  {
   "cell_type": "markdown",
   "id": "046e28e4",
   "metadata": {},
   "source": [
    "### The Formal Math:\n",
    "\n",
    "You can surely tell that we must be able to develop a formal mathematical way to make these stress transformations. To use them effectively one has to be VERY careful about signs and labels so consider yourself warned:) Here are the labels that define the (+) directions for the equations. Note that $\\theta$ defines two planes of interest. \n",
    "\n",
    "<img src=\"https://raw.githubusercontent.com/smithrockmaker/ENGR213/main/images/stressConventions.png\" width=\"600\"/>\n",
    "\n",
    ".$$\\large \\sigma_{nn} = \\sigma_{xx}\\cos^2\\theta + \\sigma_{yy}\\sin^2\\theta + 2\\tau_{xy}\\sin\\theta\\cos\\theta$$\n",
    "\n",
    ".$$\\large \\tau_{nt} = -\\sigma_{xx}\\cos\\theta\\sin\\theta + \\sigma_{yy}\\sin\\theta\\cos\\theta + \\tau_{xy}(\\cos^2\\theta - \\sin^2\\theta)$$\n",
    "\n",
    "The transformed shear stress is the same along either plane of interest. If we wish to know the normal stress along the perpendicular plane of interest (the one we explored in the wedge example) the expression becomes....\n",
    "\n",
    ".$$\\large \\sigma_{nn\\perp} = \\sigma_{tt} = \\sigma_{xx}\\sin^2\\theta + \\sigma_{yy}\\cos^2\\theta - 2\\tau_{xy}\\cos\\theta\\sin\\theta$$"
   ]
  },
  {
   "cell_type": "markdown",
   "id": "43047d01",
   "metadata": {},
   "source": [
    "### Alternate Formulation:\n",
    "\n",
    "Using some of those clever trigonometric identities that you felt abused by years ago we can restate the above equations in an alternative form.\n",
    "\n",
    ".$$\\large \\sigma_{nn} = \\frac{\\sigma_{xx} + \\sigma_{yy}}{2} + \\frac{\\sigma_{xx} - \\sigma_{yy}}{2}\\cos 2\\theta + \\tau_{xy}\\: \\sin 2\\theta$$\n",
    "\n",
    ".$$\\large \\tau_{nt} =\\frac{\\sigma_{xx} - \\sigma_{yy}}{2}\\sin 2\\theta + \\tau_{xy}\\: \\cos 2\\theta$$"
   ]
  },
  {
   "cell_type": "markdown",
   "id": "ff21f559",
   "metadata": {},
   "source": [
    "### Maximum Plane Stress: Principle Axes\n",
    "\n",
    "Not suprisingly it would be lovely to know what direction ($\\theta$ leads to the maximum shear or normal stress. That is the topic of our last discussion."
   ]
  },
  {
   "cell_type": "code",
   "execution_count": null,
   "id": "ae457f4c",
   "metadata": {},
   "outputs": [],
   "source": []
  }
 ],
 "metadata": {
  "kernelspec": {
   "display_name": "Python 3",
   "language": "python",
   "name": "python3"
  },
  "language_info": {
   "codemirror_mode": {
    "name": "ipython",
    "version": 3
   },
   "file_extension": ".py",
   "mimetype": "text/x-python",
   "name": "python",
   "nbconvert_exporter": "python",
   "pygments_lexer": "ipython3",
   "version": "3.8.5"
  }
 },
 "nbformat": 4,
 "nbformat_minor": 5
}
