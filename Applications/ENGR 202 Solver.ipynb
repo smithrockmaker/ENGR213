{
 "cells": [
  {
   "cell_type": "markdown",
   "metadata": {},
   "source": [
    "# ENGR 202 Solver"
   ]
  },
  {
   "cell_type": "code",
   "execution_count": 1,
   "metadata": {},
   "outputs": [],
   "source": [
    "# importing the needed modules\n",
    "import cmath as c\n",
    "import math as m"
   ]
  },
  {
   "cell_type": "markdown",
   "metadata": {},
   "source": [
    "## Solve for $X_C$  "
   ]
  },
  {
   "cell_type": "code",
   "execution_count": 4,
   "metadata": {},
   "outputs": [
    {
     "name": "stdout",
     "output_type": "stream",
     "text": [
      "Xc = -636.6197723675813\n"
     ]
    }
   ],
   "source": [
    "# Where f is frequency, cap is the value of the capacitor, and xcap is the capacitive reactance\n",
    "\n",
    "f = 5*10**3\n",
    "cap = 50*(10**-9)\n",
    "xcap = 1/-(2*m.pi*f*cap)\n",
    "print(\"Xc =\",xcap)"
   ]
  },
  {
   "cell_type": "markdown",
   "metadata": {},
   "source": [
    "## Solve for $X_L$  "
   ]
  },
  {
   "cell_type": "code",
   "execution_count": 5,
   "metadata": {},
   "outputs": [
    {
     "name": "stdout",
     "output_type": "stream",
     "text": [
      "XL = 6283.185307179587\n"
     ]
    }
   ],
   "source": [
    "# Where f is the frequency, l is the inductor value, and xind is the inductive reactance\n",
    "\n",
    "f = 5*10**3\n",
    "l = 200*(10**-3)\n",
    "xind = 2*m.pi*f*l\n",
    "print(\"XL =\",xind)"
   ]
  },
  {
   "cell_type": "markdown",
   "metadata": {},
   "source": [
    "## Define A complex number in rectangular form"
   ]
  },
  {
   "cell_type": "code",
   "execution_count": 6,
   "metadata": {},
   "outputs": [
    {
     "name": "stdout",
     "output_type": "stream",
     "text": [
      "For capacitor - (100-636.6197723675813j)\n",
      "For inductor - (100+6283.185307179587j)\n"
     ]
    }
   ],
   "source": [
    "# All values except r pulled from previous cells\n",
    "# Solutions are given in Rectangular form\n",
    "# Negative value for Xc already accounted for\n",
    "\n",
    "r = 100              # Resistor value\n",
    "x_c = r + 1j*(xcap)\n",
    "print(\"For capacitor -\",x_c)\n",
    "\n",
    "x_i = r + 1j*(xind)\n",
    "print(\"For inductor -\",x_i)"
   ]
  },
  {
   "cell_type": "markdown",
   "metadata": {},
   "source": [
    "## Convert from Rectangular to Polar  "
   ]
  },
  {
   "cell_type": "code",
   "execution_count": 7,
   "metadata": {},
   "outputs": [
    {
     "name": "stdout",
     "output_type": "stream",
     "text": [
      "Magnitude, radians (644.4258953280439, -1.414989826825355)\n",
      "Magnitude, radians (6283.981031508405, 1.5548821760954434)\n"
     ]
    }
   ],
   "source": [
    "# Answers are given in magnitude and radians. Convert if degrees are necessary.\n",
    "\n",
    "y = c.polar(x_c)\n",
    "print(\"Magnitude, radians\",y)\n",
    "\n",
    "y = c.polar(x_i)\n",
    "print(\"Magnitude, radians\",y)"
   ]
  },
  {
   "cell_type": "markdown",
   "metadata": {},
   "source": [
    "## Convert from Radians to Degrees  \n",
    "The above answers will be in radians, use the following code to convert to degrees."
   ]
  },
  {
   "cell_type": "code",
   "execution_count": 8,
   "metadata": {},
   "outputs": [
    {
     "name": "stdout",
     "output_type": "stream",
     "text": [
      "Angle in degrees = -81.07294513104007\n"
     ]
    }
   ],
   "source": [
    "#substitute x_c and x_i as needed\n",
    "\n",
    "z=c.phase(x_c)\n",
    "m.degrees(z)\n",
    "\n",
    "print(\"Angle in degrees =\",m.degrees(z))"
   ]
  },
  {
   "cell_type": "markdown",
   "metadata": {},
   "source": [
    "## Simple Circuit in Series  "
   ]
  },
  {
   "cell_type": "code",
   "execution_count": 9,
   "metadata": {},
   "outputs": [
    {
     "name": "stdout",
     "output_type": "stream",
     "text": [
      "Series Rectangular Form = (100+6919.805079547168j)\n"
     ]
    }
   ],
   "source": [
    "# For following three cells, if reactance is already given, replace \"xind\" or\"xcap\" with corresponding j value\n",
    "# Resistor value is overwritten from previous cells when changed here\n",
    "# Not all simple circuits will have all three components. Modify as needed.\n",
    "# Original formula - series_comb = r + ind + cap\n",
    "\n",
    "r = 100              # Resistor Value\n",
    "ind = 0 + xind*1j\n",
    "cap = 0 - xcap*1j\n",
    "series_comb = r + ind + cap\n",
    "print(\"Series Rectangular Form =\",series_comb)"
   ]
  },
  {
   "cell_type": "markdown",
   "metadata": {},
   "source": [
    "## Simple Parallel Circuit - Product/Sum"
   ]
  },
  {
   "cell_type": "code",
   "execution_count": 10,
   "metadata": {},
   "outputs": [
    {
     "name": "stdout",
     "output_type": "stream",
     "text": [
      "Product/sum Rectangular Form = (97.59201358307332-15.329717646080926j)\n"
     ]
    }
   ],
   "source": [
    "# Product sum rule works only with 2 components\n",
    "# Original Formula - prod_sum = res*cap/(res + cap)\n",
    "\n",
    "ind = 0 + xind*1j\n",
    "cap = 0 + xcap*1j\n",
    "res = 100\n",
    "prod_sum = res*cap/(res + cap)\n",
    "print(\"Product/sum Rectangular Form =\",prod_sum)"
   ]
  },
  {
   "cell_type": "markdown",
   "metadata": {},
   "source": [
    "## Simple Parallel Circuit  "
   ]
  },
  {
   "cell_type": "code",
   "execution_count": 11,
   "metadata": {},
   "outputs": [
    {
     "name": "stdout",
     "output_type": "stream",
     "text": [
      "Parallel Rectangular Form = (98.04620253923555-13.840607701931122j)\n"
     ]
    }
   ],
   "source": [
    "# Use as many components as necessary\n",
    "# Original formula - parallel_comb = 1/(1/res + 1/ind + 1/cap)\n",
    "\n",
    "ind = 0 + xind*1j\n",
    "cap = 0 + xcap*1j\n",
    "res = 100\n",
    "parallel_comb = 1/(1/res + 1/ind + 1/cap)\n",
    "print(\"Parallel Rectangular Form =\",parallel_comb)"
   ]
  },
  {
   "cell_type": "markdown",
   "metadata": {},
   "source": [
    "## Current Solver  "
   ]
  },
  {
   "cell_type": "code",
   "execution_count": 12,
   "metadata": {},
   "outputs": [
    {
     "name": "stdout",
     "output_type": "stream",
     "text": [
      "Z Polar =  (99.01828242260899, -0.14023751838586943) \n",
      "\n",
      " Z Rectangular = (98.04620253923555-13.840607701931122j) \n",
      "\n",
      "Source Current = (0.1+0.014116413837030016j) \n",
      " Source Current, Polar = (0.1009914508244054, 0.14023751838586943) \n",
      " Angle =  8.035017932898603 \n",
      "\n",
      "Capacitor Current = (-0+0.015707963267948967j) \n",
      " Capacitor Current, Polar = (0.015707963267948967, 1.5707963267948966) \n",
      " Angle =  90.0 \n",
      "\n",
      "inductor Current = -0.0015915494309189533j \n",
      " Inductor Current, Polar = (0.0015915494309189533, -1.5707963267948966) \n",
      " Angle =  -90.0 \n",
      "\n",
      "Resistor Current = (0.1+0j) \n",
      " Resistor Current, Polar = (0.1, 0.0) \n",
      " Angle =  0.0 \n",
      "\n"
     ]
    }
   ],
   "source": [
    "# Make sure to use the parallel cell that IS NOT product/sum\n",
    "# Copy and paste cur_ind or cur_cap sections as necessary to account for all components. Some code modifaction/addition may be required.\n",
    "# This cell useful as is for one of each component.\n",
    "# Once previous cells are complete, this will populate automatically EXCEPT for E\n",
    "\n",
    "E = 10                #Equivalent Voltage\n",
    "Z_rect = parallel_comb\n",
    "Z_polar = c.polar(Z_rect)\n",
    "print(\"Z Polar = \",Z_polar,\"\\n\")\n",
    "print(\" Z Rectangular =\",parallel_comb,\"\\n\")\n",
    "\n",
    "cur_source = E/Z_rect\n",
    "cur_source_p = c.polar(cur_source)\n",
    "z=c.phase(cur_source)\n",
    "m.degrees(z)\n",
    "print(\"Source Current =\",cur_source,\"\\n\",\"Source Current, Polar =\",cur_source_p,\"\\n\",\"Angle = \",m.degrees(z),\"\\n\")\n",
    "\n",
    "\n",
    "cur_cap = cur_source*Z_rect/cap\n",
    "cur_cap_p = c.polar(cur_cap)\n",
    "z=c.phase(cur_cap)\n",
    "m.degrees(z)\n",
    "print(\"Capacitor Current =\",cur_cap,\"\\n\",\"Capacitor Current, Polar =\",cur_cap_p,\"\\n\",\"Angle = \",m.degrees(z),\"\\n\")\n",
    "\n",
    "      \n",
    "cur_ind = cur_source*Z_rect/ind\n",
    "cur_ind_p = c.polar(cur_ind)\n",
    "z=c.phase(cur_ind)\n",
    "m.degrees(z)\n",
    "print(\"inductor Current =\",cur_ind,\"\\n\",\"Inductor Current, Polar =\",cur_ind_p,\"\\n\",\"Angle = \",m.degrees(z),\"\\n\")\n",
    "\n",
    "cur_res = cur_source*Z_rect/res\n",
    "cur_res_p = c.polar(cur_res)\n",
    "z=c.phase(cur_res)\n",
    "m.degrees(z)\n",
    "print(\"Resistor Current =\",cur_res,\"\\n\",\"Resistor Current, Polar =\",cur_res_p,\"\\n\",\"Angle = \",m.degrees(z),\"\\n\")\n"
   ]
  },
  {
   "cell_type": "markdown",
   "metadata": {},
   "source": [
    "## Series-Parallel Circuits"
   ]
  },
  {
   "cell_type": "code",
   "execution_count": 13,
   "metadata": {},
   "outputs": [],
   "source": [
    "# Organization cell for component values\n",
    "\n",
    "# Inductors\n",
    "z1 = 200*1j\n",
    "\n",
    "# Resistors\n",
    "z2 = 300\n",
    "z3 = 270\n",
    "\n",
    "#Capacitors\n",
    "z4 = -1500*1j"
   ]
  },
  {
   "cell_type": "code",
   "execution_count": 14,
   "metadata": {},
   "outputs": [
    {
     "name": "stdout",
     "output_type": "stream",
     "text": [
      "Z Rectangular = (111.7846057266418+141.10138457782585j) \n",
      " Z Polar = (180.01499606210666, 0.9008118071374078)\n"
     ]
    }
   ],
   "source": [
    "# This cell is ambiguous with just z values to make it easy to modify. Keep track of z values.\n",
    "# Original Form of equation - parallel_react = 1/(1/z1+1/z2+1/(z3+z4))\n",
    "\n",
    "\n",
    "parallel_react = 1/(1/z1+1/z2+1/(z3+z4))\n",
    "parallel_polar = c.polar(parallel_react)\n",
    "print(\"Z Rectangular =\",parallel_react,\"\\n\",\"Z Polar =\",parallel_polar)"
   ]
  },
  {
   "cell_type": "code",
   "execution_count": null,
   "metadata": {},
   "outputs": [],
   "source": []
  }
 ],
 "metadata": {
  "kernelspec": {
   "display_name": "Python 3",
   "language": "python",
   "name": "python3"
  },
  "language_info": {
   "codemirror_mode": {
    "name": "ipython",
    "version": 3
   },
   "file_extension": ".py",
   "mimetype": "text/x-python",
   "name": "python",
   "nbconvert_exporter": "python",
   "pygments_lexer": "ipython3",
   "version": "3.8.5"
  }
 },
 "nbformat": 4,
 "nbformat_minor": 4
}
