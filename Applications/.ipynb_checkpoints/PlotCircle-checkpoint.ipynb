{
 "cells": [
  {
   "cell_type": "markdown",
   "id": "08278ef9",
   "metadata": {},
   "source": [
    "### Plotting Circles for Mohr's Circle\n",
    "\n",
    "Getting the basics figured out here."
   ]
  },
  {
   "cell_type": "code",
   "execution_count": 1,
   "id": "8e725f97",
   "metadata": {},
   "outputs": [],
   "source": [
    "import numpy as np\n",
    "import matplotlib.pyplot as plt"
   ]
  },
  {
   "cell_type": "code",
   "execution_count": null,
   "id": "1ecd9f72",
   "metadata": {},
   "outputs": [],
   "source": [
    "fig3, ax3 = plt.subplots()\n",
    "ax3.scatter(forcedata, stretchdata,\n",
    "            marker = 'x', color = 'green',\n",
    "            label = \"data\")\n",
    "ax3.plot(modelforce, modelstretch,\n",
    "         color = 'blue', linestyle = ':',\n",
    "         linewidth = 3., label = \"model\")\n",
    "\n",
    "# plot the desired stretch (delta x) from back\n",
    "# at the begining of the notebook\n",
    "ax3.hlines(desired_stretch, 0, 40,\n",
    "         color = 'magenta', linestyle = '-',\n",
    "         linewidth = 2., label = \"maximum stretch of bungee\")\n",
    "\n",
    "# a way to set labels\n",
    "plt.xlabel('Force produced by bungee (N)', fontsize = 10)\n",
    "plt.ylabel('stretch of bungee (m)', fontsize = 10)\n",
    "plt.title('2 m Bungee Cord', fontsize = 20)\n",
    "\n",
    "# set limits for good utility\n",
    "ax1.set_xlim([38,40])\n",
    "ax1.set_ylim([3.1,3.3])\n",
    "fig3.set_size_inches(10, 9)\n",
    "ax3.grid()\n",
    "\n",
    "plt.legend(loc= 2)\n",
    "plt.show()"
   ]
  },
  {
   "cell_type": "code",
   "execution_count": 4,
   "id": "031f6cf0",
   "metadata": {},
   "outputs": [
    {
     "name": "stdout",
     "output_type": "stream",
     "text": [
      "Minimum Normal Stress: -3.82843\n",
      "Maximum Normal Stress: 1.82843\n",
      "Average Normal Stress: -1\n",
      "Minimum Shear Stress: -2.82843\n",
      "Maximum Shear Stress: 2.82843\n"
     ]
    }
   ],
   "source": [
    "\"\"\"Plot Mohr circle for a 2D tensor\"\"\"\n",
    "S = np.array([[1.0, 2.0],[2.0, -3.0]])\n",
    "S11 = S[0][0] \n",
    "S12 = S[0][1] \n",
    "S22 = S[1][1] "
   ]
  },
  {
   "cell_type": "markdown",
   "id": "1029a5ad",
   "metadata": {},
   "source": [
    "### Define Circle Parameters:\n",
    "\n",
    "Center and radius"
   ]
  },
  {
   "cell_type": "code",
   "execution_count": 37,
   "id": "06c9a56e",
   "metadata": {},
   "outputs": [
    {
     "name": "stdout",
     "output_type": "stream",
     "text": [
      "leftLim -5.742640687119286\n",
      "rightLim 2.7426406871192857\n",
      "radius 2.8284271247461903\n",
      "center [-1.0, 0.0]\n"
     ]
    }
   ],
   "source": [
    "angle = np.linspace( 0 , 2 * np.pi , 150 ) \n",
    "center = [(S11 + S22)/2.0, 0.0]\n",
    "radius = np.sqrt((S11 - S22)**2/4.0 + S12**2)\n",
    "circleX = center[0] + radius * np.cos( angle ) \n",
    "circleY = center[1] + radius * np.sin( angle ) \n",
    "\n",
    "# Sort out plotting limits\n",
    "circleXmin = center[0] - radius\n",
    "circleXmax = center[0] + radius\n",
    "\n",
    "# where is circle on grid - span y axis, left of y axis, right of y axis\n",
    "\n",
    "limScale = 1.5 \n",
    "if circleXmin > 0.:\n",
    "    leftLim = -1.\n",
    "    rightLim = limScale*circleXmax\n",
    "else:\n",
    "    if circleXmax < 0.:\n",
    "        rightLim = 1.\n",
    "        leftLim = limScale*circleXmin\n",
    "    else:\n",
    "        leftLim = limScale*circleXmin\n",
    "        rightLim = limScale*circleXmax\n",
    "\n",
    "# debug tools\n",
    "print('leftLim', leftLim)\n",
    "print('rightLim', rightLim)\n",
    "print('radius', radius)\n",
    "print('center', center)\n"
   ]
  },
  {
   "cell_type": "code",
   "execution_count": 41,
   "id": "49d531b8",
   "metadata": {},
   "outputs": [
    {
     "data": {
      "image/png": "[encoded data removed]",
      "text/plain": [
       "<Figure size 720x648 with 1 Axes>"
      ]
     },
     "metadata": {
      "needs_background": "light"
     },
     "output_type": "display_data"
    }
   ],
   "source": [
    "fig1, ax1 = plt.subplots()\n",
    "ax1.plot(circleX, circleY, color = 'red')\n",
    "\n",
    "# a way to set labels\n",
    "plt.xlabel(r\"$\\sigma$\", fontsize = 16)\n",
    "plt.ylabel(r\"$\\tau$\", fontsize = 16)\n",
    "plt.title('Mohrs Circle', fontsize = 20)\n",
    "\n",
    "# set limits for good utility\n",
    "ax1.set_xlim([leftLim,rightLim])\n",
    "ax1.set_aspect('equal') # set aspect ratio so circle looks like a cirle - cool!\n",
    "\n",
    "# reference lines of various sorts\n",
    "ax1.vlines(center[0], -1.1*radius, +1.1*radius,\n",
    "         color = 'black', linestyle = '-',\n",
    "         linewidth = 1. , label = \"average normal stress\")\n",
    "\n",
    "\n",
    "fig1.set_size_inches(10, 9)\n",
    "ax1.grid()\n",
    "\n",
    "#plt.legend(loc= 2)\n",
    "plt.show()"
   ]
  },
  {
   "cell_type": "code",
   "execution_count": null,
   "id": "4df0f009",
   "metadata": {},
   "outputs": [],
   "source": []
  }
 ],
 "metadata": {
  "kernelspec": {
   "display_name": "Python 3",
   "language": "python",
   "name": "python3"
  },
  "language_info": {
   "codemirror_mode": {
    "name": "ipython",
    "version": 3
   },
   "file_extension": ".py",
   "mimetype": "text/x-python",
   "name": "python",
   "nbconvert_exporter": "python",
   "pygments_lexer": "ipython3",
   "version": "3.8.5"
  }
 },
 "nbformat": 4,
 "nbformat_minor": 5
}
