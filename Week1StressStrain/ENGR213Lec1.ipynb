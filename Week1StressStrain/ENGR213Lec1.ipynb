{
 "cells": [
  {
   "cell_type": "markdown",
   "metadata": {},
   "source": [
    "## ENGR 213 Lecture Notes\n",
    "\n",
    "### Lecture 1\n",
    "#### Chapter 1 in Vable\n",
    "\n",
    "Some images in this section are taken from a [OER Statics text](https://engineeringstatics.org/frontmatter-.html) authored by [Daniel Baker at CSU](https://www.engr.colostate.edu/ce/daniel-baker/). My thanks to Daniel for their use."
   ]
  },
  {
   "cell_type": "markdown",
   "metadata": {},
   "source": [
    "### Internal Forces:\n",
    "\n",
    "It is assumed that you remember your work in Statics (ENGR 211) regarding internal forces. The bulk of ENGR 211 is focused on determining reaction forces while setting aside until now the question of internal forces. The method of sections in doing truss analysis is an early example exploring internal forces. Because we are concerned in this class with the behavior of materials within the various parts of the engineering object we need to be attentive to how we approach and think about the internal forces. Note that in many materials there are inhomogeneities that mean the material properties vary with direction as well.\n",
    "\n",
    "Consider the following image of a angle strut. If we the member vertically and consider the freebody diagram of each part the only internal force required by equilibrium is a lateral force. \n",
    "\n",
    "<img src=\"https://raw.githubusercontent.com/smithrockmaker/ENGR213/master/images/dogleg_4.svg\" width=\"800\"/>\n",
    "\n",
    "If we cut the member perpendicular to it's cross section equilibrium will require additional forces.\n",
    "\n",
    "<img src=\"https://raw.githubusercontent.com/smithrockmaker/ENGR213/master/images/dogleg_fbd.png\" width=\"800\"/>\n",
    "\n",
    "Both version are an acurate representation of the forces at the surface where we have 'cut' the object. Fron a labeling perspective we define the three possible forces at a 'cut' as the normal force (often called N or P), a force parallel to the cut identified as the shear force (usually called V), and a possible moment identified as the bending moment (usually called M). These can be thought of as the equivalents of the reaction forces associated with a fixed end.\n",
    "\n",
    "#### Sign Conventions:\n",
    "\n",
    "The (+) sign conventions for the normal, shear, and bending moments are shown below. For this class we will use these conventions. This images use A for the normal force but we will use N to avoid confusion with the area which will shortly become relevant.\n",
    "\n",
    "<img src=\"https://raw.githubusercontent.com/smithrockmaker/ENGR213/master/images/cuts1.png\" width=\"800\"/>\n"
   ]
  },
  {
   "cell_type": "markdown",
   "metadata": {},
   "source": [
    "### Determining Internal Forces:\n",
    "\n",
    "Make a 'cut' through the object the point of interest. While you're at it think about the point just on either side of the location where you cut. Be aware that sometimes there is an abrupt change at the point of interest and sometimes it is merely a point along a continuum. It is assumed that you remember how to do this from ENGR 211. If needed review that material. \n",
    "\n",
    "[Statics Review: Katie Sheldon](https://github.com/smithrockmaker/ENGR213/blob/main/documents/Statics%20Course%20Review.pdf)"
   ]
  },
  {
   "cell_type": "markdown",
   "metadata": {},
   "source": [
    "### Stress (Normal and Shear):\n",
    "#### Chap 1\n",
    "\n",
    "Once we have established the normal and shear forces at some point in the material we can ask how that total force is generated. Based on much experience we are all very aware that the surface area which provides that total force is important. We call the relationship between the force and the area the stress. Stress is usually represented with the greek character $\\sigma$ and is defined as....\n",
    "\n",
    ".$$\\large \\sigma_{ave} = \\frac{N}{A}$$\n",
    "\n",
    "In SI units the normal force is measured in Newtons (N) and the area is measured in $m^2$ giving the units of the stress as $N/m^2$ which are Pascals (Pa). kPa and MPa are common in the mechanics of materials. In customary units stress is measured in $lbs/in^2$ or psi and kilopounds/$in^2$ or ksi. (kips are kilopounds)\n",
    "\n",
    "Normal stress can be either compressive or tensile. Note that our sign convention articulates (+) normal stress as tensile stress.\n",
    "\n",
    "#### Typical Maximum Stress:\n",
    "\n",
    "Table 1.2 gives typical values of the failure stresses for a range of materials. Note that they range from a couple of MPa (for adhesives) to hundreds of MPa for metals (~1 Ksi to 100 ksi). \n",
    "\n",
    "Shear stress is conceptually similar except that the shear force is parallel to surface resisting that stress. To help distinguish normal and shear stress we use different symbols though the units are the same.\n",
    "\n",
    ".$$\\large \\tau_{ave} = \\frac{V}{A}$$\n",
    "\n",
    "Notice that for a given 'cut' the area used to determine the normal stress and the shear stress are the same."
   ]
  },
  {
   "cell_type": "markdown",
   "metadata": {},
   "source": [
    "### Examples of Shear and Normal Failure\n",
    "\n",
    "In any given failure there are often multiple or cascading failure modes. Here is just a small example to get you thinking.\n",
    "\n",
    "<img src=\"https://raw.githubusercontent.com/smithrockmaker/ENGR213/master/images/FailureModes.jpg\" width=\"800\"/>"
   ]
  },
  {
   "cell_type": "markdown",
   "metadata": {},
   "source": [
    "### Allowable Stress: Failure Analysis\n",
    "\n",
    "I am certainly **NOT** qualified to pose as an expert in failure analysis. What is relevant to this class is the idea that solutions to engineering settings that we have explored in previous terms have been focused on finding solutions that lead to static or dynamic solutions that meet our design requirements. When engineering systems fail it is almost always due to a failure of the materials in the engineering setting. Understanding the ways in which the material limits can be exceeded in an engineering design is the point of this course. \n",
    "\n",
    "**Material Variabilty:** Many materials that we work with are not entirely uniform which leads to potential points of failure which are not aligned with the overall material properties. Wood is a common building material that has significant variability. \n",
    "\n",
    "**Anticipated Loads:** The design criteria for an engineering challenge intend to capture the possible external and internal loads of the setting. If those design criteria are exceeded then it is easy to imagine the possible failure of the design. \n",
    "\n",
    "**Change in Use Case:** A solution to a problem can reasonably address material variability and the anticipated loads and then be put into service in a different use case which undoes all the previous work of the engineers. The failure of the O rings in the booster of the Challenger Shuttle was the direct result of putting the rings into service at temperatures below those for which they were designed. There is, of course, more to this story but at it's roots the change in 'Use Case' is at the root of the problem. A similar challenge arises when we use medications (think vaccines) in cases where we haven't tested their risks and efficacy. This is why we are currently uncertain about using the COVID vaccines in younger segments of the population. \n",
    "\n",
    "**Risk Analysis:** You are smart people and you know that in some cases you are forced to make a risk assessment around the possible failure of tool. Risk Analysis is an entire discipline in it's own right and is both fascinating and complicted. \n",
    "\n",
    "#### Allowable Stress/Factor of Safety\n",
    "\n",
    "Factor of Safety (FOS) = $\\large \\frac{\\sigma_{fail}}{\\sigma_{allow}} > 1$\n",
    "\n",
    "Margin of Safety = FOS - 1\n",
    "\n",
    "In some industries and applications the factor of safety is specified by code and in other cases there are general guidelines. Here is a general listing of applicable [factors of safety from the Engineering Toolbox](https://www.engineeringtoolbox.com/factors-safety-fos-d_1624.html)  \n",
    "\n",
    "The general plan is that by choosing an appropriate factor of safety the consequences of a failure are adequately accounted for. \n"
   ]
  },
  {
   "cell_type": "markdown",
   "metadata": {},
   "source": [
    "### Sample Problems:\n",
    "\n",
    "Given that we have an OER text available to everyone I'm not sure that I see the rationale for adding more sample problems to these notes. You'll give feedback I'm sure but for now I'm going to leave these samples blank."
   ]
  },
  {
   "cell_type": "markdown",
   "metadata": {},
   "source": [
    "***\n",
    "### Sample Problem: \n",
    "\n",
    ">A typical model for ....\n",
    "\n",
    "\n",
    "\n",
    "[Solution](https://github.com/smithrockmaker/ENGR213/blob/main/documents/SampleProb1-2.pdf)\n",
    "***"
   ]
  },
  {
   "cell_type": "markdown",
   "metadata": {},
   "source": [
    "### Generalized Stress (non-uniform)\n",
    "\n",
    "As usual we have started by thinking about stress along one direction or around a single axis of rotation. Naturally it must be possible for such stresses to be more complex. If we think of a small cube embedded within the material in question there will be forces acting on each face. On each face we can define a set of three perpendicular axes which completely describe the stress on that face. On each face there are two possible directions of shear stress and one normal stress. On the following image only the stresses on the three nearest faces are shown to avoid confusion.\n",
    "\n",
    "<img src=\"https://raw.githubusercontent.com/smithrockmaker/ENGR213/master/images/generalStress.gif\" width=\"600\"/>\n",
    "\n",
    "It is perhaps relevant to note that the normal stresses are sometimes labeled as $\\sigma_{xx}$ or $\\sigma_{yy}$ to have a consistent notational system. The first index indicates the plane of the surface (defined by the normal to the plane) and the second index indicates the direction of the force producing the stress.\n",
    "\n",
    "These stresses (both normal and shear) form what is called a stress tensor which can be used to describe truly complex 3D behavior in materials that are not homogeneous.\n",
    "\n",
    "<img src=\"https://raw.githubusercontent.com/smithrockmaker/ENGR213/master/images/generalStress.gif\" width=\"600\"/>\n",
    "\n",
    "For axial (1D) forces only $\\sigma_{xx} \\ne 0$. "
   ]
  },
  {
   "cell_type": "markdown",
   "metadata": {},
   "source": [
    "### Warning:\n",
    "\n",
    "In looking at different texts and presentations of this material I feel compelled to note that the conventions for normal and shear stress that we will use are not universal. It makes lots of sense from a learning perspective to distinguish between normal and shear stress at this point. For this reason we"
   ]
  }
 ],
 "metadata": {
  "kernelspec": {
   "display_name": "Python 3",
   "language": "python",
   "name": "python3"
  },
  "language_info": {
   "codemirror_mode": {
    "name": "ipython",
    "version": 3
   },
   "file_extension": ".py",
   "mimetype": "text/x-python",
   "name": "python",
   "nbconvert_exporter": "python",
   "pygments_lexer": "ipython3",
   "version": "3.8.5"
  }
 },
 "nbformat": 4,
 "nbformat_minor": 4
}
