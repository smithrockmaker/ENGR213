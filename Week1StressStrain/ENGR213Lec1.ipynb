{
 "cells": [
  {
   "cell_type": "markdown",
   "metadata": {},
   "source": [
    "## ENGR 213 Lecture Notes\n",
    "\n",
    "### Lecture 1\n",
    "#### Chapter 1 in Vable\n",
    "\n",
    "Some images in this section are taken from a [OER Statics text](https://engineeringstatics.org/frontmatter-.html) authored by [Daniel Baker at CSU](https://www.engr.colostate.edu/ce/daniel-baker/). My thanks to Daniel for their use."
   ]
  },
  {
   "cell_type": "markdown",
   "metadata": {},
   "source": [
    "### Internal Forces:\n",
    "\n",
    "It is assumed that you remember your work in Statics (ENGR 211) regarding internal forces. The bulk of ENGR 211 is focused on determining reaction forces while setting aside until now the question of internal forces. The method of sections in doing truss analysis is an early example exploring internal forces. Because we are concerned in this class with the behavior of materials within the various parts of the engineering object we need to be attentive to how we approach and think about the internal forces. Note that in many materials there are inhomogeneities that mean the material properties vary with direction as well.\n",
    "\n",
    "Consider the following image of a angle strut. If we the member vertically and consider the freebody diagram of each part the only internal force required by equilibrium is a lateral force. \n",
    "\n",
    "<img src=\"https://raw.githubusercontent.com/smithrockmaker/ENGR213/master/images/dogleg_4.svg\" width=\"800\"/>\n",
    "\n",
    "If we cut the member perpendicular to it's cross section equilibrium will require additional forces.\n",
    "\n",
    "<img src=\"https://raw.githubusercontent.com/smithrockmaker/ENGR213/master/images/dogleg_fbd.png\" width=\"800\"/>\n",
    "\n",
    "Both version are an acurate representation of the forces at the surface where we have 'cut' the object. Fron a labeling perspective we define the three possible forces at a 'cut' as the normal force (often called N or P), a force parallel to the cut identified as the shear force (usually called V), and a possible moment identified as the bending moment (usually called M). These can be thought of as the equivalents of the reaction forces associated with a fixed end.\n",
    "\n",
    "#### Sign Conventions:\n",
    "\n",
    "The (+) sign conventions for the normal, shear, and bending moments are shown below. For this class we will use these conventions.\n",
    "\n",
    "<img src=\"https://raw.githubusercontent.com/smithrockmaker/ENGR213/master/images/cuts1.png\" width=\"800\"/>\n"
   ]
  },
  {
   "cell_type": "markdown",
   "metadata": {},
   "source": [
    "### Determining Internal Forces:\n",
    "\n",
    "Make a 'cut' through the object the point of interest. While you're at it think about the point just on either side of the location where you cut. Be aware that sometimes there is an abrupt change at the point of interest and sometimes it is merely a point along a continuum."
   ]
  },
  {
   "cell_type": "markdown",
   "metadata": {},
   "source": [
    "### Stress\n",
    "#### Chap 1\n",
    "\n",
    "\n",
    "\n",
    "\n",
    "#### Position: **$\\vec{r}$**  \n",
    "\n"
   ]
  },
  {
   "cell_type": "markdown",
   "metadata": {},
   "source": [
    "### Allowable Stress: Failure Analysis\n",
    "\n",
    "I am certainly **NOT** qualified to pose as an expert in failure analysis. What is relevant to this class is the idea that solutions to engineering settings that we have explored in previous terms have been focused on finding solutions that lead to static or dynamic solutions that meet our design requirements. When engineering systems fail it is almost always due to a failure of the materials in the engineering setting. Understanding the ways in which the material limits can be exceeded in an engineering design is the point of this course. \n",
    "\n",
    "**Material Variabilty:** Many materials that we work with are not entirely uniform which leads to potential points of failure which are not aligned with the overall material properties. Wood is a common building material that has significant variability. \n",
    "\n",
    "**Anticipated Loads:** The design criteria for an engineering challenge intend to capture the possible external and internal loads of the setting. If those design criteria are exceeded then it is easy to imagine the possible failure of the design. \n",
    "\n",
    "**Change in Use Case:** A solution to a problem can reasonably address material variability and the anticipated loads and then be put into service in a different use case which undoes all the previous work of the engineers. The failure of the O rings in the booster of the Challenger Shuttle was the direct result of putting the rings into service at temperatures below those for which they were designed. There is, of course, more to this story but at it's roots the change in 'Use Case' is at the root of the problem. A similar challenge arises when we use medications (think vaccines) in cases where we haven't tested their risks and efficacy. This is why we are currently uncertain about using the COVID vaccines in younger segments of the population. \n",
    "\n",
    "**Risk Analysis:** You are smart people and you know that in some cases you are forced to make a risk assessment around the possible failure of tool. Risk Analysis is an entire discipline in it's own right and is both fascinating and complicted. \n",
    "\n",
    "#### Allowable Stress/Factor of Safety\n",
    "\n",
    "Factor of Safety (FOS) = $\\large \\frac{\\sigma_{fail}}{\\sigma_{allow}} > 1$\n",
    "\n",
    "Margin of Safety = FOS - 1\n",
    "\n",
    "In some industries and applications the factor of safety is specified by code and in other cases there are general guidelines. Here is a general listing of applicable [factors of safety from the Engineering Toolbox](https://www.engineeringtoolbox.com/factors-safety-fos-d_1624.html)  \n",
    "\n",
    "The general plan is that by choosing an appropriate factor of safety the consequences of a failure are adequately accounted for. \n"
   ]
  },
  {
   "cell_type": "markdown",
   "metadata": {},
   "source": [
    "***\n",
    "### Sample Problem: a(v)\n",
    "\n",
    ">A typical model for a falling object with a parachute is \n",
    "\n",
    "$$\\large a = g - D v^2$$\n",
    "\n",
    ">where g is the downward acceleration due to gravity and $D v^2$ is upward acceleration due to air drag. Assume the object falls freely through the atmosphere of the planet at 35 m/s until the parachute opens. The terminal velocity of the object after the parachute opens is 6 m/s. \n",
    "\n",
    "1. What are the units and magnitude of D (the 'drag coefficient')?\n",
    "2. What is the maximum value of the drag term?\n",
    "3. What is the downward velocity of the object 4.5 m after the parachute has opened?\n",
    "\n",
    "[Solution](https://github.com/smithrockmaker/ENGR212/blob/main/documents/SampleProb1-2.pdf)\n",
    "***"
   ]
  },
  {
   "cell_type": "markdown",
   "metadata": {},
   "source": [
    "***\n",
    "### Sample Problem: a(s)\n",
    "\n",
    ">No real world relevance to this problem. Imagine you have an object whose acceleration is given by the expression \n",
    "\n",
    "$$\\large a = 1.0 - 4 s^2 $$\n",
    "\n",
    ">..in $m/s^2$. At s = 0 the object has a velocity v = 2.0 m/s. \n",
    "\n",
    "1. Where is the object when it first stops?\n",
    "2. What is the velocity of the object when s = 0.5 m? \n",
    "\n",
    "\n",
    "[Solution](https://github.com/smithrockmaker/ENGR212/blob/main/documents/SampleProb1-3.pdf)\n",
    "***"
   ]
  }
 ],
 "metadata": {
  "kernelspec": {
   "display_name": "Python 3",
   "language": "python",
   "name": "python3"
  },
  "language_info": {
   "codemirror_mode": {
    "name": "ipython",
    "version": 3
   },
   "file_extension": ".py",
   "mimetype": "text/x-python",
   "name": "python",
   "nbconvert_exporter": "python",
   "pygments_lexer": "ipython3",
   "version": "3.8.5"
  }
 },
 "nbformat": 4,
 "nbformat_minor": 4
}
