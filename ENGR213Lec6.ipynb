{
 "cells": [
  {
   "cell_type": "markdown",
   "id": "becbc851",
   "metadata": {},
   "source": [
    "## ENGR 213 Lecture Notes\n",
    "\n",
    "### Lecture 6\n",
    "#### Chapter 5 in Vable\n",
    "\n",
    "The limiting factor for many drive systems are the torsional (shear) forces on drive shafts of various kinds. This material is an introduction to how we describe the behavior of drive shafts in a range of circumstances."
   ]
  },
  {
   "cell_type": "markdown",
   "id": "8689121b",
   "metadata": {},
   "source": [
    "### Torsion on Cylinder\n",
    "\n",
    "A cylindrical shaft subject to pure torsion (moment) distorts as illustrated below.\n",
    "\n",
    "<img src=\"https://raw.githubusercontent.com/smithrockmaker/ENGR213/master/images/rubberShaft.jpg\" width=\"600\"/>\n",
    "\n",
    "What you can see is that the individual elements on the surface of the cylinder distort as it they are subject to a pure shear force. As one goes 'deeper' into the cylinder the amount of distortion is less because we are closer to the axis of rotation. This will mean that the shear stresses are not uniform on any circular cross section of the cylinder."
   ]
  },
  {
   "cell_type": "markdown",
   "id": "cc01e633",
   "metadata": {},
   "source": [
    "### Strain in Torsion:\n",
    "\n",
    "Remember that we descibe shear strain using $\\gamma$ which descibes the angular change in the corner of the element due to the shear stresses.  Some form of the following graphic are used to develop a description of the shear strain though the specific labels vary.\n",
    "\n",
    "<img src=\"https://raw.githubusercontent.com/smithrockmaker/ENGR213/master/images/torsionStrain.png\" width=\"600\"/>\n",
    "\n",
    "It is worth taking a little time to try and visualize what is happening here. I used this image because it make the relationship between $\\gamma$ and where you are within the cylinder more clear. On the axis of the cylinder there has been NO distortion $d\\phi$ and not surprisingly $\\gamma_{r=0}=0$ at that point. As we move out from the axis of the cylinder $\\gamma$ increases to some maximum value value $\\gamma_{max}$ at the surface of the cylinder. Perhaps you notice that $\\gamma_{max}$ at the surface is the same regardless of the distance from the far end. Assuming the angle is small we notice \n",
    "\n",
    ".$$\\large tan(\\gamma_{max}) = \\frac{c\\: \\phi}{L} \\implies \\gamma \\approx \\frac{c\\: \\phi}{L}$$\n",
    "\n",
    "If the material is uniform than we can notice that $\\frac{c\\: \\phi}{L}$ is the slope of the line (asssuming x is in the direction of L) which allows us to say...\n",
    "\n",
    ".$$\\large \\gamma_{max} = c \\frac{d\\phi}{dx} \\implies \\frac{d\\phi}{dx} =\\frac{\\gamma_{max}}{c}$$\n",
    "\n",
    "...and...\n",
    "\n",
    ".$$\\large \\gamma_{r<c} = r \\frac{d\\phi}{dx}$$\n",
    "\n",
    "which leads to....\n",
    "\n",
    ".$$\\large \\gamma_{r<c} = r \\frac{\\gamma_{max}}{c} = \\frac{r}{c}\\: \\gamma_{max}$$\n",
    "\n",
    "Be sure this makes sense intuitively."
   ]
  },
  {
   "cell_type": "code",
   "execution_count": null,
   "id": "2ffe21d8",
   "metadata": {},
   "outputs": [],
   "source": []
  },
  {
   "cell_type": "code",
   "execution_count": null,
   "id": "ad0056f5",
   "metadata": {},
   "outputs": [],
   "source": []
  }
 ],
 "metadata": {
  "kernelspec": {
   "display_name": "Python 3",
   "language": "python",
   "name": "python3"
  },
  "language_info": {
   "codemirror_mode": {
    "name": "ipython",
    "version": 3
   },
   "file_extension": ".py",
   "mimetype": "text/x-python",
   "name": "python",
   "nbconvert_exporter": "python",
   "pygments_lexer": "ipython3",
   "version": "3.8.5"
  }
 },
 "nbformat": 4,
 "nbformat_minor": 5
}
