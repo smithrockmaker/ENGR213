{
 "cells": [
  {
   "cell_type": "markdown",
   "id": "0f43b4b9",
   "metadata": {},
   "source": [
    "## ENGR 213 Lecture Notes\n",
    "\n",
    "### Lecture 6\n",
    "#### Chapter 5 in Vable\n",
    "\n",
    "The limiting factor for many drive systems are the torsional (shear) forces on drive shafts of various kinds. This material is an introduction to how we describe the behavior of drive shafts in a range of circumstances."
   ]
  },
  {
   "cell_type": "code",
   "execution_count": null,
   "id": "f235dc68",
   "metadata": {},
   "outputs": [],
   "source": []
  }
 ],
 "metadata": {
  "kernelspec": {
   "display_name": "Python 3",
   "language": "python",
   "name": "python3"
  },
  "language_info": {
   "codemirror_mode": {
    "name": "ipython",
    "version": 3
   },
   "file_extension": ".py",
   "mimetype": "text/x-python",
   "name": "python",
   "nbconvert_exporter": "python",
   "pygments_lexer": "ipython3",
   "version": "3.8.5"
  }
 },
 "nbformat": 4,
 "nbformat_minor": 5
}
