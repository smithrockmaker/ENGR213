{
 "cells": [
  {
   "cell_type": "markdown",
   "id": "6a72b742",
   "metadata": {},
   "source": [
    "## ENGR 213 Lecture Notes\n",
    "\n",
    "### Lecture 7\n",
    "#### Chapter 6 Section 6.4 in Vable\n",
    "\n",
    "For the study of beams which are ubiquitous in engineering shear and moment diagrams are the equivalent of freebody diagrams. Section 6.4 reviews the tools which you may remember from ENGR 211 where 'we' usually imagine you have learned about this. "
   ]
  },
  {
   "cell_type": "markdown",
   "id": "bfc5e7b2",
   "metadata": {},
   "source": [
    "### Shear and Moment Diagrams: Review from ENGR211\n",
    "\n",
    "The following image arguably incapsulates everything you need to know. As suggested by this image one starts by solving for all the reactions on the beam using your skills from ENGR 211. After that you cut the beam at various 'thoughtful' points and insert the internal shear, normal, and moment forces. Typically there are no normal forces on a simply supported beam but in some cases it is relevant. The image indicates the sign conventions for (+) shear forces and moments the right end of a cut. IF you are cutting the beam on the left end both shear and moment are reversed for (+) signs.\n",
    "\n",
    "<img src=\"https://raw.githubusercontent.com/smithrockmaker/ENGR213/master/images/BeamCuts.png\" width=\"400\"/>"
   ]
  },
  {
   "cell_type": "markdown",
   "id": "7fdc9f20",
   "metadata": {},
   "source": [
    "### Learning Resources:\n",
    "\n",
    "This topic is discussed in a seemingly infinite number of videos and other resources on the web. I will link here a number of videos which may be helpful. Because the videos may disappear I will also link to a pdf of a set of power point slides that are saved in the github. \n",
    "\n",
    "#### Videos:\n",
    "\n",
    "The tutorials on the [Engineer4Free](https://www.youtube.com/channel/UCFS_EnwXR7m_c1IyePCPhYA) youtube channel seem well done to me although there are others. The [Structural Analysis](https://www.youtube.com/playlist?list=PLOAuB8dR35oe8lcGo-ic-f5HdxpXEanvb) playlist starts with a series of 10 presentations of shear and moment diagrams. I think that you'll be reminded of the process after even one but there are examples of all of the typical beam loadings and applied forces and moments if you need references. Start with the [first video here](https://www.youtube.com/watch?v=DhWPVEStMug&list=PLOAuB8dR35oe8lcGo-ic-f5HdxpXEanvb&index=1)\n",
    "\n",
    "#### Slides:\n",
    "\n",
    "[Basic Shear/Moment Diagrams (21 slides)](https://github.com/smithrockmaker/ENGR213/blob/main/documents/ShearMoment1.pdf)\n",
    "\n"
   ]
  },
  {
   "cell_type": "markdown",
   "id": "bc828f10",
   "metadata": {},
   "source": [
    "### Relationship Between Shear and Moment:\n",
    "\n",
    "Perhaps you will notice just looking at example shear and moment diagrams that there is a relationship between the features of the shear and moment diagrams. \n",
    "\n",
    ".$$\\large V = - \\frac{dM}{dx}$$\n",
    "\n",
    "It is always worth a quick check when you're done drawing the diagram to be sure that this relationship is met. \n",
    "\n",
    "#### Steps and Discontinuities in the Diagram:\n",
    "\n",
    "The other conceptual features that you will want to internalize are the steps in the shear diagram due to any point loads. These steps are in the same direction as the actual load on the beam. These steps in the shear diagram produce a 'corner' in the moment diagram which is a discontinuity in the slope.\n",
    "\n",
    "Any external couples/moments applied to the beam lead to a step in the moment diagram. "
   ]
  },
  {
   "cell_type": "markdown",
   "id": "d9cc00fd",
   "metadata": {},
   "source": []
  },
  {
   "cell_type": "code",
   "execution_count": null,
   "id": "f2ec0b6b",
   "metadata": {},
   "outputs": [],
   "source": []
  }
 ],
 "metadata": {
  "kernelspec": {
   "display_name": "Python 3",
   "language": "python",
   "name": "python3"
  },
  "language_info": {
   "codemirror_mode": {
    "name": "ipython",
    "version": 3
   },
   "file_extension": ".py",
   "mimetype": "text/x-python",
   "name": "python",
   "nbconvert_exporter": "python",
   "pygments_lexer": "ipython3",
   "version": "3.8.5"
  }
 },
 "nbformat": 4,
 "nbformat_minor": 5
}
