{
 "cells": [
  {
   "cell_type": "markdown",
   "id": "fc6c6deb",
   "metadata": {},
   "source": [
    "## ENGR 213 Lecture Notes\n",
    "\n",
    "### Lecture 7\n",
    "#### Chapter 6 Section 6.4 in Vable\n",
    "\n",
    "For the study of beams which are ubiquitous in engineering shear and moment diagrams are the equivalent of freebody diagrams. Section 6.4 reviews the tools which you may remember from ENGR 211 where we usually imagine you have learned about this. "
   ]
  },
  {
   "cell_type": "markdown",
   "id": "2dd0fbeb",
   "metadata": {},
   "source": [
    "### Shear and Moment Diagrams: Review from ENGR211\n",
    "\n"
   ]
  },
  {
   "cell_type": "markdown",
   "id": "468cda06",
   "metadata": {},
   "source": [
    "### Learning Resources:\n",
    "\n",
    "This topic is discussed in a seemingly infinite number of videos and other resources on the web. I will link here a number of videos which may be helpful. Because the videos may disappear I will also link to a pdf of a set of power point slides that are saved in the github. \n",
    "\n",
    "#### Videos:\n",
    "\n",
    "The tutorials on the [Engineer4Free](https://www.youtube.com/channel/UCFS_EnwXR7m_c1IyePCPhYA) youtube channel seem well done to me although there are others. The [Structural Analysis](https://www.youtube.com/playlist?list=PLOAuB8dR35oe8lcGo-ic-f5HdxpXEanvb) playlist starts with a series of 10 presentations of shear and moment diagrams. I think that you'll be reminded of the process after even one but there are examples of all of the typical beam loadings and applied forces and moments if you need references. \n",
    "\n",
    "#### Slides:\n",
    "\n"
   ]
  },
  {
   "cell_type": "code",
   "execution_count": null,
   "id": "e509b7d7",
   "metadata": {},
   "outputs": [],
   "source": []
  }
 ],
 "metadata": {
  "kernelspec": {
   "display_name": "Python 3",
   "language": "python",
   "name": "python3"
  },
  "language_info": {
   "codemirror_mode": {
    "name": "ipython",
    "version": 3
   },
   "file_extension": ".py",
   "mimetype": "text/x-python",
   "name": "python",
   "nbconvert_exporter": "python",
   "pygments_lexer": "ipython3",
   "version": "3.8.5"
  }
 },
 "nbformat": 4,
 "nbformat_minor": 5
}
