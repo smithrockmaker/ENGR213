{
 "cells": [
  {
   "cell_type": "markdown",
   "id": "35710513",
   "metadata": {},
   "source": [
    "## ENGR 213 Lecture Notes\n",
    "\n",
    "### Lecture 6\n",
    "#### Chapter 5 in Vable\n",
    "\n",
    "The limiting factor for many drive systems are the torsional (shear) forces on drive shafts of various kinds. This material is an introduction to how we describe the behavior of drive shafts in a range of circumstances."
   ]
  },
  {
   "cell_type": "markdown",
   "id": "67f23f48",
   "metadata": {},
   "source": [
    "### Torsion on Cylinder\n",
    "\n",
    "A cylindrical shaft subject to pure torsion (moment) distorts as illustrated below.\n",
    "\n",
    "<img src=\"https://raw.githubusercontent.com/smithrockmaker/ENGR213/master/images/rubberShaft.jpg\" width=\"600\"/>\n",
    "\n",
    "What you can see is that the individual elements on the surface of the cylinder distort as it they are subject to a pure shear force. As one goes 'deeper' into the cylinder the amount of distortion is less because we are closer to the axis of rotation. This will mean that the shear stresses are not uniform on any circular cross section of the cylinder."
   ]
  },
  {
   "cell_type": "markdown",
   "id": "5270ff29",
   "metadata": {},
   "source": [
    "### Strain in Torsion:\n",
    "\n",
    "Remember that we descibe shear strain using $\\gamma$ which descibes the angular change in the corner of the element due to the shear stresses.  Some form of the following graphic are used to develop a description of the shear strain though the specific labels vary.\n",
    "\n",
    "<img src=\"https://raw.githubusercontent.com/smithrockmaker/ENGR213/master/images/torsionStrain.png\" width=\"%00\"/>\n",
    "\n",
    "It is worth taking a little time to try and visualize what is happening here. I used this image because it make the relationship between $\\gamma$ and where you are within the cylinder more clear. On the axis of the cylinder there has been NO distortion $d\\phi$ and not surprisingly $\\gamma_{r=0}=0$ at that point. As we move out from the axis of the cylinder $\\gamma$ increases to some maximum value value $\\gamma_{max}$ at the surface of the cylinder. Perhaps you notice that $\\gamma_{max}$ at the surface is the same regardless of the distance from the far end. Assuming the angle is small we notice \n",
    "\n",
    ".$$\\large tan(\\gamma_{max}) = \\frac{c\\: \\phi}{L} \\implies \\gamma \\approx \\frac{c\\: \\phi}{L}$$\n",
    "\n",
    "If the material is uniform than we can notice that $\\frac{c\\: \\phi}{L}$ is the slope of the line (asssuming x is in the direction of L) which allows us to say...\n",
    "\n",
    ".$$\\large \\gamma_{max} = c \\frac{d\\phi}{dx} \\implies \\frac{d\\phi}{dx} =\\frac{\\gamma_{max}}{c}$$\n",
    "\n",
    "...and...\n",
    "\n",
    ".$$\\large \\gamma_{r<c} = r \\frac{d\\phi}{dx}$$\n",
    "\n",
    "which leads to....\n",
    "\n",
    ".$$\\large \\gamma_{r<c} = r \\frac{\\gamma_{max}}{c} = \\frac{r}{c}\\: \\gamma_{max}$$\n",
    "\n",
    "Be sure this makes sense intuitively."
   ]
  },
  {
   "cell_type": "markdown",
   "id": "3403a3c2",
   "metadata": {},
   "source": [
    "### Shear Stress in Cylinder:\n",
    "\n",
    "For small distortions of the cylinder we assume we are within the proportional region for the material where....\n",
    "\n",
    ".$$\\large \\tau = G\\:\\gamma$$\n",
    "\n",
    "Substituting our previous expression for $\\gamma$ we get...\n",
    "\n",
    ".$$\\large \\tau = G\\:[ \\frac{r}{c}\\: \\gamma_{max}] =  \\frac{r}{c} (G\\:\\gamma_{max}) = \\frac{r}{c} \\tau_{max}$$\n",
    "\n",
    "Remember that in this expression c is the radius of the cylinder under torsion and r is the distance from the axis of the cylinder. In Vable's text c = R and r = $\\rho$ so it looks slightly different.\n",
    "\n",
    ".$$\\large \\tau = \\frac{r}{c} \\tau_{max} = \\frac{\\rho}{R} \\tau_{max} = G\\:\\rho\\: \\frac{d\\phi}{dx}$$\n",
    "\n",
    "Notice that this means the shear stress ($\\tau$) is not uniform and depends on the distance from the axis of the cylinder as shown below.\n",
    "\n",
    "<img src=\"https://raw.githubusercontent.com/smithrockmaker/ENGR213/master/images/shearStressCyl.png\" width=\"600\"/>\n"
   ]
  },
  {
   "cell_type": "markdown",
   "id": "a4ec9f56",
   "metadata": {},
   "source": [
    "### Total Torque on Cylinder:\n",
    "  \n",
    "In physics we typically use greek symbols to indicate rotational variables ($\\theta$, $\\omega$, $\\alpha$). Torque in physics are customarily indicated with $\\tau$ which would create confusion here because $\\tau$ is used to indicate shear stress. In statics we used the language of moments  where $M_A$ indicates a moment (torque) around to point A. In Vable's text he chooses to use $T_{ext}$ to describe an external torque that produces the twisting of a drive shaft. (So many symbols to keep straight!)\n",
    "\n",
    "Remembering the definition of shear stress..\n",
    "\n",
    ".$$\\large \\tau = V/A$$\n",
    "\n",
    "Consider that for the cylinder under torsion the shear stress varies with distance from the center AND the area over which the stress is applied also varies with radius. Thinking of the definition of torque and applying it to a small cross sectional area of the cylinder we can say....\n",
    "\n",
    ".$$\\large dT = \\rho\\: dV = \\rho\\: [\\tau(\\rho) \\: dA]$$\n",
    "\n",
    "This leads us to a general expression for the external torque applied to the shaft.\n",
    "\n",
    ".$$\\large T_{total} = \\int_{\\rho_0}^{\\rho_{max}} \\rho\\: \\tau\\: dA$$\n",
    "\n",
    "As you would expect that same torque applied to tubes will have different stress distributions than the same torque applied to solid cylinders. As we previously described the shear stress can be written...\n",
    "\n",
    ".$$\\large \\tau =  G\\:\\rho\\: \\frac{d\\phi}{dx}$$\n",
    "\n",
    "If we substitute this expression into the expression for the total torque we get....\n",
    "\n",
    ".$$\\large T_{total} = \\int_{\\rho_0}^{\\rho_{max}} \\rho\\: [G\\:\\rho\\: \\frac{d\\phi}{dx}]\\: dA$$\n",
    "\n",
    "Asssuming G is constant (homogeneous materials) and noting that $\\frac{d\\phi}{dx}$ is also constant we can pull them out of the integral to get...\n",
    "\n",
    ".$$\\large T_{total} = G\\frac{d\\phi}{dx}\\int_{\\rho_0}^{\\rho_{max}} \\rho^2\\: dA$$"
   ]
  },
  {
   "cell_type": "markdown",
   "id": "ea17375c",
   "metadata": {},
   "source": [
    "### Polar Moment of Intertia:\n",
    "\n",
    "As we briefly discussed in Dynamics the moment of inertia is a way of descibing the way in which physically spread out objects resist torques as we attempt to accelerate them. The **polar moment of inertia**, sometimes called the polar moment of area, has a similar interpretation. The standard symbol for the polar moment of inertia is $J$ and it's units are $m^4$. $J$ is defined as...\n",
    "\n",
    ".$$\\large J = \\int_{\\rho_0}^{\\rho_{max}} \\rho^2\\: dA$$\n",
    "\n",
    "This depends only on the geometry of the shaft and there are a couple of typical geometries which will turn up over and over again. Solid cylinders and tubes are the obvious settings. For solid cylinders (like a bolt I am trying to twist) have $J$ given by\n",
    "\n",
    ".$$\\large J_{solid} = \\frac{\\pi}{2}\\: R_{cylinder}^4 = \\frac{\\pi}{32}\\: D_{cylinder}^4$$\n",
    "\n",
    "Not surprisingly a tube with an inner and outer radius has a $J$ given by....\n",
    "\n",
    ".$$\\large J_{tube} = \\frac{\\pi}{2}\\: [R_{outer}^4-R_{inner}^4] $$\n",
    "\n",
    "Hopefully you can see that for any cylindrical shaft made of different materials we can determine $J$ by superposition of the individual $J$'s."
   ]
  },
  {
   "cell_type": "markdown",
   "id": "980db38e",
   "metadata": {},
   "source": [
    "### Twisting of Shafts:\n",
    "\n",
    "Returning to our previous expression for the torque on a shaft we can now write..\n",
    "\n",
    ".$$\\large T_{total} = G\\frac{d\\phi}{dx}\\int_{\\rho_0}^{\\rho_{max}} \\rho^2\\: dA = G\\: J\\:\\frac{d\\phi}{dx}$$\n",
    "\n",
    "...which can be rearranged to give....\n",
    "\n",
    ".$$\\large \\frac{d\\phi}{dx} = \\frac{T_{ext}}{G\\: J}$$\n",
    "\n",
    "Conceptually I think of $\\frac{d\\phi}{dx}$ as the angular twist of the shaft over some distance. If we pull apart the derivative we get the rotational equivalent of our axial displacement equation...\n",
    "\n",
    ".$$\\large \\frac{\\Delta \\phi}{\\Delta x} = \\frac{T_{ext}}{G\\: J}$$\n",
    "\n",
    ".$$\\large \\Delta \\phi = \\delta_{\\theta} = \\frac{T_{ext} {\\Delta x}}{G\\: J}\\: \\approx  \\frac{N\\: L}{E\\: A}$$\n",
    "\n",
    "We can also rewrite the shear stress at any distance from the center of the shaft as \n",
    "\n",
    ".$$\\large \\tau = \\frac{T_{ext}\\: \\rho}{J}$$\n",
    "\n",
    "You will notice that the maximum shear stress occurs at the largest radius (the outer edge) as you would expect.\n",
    "\n",
    "These expressions allow us to determine the maximum allowable torque if we know the maximum shear stress that material can support without yielding. We can also determine the maximum shear stress for a given applied torque."
   ]
  },
  {
   "cell_type": "markdown",
   "id": "313efad8",
   "metadata": {},
   "source": [
    "### Power and Torque:\n",
    "\n",
    "These topics are not discussed in Vable CH5 but seem worth noting. Let's walk through this conceptually. Work, or energy, is moved by applying a force over a distance. The angular equivalent for a force is a torque and an angular displacement is the equivalent of a displacment. \n",
    "\n",
    ".$$\\large W_{AB} = \\bar{F} \\cdot \\Delta \\bar{x}_{AB} \\implies W_{\\theta} = \\bar{T} \\cdot \\Delta \\bar{\\theta}$$\n",
    "\n",
    "Power is the rate at which work is done and as you would expect this is a derivative with respect to time. Noting that the torque vector and the angular position vector lie along the axis of rotation this means that the 'dot' product gives $cos(0) = 1$ we can write the expression for power in scalar form as...\n",
    "\n",
    ".$$\\large P = \\frac{dW}{dt} = \\frac{d}{dt} T\\: \\theta = T\\frac{d\\theta}{dt} = T\\:\\omega$$\n",
    "\n",
    "This means if we want our drive shaft to deliver a certain amount of power the torque on the shaft needed to do so will depend on how fast the shaft is rotating. \n",
    "\n",
    ".$$\\large T_{required} = \\frac{P_{desired}}{\\omega_{shaft}}$$\n",
    "\n",
    "Perhaps you notice that this means that if we try to deliver power as we start moving a shaft the torque is very large and reduces as the shaft starts to spin. In the days when cars had clutchs people were more conscious of the high torque (resistance) when starting a drive shaft from rest."
   ]
  },
  {
   "cell_type": "markdown",
   "id": "6329cb88",
   "metadata": {},
   "source": [
    "### Example 5.6 (Vable):\n",
    "\n",
    "This example is a good representation of the sort of problems that you are likely to encounter in a range of engineering settings. \n",
    "\n",
    "<img src=\"https://raw.githubusercontent.com/smithrockmaker/ENGR213/master/images/Example5-6.jpg\" width=\"600\"/>\n",
    "\n",
    "The solid circular steel shaft ($G_{shear} = 12\\cdot10^3$ ksi) is subject to the torques shown. The smaller shafts (AB and CD) are 2\" in diameter while the central shaft is 4\" in diameter.\n",
    "\n",
    "Like a column with various axial loads we can determine the angular displacements, maximum shear stress, and make a torque diagram along the drive shaft. The discussion in Vable is pretty clear so I won't reproduce it here.\n"
   ]
  },
  {
   "cell_type": "code",
   "execution_count": null,
   "id": "db14271e",
   "metadata": {},
   "outputs": [],
   "source": []
  }
 ],
 "metadata": {
  "kernelspec": {
   "display_name": "Python 3",
   "language": "python",
   "name": "python3"
  },
  "language_info": {
   "codemirror_mode": {
    "name": "ipython",
    "version": 3
   },
   "file_extension": ".py",
   "mimetype": "text/x-python",
   "name": "python",
   "nbconvert_exporter": "python",
   "pygments_lexer": "ipython3",
   "version": "3.8.5"
  }
 },
 "nbformat": 4,
 "nbformat_minor": 5
}
