{
 "cells": [
  {
   "cell_type": "markdown",
   "id": "351bb4c7",
   "metadata": {},
   "source": [
    "## Useful Tables:\n",
    "\n",
    "As we move into beam bending that are a range of tables that are useful for finding centroids, moments of inertia, and deflections. Such tables will be consolidated here in addition to the lecture notes for ease of use."
   ]
  },
  {
   "cell_type": "markdown",
   "id": "6701f893",
   "metadata": {},
   "source": [
    "### Centroids/Areas of Useful Shapes"
   ]
  },
  {
   "cell_type": "markdown",
   "id": "ef5b09f8",
   "metadata": {},
   "source": [
    "<img src=\"https://raw.githubusercontent.com/smithrockmaker/ENGR213/master/images/areaCentroid.png\" width=\"400\"/>"
   ]
  },
  {
   "cell_type": "markdown",
   "id": "10c42b5c",
   "metadata": {},
   "source": [
    "### Neutral Axis Calculation"
   ]
  },
  {
   "cell_type": "markdown",
   "id": "ded4b135",
   "metadata": {},
   "source": [
    "<img src=\"https://raw.githubusercontent.com/smithrockmaker/ENGR213/master/images/beamCentroidEx.png\" width=\"600\"/>"
   ]
  },
  {
   "cell_type": "markdown",
   "id": "b70bc265",
   "metadata": {},
   "source": [
    "### Planar Moments of Inertia: (second moment)"
   ]
  },
  {
   "cell_type": "markdown",
   "id": "e6ef9d6b",
   "metadata": {},
   "source": [
    "<img src=\"https://raw.githubusercontent.com/smithrockmaker/ENGR213/master/images/momentBeamInertia.jpg\" width=\"400\"/>"
   ]
  },
  {
   "cell_type": "markdown",
   "id": "622162c6",
   "metadata": {},
   "source": [
    "<img src=\"https://raw.githubusercontent.com/smithrockmaker/ENGR213/master/images/momentInertiaPlane.png\" width=\"400\"/>"
   ]
  },
  {
   "cell_type": "markdown",
   "id": "f06fae18",
   "metadata": {},
   "source": [
    "<img src=\"https://raw.githubusercontent.com/smithrockmaker/ENGR212/master/images/momentInertia.jpg\" />"
   ]
  },
  {
   "cell_type": "markdown",
   "id": "2e5116c4",
   "metadata": {},
   "source": [
    "### Parallel Axis Examples:"
   ]
  },
  {
   "cell_type": "markdown",
   "id": "f28fe60d",
   "metadata": {},
   "source": [
    "<img src=\"https://raw.githubusercontent.com/smithrockmaker/ENGR213/master/images/parallelAxisEx.jpg\" width=\"600\"/>"
   ]
  },
  {
   "cell_type": "markdown",
   "id": "076b61a7",
   "metadata": {},
   "source": [
    "### Meaning of Terms in Q for Shear Stress:"
   ]
  },
  {
   "cell_type": "markdown",
   "id": "08a08752",
   "metadata": {},
   "source": [
    "<img src=\"https://raw.githubusercontent.com/smithrockmaker/ENGR213/master/images/beamQDef.png\" width=\"300\"/>"
   ]
  },
  {
   "cell_type": "code",
   "execution_count": null,
   "id": "73aa43b5",
   "metadata": {},
   "outputs": [],
   "source": []
  }
 ],
 "metadata": {
  "kernelspec": {
   "display_name": "Python 3",
   "language": "python",
   "name": "python3"
  },
  "language_info": {
   "codemirror_mode": {
    "name": "ipython",
    "version": 3
   },
   "file_extension": ".py",
   "mimetype": "text/x-python",
   "name": "python",
   "nbconvert_exporter": "python",
   "pygments_lexer": "ipython3",
   "version": "3.8.5"
  }
 },
 "nbformat": 4,
 "nbformat_minor": 5
}
