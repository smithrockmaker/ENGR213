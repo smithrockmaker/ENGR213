{
 "cells": [
  {
   "cell_type": "markdown",
   "id": "f26a02d4",
   "metadata": {},
   "source": [
    "### Centroids/Areas of Useful Shapes"
   ]
  },
  {
   "cell_type": "markdown",
   "id": "ac168f54",
   "metadata": {},
   "source": [
    "<img src=\"https://raw.githubusercontent.com/smithrockmaker/ENGR213/master/images/areaCentroid.png\" width=\"400\"/>"
   ]
  },
  {
   "cell_type": "markdown",
   "id": "41e3f4c2",
   "metadata": {},
   "source": [
    "### Neutral Axis Calculation"
   ]
  },
  {
   "cell_type": "markdown",
   "id": "a90d6598",
   "metadata": {},
   "source": [
    "<img src=\"https://raw.githubusercontent.com/smithrockmaker/ENGR213/master/images/beamCentroidEx.png\" width=\"600\"/>"
   ]
  },
  {
   "cell_type": "markdown",
   "id": "95b7d159",
   "metadata": {},
   "source": [
    "### Planar Moments of Inertia: (second moment)"
   ]
  },
  {
   "cell_type": "markdown",
   "id": "abd5c5a7",
   "metadata": {},
   "source": [
    "<img src=\"https://raw.githubusercontent.com/smithrockmaker/ENGR213/master/images/momentBeamInertia.jpg\" width=\"400\"/>"
   ]
  },
  {
   "cell_type": "markdown",
   "id": "8d90ce55",
   "metadata": {},
   "source": [
    "<img src=\"https://raw.githubusercontent.com/smithrockmaker/ENGR213/master/images/momentInertiaPlane.png\" width=\"400\"/>"
   ]
  },
  {
   "cell_type": "markdown",
   "id": "f6e9eeb1",
   "metadata": {},
   "source": [
    "<img src=\"https://raw.githubusercontent.com/smithrockmaker/ENGR212/master/images/momentInertia.jpg\" />"
   ]
  },
  {
   "cell_type": "markdown",
   "id": "80b1ab03",
   "metadata": {},
   "source": [
    "### Parallel Axis Examples:"
   ]
  },
  {
   "cell_type": "markdown",
   "id": "68347d69",
   "metadata": {},
   "source": [
    "<img src=\"https://raw.githubusercontent.com/smithrockmaker/ENGR213/master/images/parallelAxisEx.jpg\" width=\"400\"/>"
   ]
  },
  {
   "cell_type": "markdown",
   "id": "f43aa973",
   "metadata": {},
   "source": [
    "### Meaning of Terms in Q for Shear Stress:"
   ]
  },
  {
   "cell_type": "markdown",
   "id": "720b0da9",
   "metadata": {},
   "source": [
    "<img src=\"https://raw.githubusercontent.com/smithrockmaker/ENGR213/master/images/beamQDef.png\" width=\"300\"/>"
   ]
  },
  {
   "cell_type": "code",
   "execution_count": null,
   "id": "54ade373",
   "metadata": {},
   "outputs": [],
   "source": []
  }
 ],
 "metadata": {
  "kernelspec": {
   "display_name": "Python 3",
   "language": "python",
   "name": "python3"
  },
  "language_info": {
   "codemirror_mode": {
    "name": "ipython",
    "version": 3
   },
   "file_extension": ".py",
   "mimetype": "text/x-python",
   "name": "python",
   "nbconvert_exporter": "python",
   "pygments_lexer": "ipython3",
   "version": "3.8.5"
  }
 },
 "nbformat": 4,
 "nbformat_minor": 5
}
