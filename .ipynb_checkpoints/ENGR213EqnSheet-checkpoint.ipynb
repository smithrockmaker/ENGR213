{
 "cells": [
  {
   "cell_type": "markdown",
   "metadata": {},
   "source": [
    "## Equation Sheet for ENGR 213\n",
    "\n",
    "Again, there are a lot of equations for this class. The difference is that they are mostly new to us in this context. In addition many of these equations different ways to describe the same setting depending on the data we have. This makes it a little different than past classes and is sometimes confusing as you try to choose which tool is useful and/or relevant."
   ]
  },
  {
   "cell_type": "markdown",
   "metadata": {},
   "source": [
    "### Stress:\n",
    "\n",
    ". $$\\large v(t) = \\frac{ds(t)}{dt}$$"
   ]
  }
 ],
 "metadata": {
  "kernelspec": {
   "display_name": "Python 3",
   "language": "python",
   "name": "python3"
  },
  "language_info": {
   "codemirror_mode": {
    "name": "ipython",
    "version": 3
   },
   "file_extension": ".py",
   "mimetype": "text/x-python",
   "name": "python",
   "nbconvert_exporter": "python",
   "pygments_lexer": "ipython3",
   "version": "3.8.5"
  }
 },
 "nbformat": 4,
 "nbformat_minor": 4
}
