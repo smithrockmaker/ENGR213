{
 "cells": [
  {
   "cell_type": "markdown",
   "id": "2e6e0a7e",
   "metadata": {},
   "source": [
    "## ENGR 213 Lecture Notes\n",
    "\n",
    "### Lecture 10\n",
    "#### Shear Stress:\n",
    "\n",
    "Now that we have some sense of shear and moment diagrams and how they relate to the normal stresses across the face of a cross section of a beam it's time to add another layer to our thinking. An important characteristic of the normal stress across the cross section of a beam is that it is **NOT** constant. That means that there are different normal forces between adjacent longitudinal slices of the beam. This results in what are called **longitudinal shear** forces that can also lead to failure of the beam. Be sure to distinguish the longitudinal shear forces from transverse shear forces which are perpendicular to the axis of the beam.\n",
    "\n",
    "<img src=\"https://raw.githubusercontent.com/smithrockmaker/ENGR213/main/images/beamBendingVisual.jpg\" width=\"600\"/>"
   ]
  },
  {
   "cell_type": "markdown",
   "id": "0b04796c",
   "metadata": {},
   "source": [
    "### Longitudinal Shear: Conceptual\n",
    "\n",
    "If you think of a beam as being made up of a lot of thin layers of the material the concept of transverse shear is relatively apparent. Take a stack of paper and flex the stack (bending a beam) and notice that the ends of the paper stick out relative to each other. This illustrates that the individual layers of paper have slipped (sheared) relative to each other. If the stack of paper were a solid block then the individual layers would be prevented from slipping leading to shear stress between the layers. A simplified illustration is shown below.\n",
    "\n",
    "<img src=\"https://raw.githubusercontent.com/smithrockmaker/ENGR213/master/images/beamLongitudinalShear.jpg\" width=\"600\"/>\n"
   ]
  },
  {
   "cell_type": "markdown",
   "id": "71eb77a9",
   "metadata": {},
   "source": [
    "### Shear Formula\n",
    "\n",
    "The derivation of the shear formula is pretty cool but quite complex and I'm not sure how much it adds to our understanding. Like many of the formulae we have developed it involves considering a small cross section of the beam and slicing it parallel to the axis of beam. Then it's just a 'simple' matter of setting the sum of the forces and moments to 0 and solving for the shear stress.\n",
    "\n",
    "The **shear formula** is deceptively simple. Knowing meaning of each term and how to determine it is the challenge.\n",
    "\n",
    ".$$\\large \\tau_{longitudinal} = \\tau = \\frac{V\\: Q}{I\\: t}$$\n",
    "\n",
    "V: V is the transverse shear force at the particular cross section we are considering. Note that this means that any point on the shear diagram where V = 0 there are no longitudinal shear stresses anywhere along that cross section.\n",
    "\n",
    "I: I is the 2nd moment of inertia around the neutral axis of the cross section of the beam. This is the same moment of inertia we used in the flexure formula for normal stresses in the beam. Nothing new here.\n",
    "\n",
    "t: t is the width of the shear surface. In general this is the width of the beam at the location of interest. Note that because it is in the denominator of the expression the shear stress is higher where the beam is narrower, typically on the vertical web.\n",
    "\n",
    "Q: Q is the first moment of the area above the shear surface we are interested in. Consider the graphic below...\n",
    "\n",
    "<img src=\"https://raw.githubusercontent.com/smithrockmaker/ENGR213/master/images/beamQDef.png\" width=\"300\"/>\n",
    "\n",
    "For simple geometries $Q = y_s A_s$ while more generally...\n",
    "\n",
    ".$$\\large Q = \\int_{y_{shear}}^{y_{max}} dA = y_s A_s$$\n",
    "\n",
    "Notice that Q is **NOT** 0 for the neutral axis because $y_s$ is the distance from then neutral axis to the centroid of the area above the shear surface. In fact, Q reaches it's maximum value at the neutral axis (an interesting proof to consider). \n"
   ]
  },
  {
   "cell_type": "markdown",
   "id": "58a49354",
   "metadata": {},
   "source": [
    "#### Conceptually:\n",
    "\n",
    "An important conceptual feature is that the shear stress is generally a maximum on the neutral axis. This is precisely the opposite of the normal stress in a beam. \n",
    "\n",
    "#### Beam Design:\n",
    "\n",
    "I don't have a great personal sense of the relationship between the shear strength of materials used in beams vs the normal strength. The fact that it is generally prudent to put holes through floor joists (a wooden I beam) at the neutral axis is a suggestion that shear stresses are not the primary concern (see image below). \n",
    "\n",
    "<img src=\"https://raw.githubusercontent.com/smithrockmaker/ENGR213/master/images/TJIPenetrations.png\" width=\"600\"/>\n",
    "\n",
    "A clear counterexample are  wooden beams made up of laminates of smaller stock (called glulams) where the shear stresses on the glue joints can lead to delamination of the beams. Here's a related example that suggests shear failure though it might be more complex.\n",
    "\n",
    "<img src=\"https://raw.githubusercontent.com/smithrockmaker/ENGR213/master/images/beamDelamination.jpg\" width=\"600\"/>"
   ]
  },
  {
   "cell_type": "code",
   "execution_count": null,
   "id": "bf3dc898",
   "metadata": {},
   "outputs": [],
   "source": []
  }
 ],
 "metadata": {
  "kernelspec": {
   "display_name": "Python 3",
   "language": "python",
   "name": "python3"
  },
  "language_info": {
   "codemirror_mode": {
    "name": "ipython",
    "version": 3
   },
   "file_extension": ".py",
   "mimetype": "text/x-python",
   "name": "python",
   "nbconvert_exporter": "python",
   "pygments_lexer": "ipython3",
   "version": "3.8.5"
  }
 },
 "nbformat": 4,
 "nbformat_minor": 5
}
