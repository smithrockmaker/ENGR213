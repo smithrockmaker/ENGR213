{
 "cells": [
  {
   "cell_type": "markdown",
   "id": "ca0f4f4f",
   "metadata": {},
   "source": [
    "## ENGR 213 Lecture Notes\n",
    "\n",
    "### Lecture 11\n",
    "#### Shear Flow:\n",
    "\n",
    "Stress, whether shear or normal, has units of Force/area. This is a useful way of thinking about the strength of the material resisting that stress because it clear responds to the effect of increasing surface area. A common engineering situation that is different is the case of beam sections which are attached to each other with fastners like nails or rivets. In such a circumstance the internal forces are resisted by point loads in some sense. Shear flow is a conceptual tool that applies in this context. Here is an example...\n",
    "\n",
    "<img src=\"https://raw.githubusercontent.com/smithrockmaker/ENGR213/master/images/beamNailedEx.png\" width=\"400\"/>"
   ]
  },
  {
   "cell_type": "markdown",
   "id": "f83ef503",
   "metadata": {},
   "source": [
    "### Shear Flow:\n",
    "\n",
    "Considering the nailed beam above the shear stress along the boundary between the sections of the beam nailed together is given by our longitudinal shear stress expression...\n",
    "\n",
    ".$$\\large \\tau = \\frac{V\\: Q}{I\\: t}$$\n",
    "\n",
    "It could be noted that the $\\frac{V\\: Q}{I}$ terms have units of force/length. This term is what we define as $q$ the **shear flow**.\n",
    "\n",
    ".$$\\large \\tau = \\frac{q}{t} \\rightarrow q = \\frac{V\\: Q}{I}$$\n",
    "\n",
    "While we might usually calculate q directly we should also note that if we know the shear stress we can just multiply by the width of the shear surface. \n",
    "\n",
    ".$$\\large q = \\frac{V\\: Q}{I} = \n",
    "\\tau\\: t$$\n",
    "\n",
    "The shear force resisted by the nails is given by..\n",
    "\n",
    ".$$\\large q_{nailed} = \\frac{\\frac{F_{max}}{nail}}{\\frac{spacing}{nail}}$$\n",
    "\n",
    "Comparing the shear flow provided by the nails to the shear flow required due to the beam stresses allows us to determine the spacing of the nails."
   ]
  },
  {
   "cell_type": "markdown",
   "id": "ae468e27",
   "metadata": {},
   "source": [
    "### Example: Box Beam (Nailed)\n",
    "\n",
    "Example 6.18 in Vable is clearly a classic since it pops up in lots of other ted"
   ]
  }
 ],
 "metadata": {
  "kernelspec": {
   "display_name": "Python 3",
   "language": "python",
   "name": "python3"
  },
  "language_info": {
   "codemirror_mode": {
    "name": "ipython",
    "version": 3
   },
   "file_extension": ".py",
   "mimetype": "text/x-python",
   "name": "python",
   "nbconvert_exporter": "python",
   "pygments_lexer": "ipython3",
   "version": "3.8.5"
  }
 },
 "nbformat": 4,
 "nbformat_minor": 5
}
