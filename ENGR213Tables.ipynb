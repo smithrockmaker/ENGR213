{
 "cells": [
  {
   "cell_type": "markdown",
   "id": "09bbc161",
   "metadata": {},
   "source": [
    "## Useful Tables:\n",
    "\n",
    "As we move into beam bending that are a range of tables that are useful for finding centroids, moments of inertia, and deflections. Such tables will be consolidated here in addition to the lecture notes for ease of use."
   ]
  },
  {
   "cell_type": "markdown",
   "id": "2457cafd",
   "metadata": {},
   "source": [
    "### Centroids/Areas of Useful Shapes"
   ]
  },
  {
   "cell_type": "markdown",
   "id": "00c96144",
   "metadata": {},
   "source": [
    "<img src=\"https://raw.githubusercontent.com/smithrockmaker/ENGR213/master/images/areaCentroid.png\" width=\"400\"/>"
   ]
  },
  {
   "cell_type": "markdown",
   "id": "5c04c231",
   "metadata": {},
   "source": [
    "### Neutral Axis Calculation"
   ]
  },
  {
   "cell_type": "markdown",
   "id": "d586f284",
   "metadata": {},
   "source": [
    "<img src=\"https://raw.githubusercontent.com/smithrockmaker/ENGR213/master/images/beamCentroidEx.png\" width=\"600\"/>"
   ]
  },
  {
   "cell_type": "markdown",
   "id": "3bd32a09",
   "metadata": {},
   "source": [
    "### Planar Moments of Inertia: (second moment)"
   ]
  },
  {
   "cell_type": "markdown",
   "id": "a0dd343e",
   "metadata": {},
   "source": [
    "<img src=\"https://raw.githubusercontent.com/smithrockmaker/ENGR213/master/images/momentBeamInertia.jpg\" width=\"400\"/>"
   ]
  },
  {
   "cell_type": "markdown",
   "id": "5361f86b",
   "metadata": {},
   "source": [
    "<img src=\"https://raw.githubusercontent.com/smithrockmaker/ENGR213/master/images/momentInertiaPlane.png\" width=\"400\"/>"
   ]
  },
  {
   "cell_type": "markdown",
   "id": "79cb7941",
   "metadata": {},
   "source": [
    "<img src=\"https://raw.githubusercontent.com/smithrockmaker/ENGR212/master/images/momentInertia.jpg\" />"
   ]
  },
  {
   "cell_type": "markdown",
   "id": "b2deffbf",
   "metadata": {},
   "source": [
    "### Parallel Axis Examples:"
   ]
  },
  {
   "cell_type": "markdown",
   "id": "f4014ecc",
   "metadata": {},
   "source": [
    "<img src=\"https://raw.githubusercontent.com/smithrockmaker/ENGR213/master/images/parallelAxisEx.jpg\" width=\"600\"/>"
   ]
  },
  {
   "cell_type": "markdown",
   "id": "4e073c2a",
   "metadata": {},
   "source": [
    "### Meaning of Terms in Q for Shear Stress:"
   ]
  },
  {
   "cell_type": "markdown",
   "id": "89cb1e5d",
   "metadata": {},
   "source": [
    "<img src=\"https://raw.githubusercontent.com/smithrockmaker/ENGR213/master/images/beamQDef.png\" width=\"300\"/>"
   ]
  },
  {
   "cell_type": "markdown",
   "id": "7d35ed4a",
   "metadata": {},
   "source": [
    "### Beam Deflection Table:\n",
    "\n",
    "<img src=\"https://raw.githubusercontent.com/smithrockmaker/ENGR213/main/images/deflectionTable.png\" width=\"800\"/>"
   ]
  },
  {
   "cell_type": "code",
   "execution_count": null,
   "id": "209cde90",
   "metadata": {},
   "outputs": [],
   "source": []
  },
  {
   "cell_type": "code",
   "execution_count": null,
   "id": "1076fb02",
   "metadata": {},
   "outputs": [],
   "source": []
  }
 ],
 "metadata": {
  "kernelspec": {
   "display_name": "Python 3",
   "language": "python",
   "name": "python3"
  },
  "language_info": {
   "codemirror_mode": {
    "name": "ipython",
    "version": 3
   },
   "file_extension": ".py",
   "mimetype": "text/x-python",
   "name": "python",
   "nbconvert_exporter": "python",
   "pygments_lexer": "ipython3",
   "version": "3.8.5"
  }
 },
 "nbformat": 4,
 "nbformat_minor": 5
}
