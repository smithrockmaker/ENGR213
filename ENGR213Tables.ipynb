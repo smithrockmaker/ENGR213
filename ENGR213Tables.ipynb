{
 "cells": [
  {
   "cell_type": "markdown",
   "id": "a80d147b",
   "metadata": {},
   "source": [
    "### Centroids/Areas of Useful Shapes"
   ]
  },
  {
   "cell_type": "markdown",
   "id": "d5869924",
   "metadata": {},
   "source": [
    "<img src=\"https://raw.githubusercontent.com/smithrockmaker/ENGR213/master/images/areaCentroid.png\" width=\"400\"/>"
   ]
  },
  {
   "cell_type": "markdown",
   "id": "c1691666",
   "metadata": {},
   "source": [
    "### Neutral Axis Calculation"
   ]
  },
  {
   "cell_type": "markdown",
   "id": "e0e1c780",
   "metadata": {},
   "source": [
    "<img src=\"https://raw.githubusercontent.com/smithrockmaker/ENGR213/master/images/beamCentroidEx.png\" width=\"600\"/>"
   ]
  },
  {
   "cell_type": "markdown",
   "id": "a42a2437",
   "metadata": {},
   "source": [
    "### Planar Moments of Inertia: (second moment)"
   ]
  },
  {
   "cell_type": "markdown",
   "id": "ffba0d2c",
   "metadata": {},
   "source": [
    "<img src=\"https://raw.githubusercontent.com/smithrockmaker/ENGR213/master/images/momentBeamInertia.jpg\" width=\"400\"/>"
   ]
  },
  {
   "cell_type": "markdown",
   "id": "2e68f151",
   "metadata": {},
   "source": [
    "<img src=\"https://raw.githubusercontent.com/smithrockmaker/ENGR213/master/images/momentInertiaPlane.png\" width=\"400\"/>"
   ]
  },
  {
   "cell_type": "markdown",
   "id": "531bb21e",
   "metadata": {},
   "source": [
    "<img src=\"https://raw.githubusercontent.com/smithrockmaker/ENGR212/master/images/momentInertia.jpg\" />"
   ]
  },
  {
   "cell_type": "markdown",
   "id": "469149ca",
   "metadata": {},
   "source": [
    "### Parallel Axis Examples:"
   ]
  },
  {
   "cell_type": "markdown",
   "id": "671aaf1b",
   "metadata": {},
   "source": [
    "<img src=\"https://raw.githubusercontent.com/smithrockmaker/ENGR213/master/images/parallelAxisEx.jpg\" width=\"600\"/>"
   ]
  },
  {
   "cell_type": "markdown",
   "id": "130880fc",
   "metadata": {},
   "source": [
    "### Meaning of Terms in Q for Shear Stress:"
   ]
  },
  {
   "cell_type": "markdown",
   "id": "f1ab5201",
   "metadata": {},
   "source": [
    "<img src=\"https://raw.githubusercontent.com/smithrockmaker/ENGR213/master/images/beamQDef.png\" width=\"300\"/>"
   ]
  },
  {
   "cell_type": "code",
   "execution_count": null,
   "id": "395b8ebd",
   "metadata": {},
   "outputs": [],
   "source": []
  }
 ],
 "metadata": {
  "kernelspec": {
   "display_name": "Python 3",
   "language": "python",
   "name": "python3"
  },
  "language_info": {
   "codemirror_mode": {
    "name": "ipython",
    "version": 3
   },
   "file_extension": ".py",
   "mimetype": "text/x-python",
   "name": "python",
   "nbconvert_exporter": "python",
   "pygments_lexer": "ipython3",
   "version": "3.8.5"
  }
 },
 "nbformat": 4,
 "nbformat_minor": 5
}
