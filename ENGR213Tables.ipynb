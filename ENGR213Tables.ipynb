{
 "cells": [
  {
   "cell_type": "markdown",
   "id": "3e816ad1",
   "metadata": {},
   "source": [
    "### Centroids/Areas of Useful Shapes"
   ]
  },
  {
   "cell_type": "markdown",
   "id": "f2281e1f",
   "metadata": {},
   "source": [
    "<img src=\"https://raw.githubusercontent.com/smithrockmaker/ENGR213/master/images/areaCentroid.png\" width=\"400\"/>"
   ]
  },
  {
   "cell_type": "markdown",
   "id": "978d161e",
   "metadata": {},
   "source": [
    "### Neutral Axis Calculation"
   ]
  },
  {
   "cell_type": "markdown",
   "id": "ec92202e",
   "metadata": {},
   "source": [
    "<img src=\"https://raw.githubusercontent.com/smithrockmaker/ENGR213/master/images/beamCentroidEx.png\" width=\"600\"/>"
   ]
  },
  {
   "cell_type": "markdown",
   "id": "c36ab412",
   "metadata": {},
   "source": [
    "### Planar Moments of Inertia: (second moment)"
   ]
  },
  {
   "cell_type": "markdown",
   "id": "65465943",
   "metadata": {},
   "source": [
    "<img src=\"https://raw.githubusercontent.com/smithrockmaker/ENGR213/master/images/momentBeamInertia.jpg\" width=\"400\"/>"
   ]
  },
  {
   "cell_type": "markdown",
   "id": "b09a9f88",
   "metadata": {},
   "source": [
    "<img src=\"https://raw.githubusercontent.com/smithrockmaker/ENGR213/master/images/momentInertiaPlane.png\" width=\"400\"/>"
   ]
  },
  {
   "cell_type": "markdown",
   "id": "bb4bb1f2",
   "metadata": {},
   "source": [
    "<img src=\"https://raw.githubusercontent.com/smithrockmaker/ENGR212/master/images/momentInertia.jpg\" />"
   ]
  },
  {
   "cell_type": "markdown",
   "id": "0d29142a",
   "metadata": {},
   "source": [
    "### Parallel Axis Examples:"
   ]
  },
  {
   "cell_type": "markdown",
   "id": "f5025dc2",
   "metadata": {},
   "source": [
    "<img src=\"https://raw.githubusercontent.com/smithrockmaker/ENGR213/master/images/parallelAxisEx.jpg\" width=\"400\"/>"
   ]
  },
  {
   "cell_type": "markdown",
   "id": "91130557",
   "metadata": {},
   "source": [
    "### Meaning of Terms in Q for Shear Stress:"
   ]
  },
  {
   "cell_type": "markdown",
   "id": "92c28aa3",
   "metadata": {},
   "source": [
    "<img src=\"https://raw.githubusercontent.com/smithrockmaker/ENGR213/master/images/beamQDef.png\" width=\"300\"/>"
   ]
  },
  {
   "cell_type": "code",
   "execution_count": null,
   "id": "fc214c2e",
   "metadata": {},
   "outputs": [],
   "source": []
  }
 ],
 "metadata": {
  "kernelspec": {
   "display_name": "Python 3",
   "language": "python",
   "name": "python3"
  },
  "language_info": {
   "codemirror_mode": {
    "name": "ipython",
    "version": 3
   },
   "file_extension": ".py",
   "mimetype": "text/x-python",
   "name": "python",
   "nbconvert_exporter": "python",
   "pygments_lexer": "ipython3",
   "version": "3.8.5"
  }
 },
 "nbformat": 4,
 "nbformat_minor": 5
}
